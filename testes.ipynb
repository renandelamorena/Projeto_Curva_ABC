{
 "cells": [
  {
   "cell_type": "code",
   "execution_count": 1,
   "metadata": {},
   "outputs": [],
   "source": [
    "import streamlit as st\n",
    "import pandas as pd\n",
    "import plotly.express as px\n",
    "import plotly.graph_objects as go\n",
    "import os\n",
    "from itertools import combinations\n",
    "from decimal import Decimal\n",
    "\n",
    "pd.set_option('display.max_columns', None)"
   ]
  },
  {
   "cell_type": "code",
   "execution_count": 2,
   "metadata": {},
   "outputs": [],
   "source": [
    "def caminho_absoluto(caminho_relativo_com_barras_normais):\n",
    "    \n",
    "    caminho_base = os.getcwd()\n",
    "\n",
    "    caminho_absoluto = os.path.join(caminho_base, caminho_relativo_com_barras_normais)\n",
    "\n",
    "    return caminho_absoluto"
   ]
  },
  {
   "cell_type": "code",
   "execution_count": 3,
   "metadata": {},
   "outputs": [],
   "source": [
    "situacao_final = pd.read_excel(caminho_absoluto('data/tratamento_curva_abc/dados_tratados/situacao_final.xlsx')).set_index('Ordem')\n",
    "local_frac = pd.read_excel(caminho_absoluto('data/analise_curva_abc/local/datasets/local_apanha_frac.xlsx'))"
   ]
  },
  {
   "cell_type": "code",
   "execution_count": 210,
   "metadata": {},
   "outputs": [],
   "source": [
    "armazenagens = pd.read_excel(caminho_absoluto('data/tratamento_curva_abc/datasets/armazenagens.xlsx'))\n",
    "armazenagens_estoque = pd.read_excel(caminho_absoluto('data/tratamento_curva_abc/datasets/armazenagens_estoque.xlsx'))\n",
    "armazenagens_estoque.fillna('-', inplace=True)"
   ]
  },
  {
   "cell_type": "code",
   "execution_count": 4,
   "metadata": {},
   "outputs": [
    {
     "data": {
      "text/html": [
       "<div>\n",
       "<style scoped>\n",
       "    .dataframe tbody tr th:only-of-type {\n",
       "        vertical-align: middle;\n",
       "    }\n",
       "\n",
       "    .dataframe tbody tr th {\n",
       "        vertical-align: top;\n",
       "    }\n",
       "\n",
       "    .dataframe thead th {\n",
       "        text-align: right;\n",
       "    }\n",
       "</style>\n",
       "<table border=\"1\" class=\"dataframe\">\n",
       "  <thead>\n",
       "    <tr style=\"text-align: right;\">\n",
       "      <th></th>\n",
       "      <th>Código</th>\n",
       "      <th>Descrição</th>\n",
       "      <th>Curva Frac</th>\n",
       "      <th>Curva Cx</th>\n",
       "      <th>Curva Geral</th>\n",
       "      <th>Qtde Venda Frac</th>\n",
       "      <th>Qtde Venda Cx</th>\n",
       "      <th>Qtde Venda Geral</th>\n",
       "      <th>Dias Pedido Frac</th>\n",
       "      <th>Dias Pedido Cx</th>\n",
       "      <th>Dias Pedido Geral</th>\n",
       "      <th>Ativ.Ressupr.Frac</th>\n",
       "      <th>Ativ.Ressupr.Cx</th>\n",
       "      <th>Ativ.Ressupr.Geral</th>\n",
       "      <th>Média por dia frac</th>\n",
       "      <th>Média por dia cx</th>\n",
       "      <th>Média por dia geral</th>\n",
       "      <th>Estoque Armaz.</th>\n",
       "      <th>Ender.Cx.Fechada</th>\n",
       "      <th>Estoque Cx</th>\n",
       "      <th>Capacidade Cx</th>\n",
       "      <th>Embal.</th>\n",
       "      <th>Estoque Frac</th>\n",
       "      <th>Capacidade Frac</th>\n",
       "      <th>Permite Frac.</th>\n",
       "      <th>Ender.Fracionado</th>\n",
       "      <th>Tipo</th>\n",
       "      <th>Qtde Desvio Picking</th>\n",
       "      <th>local</th>\n",
       "    </tr>\n",
       "    <tr>\n",
       "      <th>Ordem</th>\n",
       "      <th></th>\n",
       "      <th></th>\n",
       "      <th></th>\n",
       "      <th></th>\n",
       "      <th></th>\n",
       "      <th></th>\n",
       "      <th></th>\n",
       "      <th></th>\n",
       "      <th></th>\n",
       "      <th></th>\n",
       "      <th></th>\n",
       "      <th></th>\n",
       "      <th></th>\n",
       "      <th></th>\n",
       "      <th></th>\n",
       "      <th></th>\n",
       "      <th></th>\n",
       "      <th></th>\n",
       "      <th></th>\n",
       "      <th></th>\n",
       "      <th></th>\n",
       "      <th></th>\n",
       "      <th></th>\n",
       "      <th></th>\n",
       "      <th></th>\n",
       "      <th></th>\n",
       "      <th></th>\n",
       "      <th></th>\n",
       "      <th></th>\n",
       "    </tr>\n",
       "  </thead>\n",
       "  <tbody>\n",
       "    <tr>\n",
       "      <th>1</th>\n",
       "      <td>106011</td>\n",
       "      <td>NARIDRIN 12 HORAS FR C/30ML</td>\n",
       "      <td>A</td>\n",
       "      <td>A</td>\n",
       "      <td>A</td>\n",
       "      <td>279389.0</td>\n",
       "      <td>6507.0</td>\n",
       "      <td>930089.0</td>\n",
       "      <td>271.0</td>\n",
       "      <td>251.0</td>\n",
       "      <td>274.0</td>\n",
       "      <td>1490.0</td>\n",
       "      <td>164.0</td>\n",
       "      <td>1490.0</td>\n",
       "      <td>1030.9557</td>\n",
       "      <td>25.9243</td>\n",
       "      <td>3394.4854</td>\n",
       "      <td>5057</td>\n",
       "      <td>016-037-01-02</td>\n",
       "      <td>50</td>\n",
       "      <td>2</td>\n",
       "      <td>100</td>\n",
       "      <td>387</td>\n",
       "      <td>500</td>\n",
       "      <td>Não</td>\n",
       "      <td>29.913</td>\n",
       "      <td>Ponta De G</td>\n",
       "      <td>3236.0</td>\n",
       "      <td>pallet</td>\n",
       "    </tr>\n",
       "  </tbody>\n",
       "</table>\n",
       "</div>"
      ],
      "text/plain": [
       "       Código                    Descrição Curva Frac Curva Cx Curva Geral  \\\n",
       "Ordem                                                                        \n",
       "1      106011  NARIDRIN 12 HORAS FR C/30ML          A        A           A   \n",
       "\n",
       "       Qtde Venda Frac  Qtde Venda Cx  Qtde Venda Geral  Dias Pedido Frac  \\\n",
       "Ordem                                                                       \n",
       "1             279389.0         6507.0          930089.0             271.0   \n",
       "\n",
       "       Dias Pedido Cx  Dias Pedido Geral  Ativ.Ressupr.Frac  Ativ.Ressupr.Cx  \\\n",
       "Ordem                                                                          \n",
       "1               251.0              274.0             1490.0            164.0   \n",
       "\n",
       "       Ativ.Ressupr.Geral  Média por dia frac  Média por dia cx  \\\n",
       "Ordem                                                             \n",
       "1                  1490.0           1030.9557           25.9243   \n",
       "\n",
       "       Média por dia geral  Estoque Armaz. Ender.Cx.Fechada Estoque Cx  \\\n",
       "Ordem                                                                    \n",
       "1                3394.4854            5057    016-037-01-02         50   \n",
       "\n",
       "       Capacidade Cx  Embal.  Estoque Frac  Capacidade Frac Permite Frac.  \\\n",
       "Ordem                                                                       \n",
       "1                  2     100           387              500           Não   \n",
       "\n",
       "       Ender.Fracionado        Tipo  Qtde Desvio Picking   local  \n",
       "Ordem                                                             \n",
       "1                29.913  Ponta De G               3236.0  pallet  "
      ]
     },
     "execution_count": 4,
     "metadata": {},
     "output_type": "execute_result"
    }
   ],
   "source": [
    "situacao_final.iloc[[0]]"
   ]
  },
  {
   "cell_type": "code",
   "execution_count": 5,
   "metadata": {},
   "outputs": [
    {
     "data": {
      "text/html": [
       "<div>\n",
       "<style scoped>\n",
       "    .dataframe tbody tr th:only-of-type {\n",
       "        vertical-align: middle;\n",
       "    }\n",
       "\n",
       "    .dataframe tbody tr th {\n",
       "        vertical-align: top;\n",
       "    }\n",
       "\n",
       "    .dataframe thead th {\n",
       "        text-align: right;\n",
       "    }\n",
       "</style>\n",
       "<table border=\"1\" class=\"dataframe\">\n",
       "  <thead>\n",
       "    <tr style=\"text-align: right;\">\n",
       "      <th></th>\n",
       "      <th>Ender.Fracionado</th>\n",
       "      <th>modulo</th>\n",
       "      <th>local</th>\n",
       "    </tr>\n",
       "  </thead>\n",
       "  <tbody>\n",
       "    <tr>\n",
       "      <th>0</th>\n",
       "      <td>29.011</td>\n",
       "      <td>1</td>\n",
       "      <td>AB</td>\n",
       "    </tr>\n",
       "  </tbody>\n",
       "</table>\n",
       "</div>"
      ],
      "text/plain": [
       "   Ender.Fracionado  modulo local\n",
       "0            29.011       1    AB"
      ]
     },
     "execution_count": 5,
     "metadata": {},
     "output_type": "execute_result"
    }
   ],
   "source": [
    "local_frac.iloc[[0]]"
   ]
  },
  {
   "cell_type": "code",
   "execution_count": 38,
   "metadata": {},
   "outputs": [
    {
     "data": {
      "text/html": [
       "<div>\n",
       "<style scoped>\n",
       "    .dataframe tbody tr th:only-of-type {\n",
       "        vertical-align: middle;\n",
       "    }\n",
       "\n",
       "    .dataframe tbody tr th {\n",
       "        vertical-align: top;\n",
       "    }\n",
       "\n",
       "    .dataframe thead th {\n",
       "        text-align: right;\n",
       "    }\n",
       "</style>\n",
       "<table border=\"1\" class=\"dataframe\">\n",
       "  <thead>\n",
       "    <tr style=\"text-align: right;\">\n",
       "      <th></th>\n",
       "      <th></th>\n",
       "      <th>Dep.</th>\n",
       "      <th>Apelido</th>\n",
       "      <th>Região</th>\n",
       "      <th>.1</th>\n",
       "      <th>Situação</th>\n",
       "      <th>.2</th>\n",
       "      <th>Função</th>\n",
       "      <th>Tipo Apanha Frac.</th>\n",
       "      <th>Altura</th>\n",
       "      <th>Num.Posto</th>\n",
       "      <th>Descr.Posto</th>\n",
       "      <th>Motivo Bloqueio</th>\n",
       "      <th>.3</th>\n",
       "      <th>Data Último Invent.</th>\n",
       "      <th>Sit.Último Invent.</th>\n",
       "      <th>Total Invent.</th>\n",
       "    </tr>\n",
       "  </thead>\n",
       "  <tbody>\n",
       "    <tr>\n",
       "      <th>0</th>\n",
       "      <td>NaN</td>\n",
       "      <td>1</td>\n",
       "      <td>010-002-03-01</td>\n",
       "      <td>1</td>\n",
       "      <td>NaN</td>\n",
       "      <td>Inativo</td>\n",
       "      <td>NaN</td>\n",
       "      <td>Armazenagem</td>\n",
       "      <td>NaN</td>\n",
       "      <td>ALTURA PADRAO PALETE</td>\n",
       "      <td>0</td>\n",
       "      <td>NaN</td>\n",
       "      <td>.NÃO EXISTE</td>\n",
       "      <td>NaN</td>\n",
       "      <td>NaT</td>\n",
       "      <td>Pendente</td>\n",
       "      <td>0</td>\n",
       "    </tr>\n",
       "    <tr>\n",
       "      <th>1</th>\n",
       "      <td>NaN</td>\n",
       "      <td>1</td>\n",
       "      <td>010-002-03-02</td>\n",
       "      <td>1</td>\n",
       "      <td>NaN</td>\n",
       "      <td>Inativo</td>\n",
       "      <td>NaN</td>\n",
       "      <td>Armazenagem</td>\n",
       "      <td>NaN</td>\n",
       "      <td>ALTURA PADRAO PALETE</td>\n",
       "      <td>0</td>\n",
       "      <td>NaN</td>\n",
       "      <td>.NÃO EXISTE</td>\n",
       "      <td>NaN</td>\n",
       "      <td>NaT</td>\n",
       "      <td>Pendente</td>\n",
       "      <td>0</td>\n",
       "    </tr>\n",
       "    <tr>\n",
       "      <th>2</th>\n",
       "      <td>NaN</td>\n",
       "      <td>1</td>\n",
       "      <td>010-002-04-01</td>\n",
       "      <td>1</td>\n",
       "      <td>NaN</td>\n",
       "      <td>Uso</td>\n",
       "      <td>NaN</td>\n",
       "      <td>Armazenagem</td>\n",
       "      <td>NaN</td>\n",
       "      <td>ALTURA PADRAO PALETE</td>\n",
       "      <td>0</td>\n",
       "      <td>NaN</td>\n",
       "      <td>NaN</td>\n",
       "      <td>NaN</td>\n",
       "      <td>2023-10-30 10:41:19</td>\n",
       "      <td>Cancelado</td>\n",
       "      <td>3</td>\n",
       "    </tr>\n",
       "    <tr>\n",
       "      <th>3</th>\n",
       "      <td>NaN</td>\n",
       "      <td>1</td>\n",
       "      <td>010-002-04-02</td>\n",
       "      <td>1</td>\n",
       "      <td>NaN</td>\n",
       "      <td>Bloq.Invent.</td>\n",
       "      <td>NaN</td>\n",
       "      <td>Armazenagem</td>\n",
       "      <td>NaN</td>\n",
       "      <td>ALTURA PADRAO PALETE</td>\n",
       "      <td>0</td>\n",
       "      <td>NaN</td>\n",
       "      <td>INVENTARIO</td>\n",
       "      <td>NaN</td>\n",
       "      <td>2024-03-14 14:50:23</td>\n",
       "      <td>Pendente</td>\n",
       "      <td>7</td>\n",
       "    </tr>\n",
       "    <tr>\n",
       "      <th>4</th>\n",
       "      <td>NaN</td>\n",
       "      <td>1</td>\n",
       "      <td>010-002-05-01</td>\n",
       "      <td>1</td>\n",
       "      <td>NaN</td>\n",
       "      <td>Bloq.Invent.</td>\n",
       "      <td>NaN</td>\n",
       "      <td>Armazenagem</td>\n",
       "      <td>NaN</td>\n",
       "      <td>ALTURA MAIOR PADRAO</td>\n",
       "      <td>0</td>\n",
       "      <td>NaN</td>\n",
       "      <td>INVENTARIO</td>\n",
       "      <td>NaN</td>\n",
       "      <td>2024-03-13 08:27:55</td>\n",
       "      <td>Pendente</td>\n",
       "      <td>5</td>\n",
       "    </tr>\n",
       "    <tr>\n",
       "      <th>...</th>\n",
       "      <td>...</td>\n",
       "      <td>...</td>\n",
       "      <td>...</td>\n",
       "      <td>...</td>\n",
       "      <td>...</td>\n",
       "      <td>...</td>\n",
       "      <td>...</td>\n",
       "      <td>...</td>\n",
       "      <td>...</td>\n",
       "      <td>...</td>\n",
       "      <td>...</td>\n",
       "      <td>...</td>\n",
       "      <td>...</td>\n",
       "      <td>...</td>\n",
       "      <td>...</td>\n",
       "      <td>...</td>\n",
       "      <td>...</td>\n",
       "    </tr>\n",
       "    <tr>\n",
       "      <th>2820</th>\n",
       "      <td>NaN</td>\n",
       "      <td>2</td>\n",
       "      <td>018-010-05-02</td>\n",
       "      <td>1</td>\n",
       "      <td>NaN</td>\n",
       "      <td>Inativo</td>\n",
       "      <td>NaN</td>\n",
       "      <td>Armazenagem</td>\n",
       "      <td>NaN</td>\n",
       "      <td>ALTURA PADRAO PALETE</td>\n",
       "      <td>0</td>\n",
       "      <td>NaN</td>\n",
       "      <td>.NÃO EXISTE - NORMAL DEP 2</td>\n",
       "      <td>NaN</td>\n",
       "      <td>2024-03-14 14:20:59</td>\n",
       "      <td>Cancelado</td>\n",
       "      <td>1</td>\n",
       "    </tr>\n",
       "    <tr>\n",
       "      <th>2821</th>\n",
       "      <td>NaN</td>\n",
       "      <td>2</td>\n",
       "      <td>018-010-06-01</td>\n",
       "      <td>1</td>\n",
       "      <td>NaN</td>\n",
       "      <td>Inativo</td>\n",
       "      <td>NaN</td>\n",
       "      <td>Armazenagem</td>\n",
       "      <td>NaN</td>\n",
       "      <td>ALTURA PADRAO PALETE</td>\n",
       "      <td>0</td>\n",
       "      <td>NaN</td>\n",
       "      <td>.NÃO EXISTE - NORMAL DEP 2</td>\n",
       "      <td>NaN</td>\n",
       "      <td>2024-03-14 14:20:59</td>\n",
       "      <td>Cancelado</td>\n",
       "      <td>1</td>\n",
       "    </tr>\n",
       "    <tr>\n",
       "      <th>2822</th>\n",
       "      <td>NaN</td>\n",
       "      <td>2</td>\n",
       "      <td>018-010-06-02</td>\n",
       "      <td>1</td>\n",
       "      <td>NaN</td>\n",
       "      <td>Inativo</td>\n",
       "      <td>NaN</td>\n",
       "      <td>Armazenagem</td>\n",
       "      <td>NaN</td>\n",
       "      <td>ALTURA PADRAO PALETE</td>\n",
       "      <td>0</td>\n",
       "      <td>NaN</td>\n",
       "      <td>.NÃO EXISTE - NORMAL DEP 2</td>\n",
       "      <td>NaN</td>\n",
       "      <td>2024-03-14 14:20:59</td>\n",
       "      <td>Cancelado</td>\n",
       "      <td>1</td>\n",
       "    </tr>\n",
       "    <tr>\n",
       "      <th>2823</th>\n",
       "      <td>NaN</td>\n",
       "      <td>2</td>\n",
       "      <td>018-010-07-01</td>\n",
       "      <td>1</td>\n",
       "      <td>NaN</td>\n",
       "      <td>Inativo</td>\n",
       "      <td>NaN</td>\n",
       "      <td>Armazenagem</td>\n",
       "      <td>NaN</td>\n",
       "      <td>ALTURA PADRAO PALETE</td>\n",
       "      <td>0</td>\n",
       "      <td>NaN</td>\n",
       "      <td>.NÃO EXISTE - NORMAL DEP 2</td>\n",
       "      <td>NaN</td>\n",
       "      <td>2024-03-14 14:20:59</td>\n",
       "      <td>Cancelado</td>\n",
       "      <td>1</td>\n",
       "    </tr>\n",
       "    <tr>\n",
       "      <th>2824</th>\n",
       "      <td>NaN</td>\n",
       "      <td>2</td>\n",
       "      <td>018-010-07-02</td>\n",
       "      <td>1</td>\n",
       "      <td>NaN</td>\n",
       "      <td>Inativo</td>\n",
       "      <td>NaN</td>\n",
       "      <td>Armazenagem</td>\n",
       "      <td>NaN</td>\n",
       "      <td>ALTURA PADRAO PALETE</td>\n",
       "      <td>0</td>\n",
       "      <td>NaN</td>\n",
       "      <td>.NÃO EXISTE - NORMAL DEP 2</td>\n",
       "      <td>NaN</td>\n",
       "      <td>2024-03-14 14:21:00</td>\n",
       "      <td>Cancelado</td>\n",
       "      <td>1</td>\n",
       "    </tr>\n",
       "  </tbody>\n",
       "</table>\n",
       "<p>2825 rows × 17 columns</p>\n",
       "</div>"
      ],
      "text/plain": [
       "          Dep.        Apelido  Região   .1      Situação   .2       Função  \\\n",
       "0    NaN     1  010-002-03-01       1  NaN       Inativo  NaN  Armazenagem   \n",
       "1    NaN     1  010-002-03-02       1  NaN       Inativo  NaN  Armazenagem   \n",
       "2    NaN     1  010-002-04-01       1  NaN           Uso  NaN  Armazenagem   \n",
       "3    NaN     1  010-002-04-02       1  NaN  Bloq.Invent.  NaN  Armazenagem   \n",
       "4    NaN     1  010-002-05-01       1  NaN  Bloq.Invent.  NaN  Armazenagem   \n",
       "...   ..   ...            ...     ...  ...           ...  ...          ...   \n",
       "2820 NaN     2  018-010-05-02       1  NaN       Inativo  NaN  Armazenagem   \n",
       "2821 NaN     2  018-010-06-01       1  NaN       Inativo  NaN  Armazenagem   \n",
       "2822 NaN     2  018-010-06-02       1  NaN       Inativo  NaN  Armazenagem   \n",
       "2823 NaN     2  018-010-07-01       1  NaN       Inativo  NaN  Armazenagem   \n",
       "2824 NaN     2  018-010-07-02       1  NaN       Inativo  NaN  Armazenagem   \n",
       "\n",
       "      Tipo Apanha Frac.                Altura  Num.Posto  Descr.Posto  \\\n",
       "0                   NaN  ALTURA PADRAO PALETE          0          NaN   \n",
       "1                   NaN  ALTURA PADRAO PALETE          0          NaN   \n",
       "2                   NaN  ALTURA PADRAO PALETE          0          NaN   \n",
       "3                   NaN  ALTURA PADRAO PALETE          0          NaN   \n",
       "4                   NaN   ALTURA MAIOR PADRAO          0          NaN   \n",
       "...                 ...                   ...        ...          ...   \n",
       "2820                NaN  ALTURA PADRAO PALETE          0          NaN   \n",
       "2821                NaN  ALTURA PADRAO PALETE          0          NaN   \n",
       "2822                NaN  ALTURA PADRAO PALETE          0          NaN   \n",
       "2823                NaN  ALTURA PADRAO PALETE          0          NaN   \n",
       "2824                NaN  ALTURA PADRAO PALETE          0          NaN   \n",
       "\n",
       "                 Motivo Bloqueio   .3 Data Último Invent. Sit.Último Invent.  \\\n",
       "0                    .NÃO EXISTE  NaN                 NaT           Pendente   \n",
       "1                    .NÃO EXISTE  NaN                 NaT           Pendente   \n",
       "2                            NaN  NaN 2023-10-30 10:41:19          Cancelado   \n",
       "3                     INVENTARIO  NaN 2024-03-14 14:50:23           Pendente   \n",
       "4                     INVENTARIO  NaN 2024-03-13 08:27:55           Pendente   \n",
       "...                          ...  ...                 ...                ...   \n",
       "2820  .NÃO EXISTE - NORMAL DEP 2  NaN 2024-03-14 14:20:59          Cancelado   \n",
       "2821  .NÃO EXISTE - NORMAL DEP 2  NaN 2024-03-14 14:20:59          Cancelado   \n",
       "2822  .NÃO EXISTE - NORMAL DEP 2  NaN 2024-03-14 14:20:59          Cancelado   \n",
       "2823  .NÃO EXISTE - NORMAL DEP 2  NaN 2024-03-14 14:20:59          Cancelado   \n",
       "2824  .NÃO EXISTE - NORMAL DEP 2  NaN 2024-03-14 14:21:00          Cancelado   \n",
       "\n",
       "      Total Invent.  \n",
       "0                 0  \n",
       "1                 0  \n",
       "2                 3  \n",
       "3                 7  \n",
       "4                 5  \n",
       "...             ...  \n",
       "2820              1  \n",
       "2821              1  \n",
       "2822              1  \n",
       "2823              1  \n",
       "2824              1  \n",
       "\n",
       "[2825 rows x 17 columns]"
      ]
     },
     "execution_count": 38,
     "metadata": {},
     "output_type": "execute_result"
    }
   ],
   "source": [
    "armazenagens"
   ]
  },
  {
   "cell_type": "code",
   "execution_count": 13,
   "metadata": {},
   "outputs": [
    {
     "name": "stderr",
     "output_type": "stream",
     "text": [
      "C:\\Users\\Renan\\AppData\\Local\\Temp\\ipykernel_18192\\1010731029.py:10: SettingWithCopyWarning:\n",
      "\n",
      "\n",
      "A value is trying to be set on a copy of a slice from a DataFrame\n",
      "\n",
      "See the caveats in the documentation: https://pandas.pydata.org/pandas-docs/stable/user_guide/indexing.html#returning-a-view-versus-a-copy\n",
      "\n"
     ]
    }
   ],
   "source": [
    "ruas_selec = ['010', '012', '014', '015', '016', '017', '018', '100']\n",
    "\n",
    "colunas = ['Dep.',\n",
    "            'Apelido',\n",
    "            'Situação',\n",
    "            'Motivo Bloqueio',\n",
    "            ]\n",
    "\n",
    "todas_armazenagens = armazenagens[colunas]\n",
    "todas_armazenagens['Motivo Bloqueio'].fillna('-', inplace=True)\n",
    "\n",
    "condicao = False\n",
    "for rua in ruas_selec:\n",
    "    condicao |= todas_armazenagens['Apelido'].str.startswith(rua)\n",
    "\n",
    "todas_armazenagens = todas_armazenagens[condicao]\n",
    "\n",
    "selecao_porta_pallets = (todas_armazenagens['Dep.'] == 1) & \\\n",
    "                    (todas_armazenagens['Situação'] != 'Inativo') & \\\n",
    "                    (~todas_armazenagens['Motivo Bloqueio'].str.contains('NÃO EXISTE', case=False)) & \\\n",
    "                    (~todas_armazenagens['Motivo Bloqueio'].str.contains('AGREGADO', case=False))\n",
    "\n",
    "porta_pallets = todas_armazenagens[selecao_porta_pallets]\n",
    "total_porta_pallets = len(porta_pallets)\n",
    "\n",
    "\n",
    "selecao_porta_pallets = (todas_armazenagens['Dep.'] == 1) & \\\n",
    "                    (todas_armazenagens['Situação'] != 'Inativo') & \\\n",
    "                    (~todas_armazenagens['Motivo Bloqueio'].str.contains('NÃO EXISTE', case=False)) & \\\n",
    "                    (~todas_armazenagens['Motivo Bloqueio'].str.contains('AGREGADO', case=False))\n",
    "\n",
    "porta_pallets = todas_armazenagens[selecao_porta_pallets]\n",
    "total_porta_pallets = len(porta_pallets)\n",
    "\n",
    "selecao_porta_pallets_bloq = (porta_pallets['Situação'] == 'Bloqueado')\n",
    "\n",
    "porta_pallets_bloq = porta_pallets[selecao_porta_pallets_bloq]\n",
    "\n",
    "total_porta_pallets_bloq = len(porta_pallets_bloq)\n",
    "\n",
    "motivos_bloq = porta_pallets_bloq['Motivo Bloqueio'].value_counts()\n",
    "motivos_bloq = pd.DataFrame(motivos_bloq).reset_index()\n",
    "motivos_bloq['Motivo Bloqueio'] = motivos_bloq['Motivo Bloqueio'].str.lstrip('.')\n",
    "motivos_bloq.rename(columns={'count':'N° Armazenagens'}, inplace=True)\n",
    "\n",
    "selecao_porta_pallet_dif_bloq = ~porta_pallets['Apelido'].isin(porta_pallets_bloq['Apelido'])\n",
    "\n",
    "porta_pallet_dif_bloq = porta_pallets[selecao_porta_pallet_dif_bloq]\n",
    "\n",
    "total_porta_pallet_dif_bloq = len(porta_pallet_dif_bloq)\n",
    "\n",
    "situacao_utilizaveis = porta_pallet_dif_bloq['Situação'].value_counts()\n",
    "situacao_utilizaveis = pd.DataFrame(situacao_utilizaveis).reset_index()\n",
    "situacao_utilizaveis['Situação'] = situacao_utilizaveis['Situação'].str.lstrip('.')\n",
    "situacao_utilizaveis.rename(columns={'count':'Quantidade'}, inplace=True)\n",
    "\n",
    "valores_situacao_utilizaveis = situacao_utilizaveis['Situação'].values\n",
    "\n",
    "if 'Uso' in valores_situacao_utilizaveis:\n",
    "  total_uso = situacao_utilizaveis['Quantidade'][situacao_utilizaveis['Situação'] == 'Uso'].iloc[0]\n",
    "else:\n",
    "  total_uso = 0\n",
    "\n",
    "if 'Bloq.Invent.' in valores_situacao_utilizaveis:\n",
    "  total_inv = situacao_utilizaveis['Quantidade'][situacao_utilizaveis['Situação'] == 'Bloq.Invent.'].iloc[0]\n",
    "else:\n",
    "  total_inv = 0\n",
    "  \n",
    "if 'lib' in valores_situacao_utilizaveis:\n",
    "  total_lib = situacao_utilizaveis['Quantidade'][situacao_utilizaveis['Situação'] == 'lib'].iloc[0]\n",
    "else:\n",
    "  total_lib = 0\n",
    "  \n",
    "arm_uso = pd.DataFrame({'Situação' : ['Liberado', 'Em uso'],\n",
    "                    'Quantidade' : [(total_inv + total_lib), (total_uso)]})\n",
    "\n",
    "fig = px.pie(arm_uso, values='Quantidade', names='Situação', color='Situação', \n",
    "              color_discrete_map={'Em uso':'lightgrey',\n",
    "                                  'Liberado':'mediumblue'})\n",
    "\n",
    "situacao_utilizaveis_graf_pizza = fig.update_traces(textposition='outside', textinfo='percent+label')"
   ]
  },
  {
   "cell_type": "code",
   "execution_count": 14,
   "metadata": {},
   "outputs": [
    {
     "data": {
      "application/vnd.plotly.v1+json": {
       "config": {
        "plotlyServerURL": "https://plot.ly"
       },
       "data": [
        {
         "customdata": [
          [
           "Liberado"
          ],
          [
           "Em uso"
          ]
         ],
         "domain": {
          "x": [
           0,
           1
          ],
          "y": [
           0,
           1
          ]
         },
         "hovertemplate": "Situação=%{customdata[0]}<br>Quantidade=%{value}<extra></extra>",
         "labels": [
          "Liberado",
          "Em uso"
         ],
         "legendgroup": "",
         "marker": {
          "colors": [
           "mediumblue",
           "lightgrey"
          ]
         },
         "name": "",
         "showlegend": true,
         "textinfo": "percent+label",
         "textposition": "outside",
         "type": "pie",
         "values": [
          238,
          1776
         ]
        }
       ],
       "layout": {
        "legend": {
         "tracegroupgap": 0
        },
        "margin": {
         "t": 60
        },
        "template": {
         "data": {
          "candlestick": [
           {
            "decreasing": {
             "line": {
              "color": "#000033"
             }
            },
            "increasing": {
             "line": {
              "color": "#000032"
             }
            },
            "type": "candlestick"
           }
          ],
          "contour": [
           {
            "colorscale": [
             [
              0,
              "#000011"
             ],
             [
              0.1111111111111111,
              "#000012"
             ],
             [
              0.2222222222222222,
              "#000013"
             ],
             [
              0.3333333333333333,
              "#000014"
             ],
             [
              0.4444444444444444,
              "#000015"
             ],
             [
              0.5555555555555556,
              "#000016"
             ],
             [
              0.6666666666666666,
              "#000017"
             ],
             [
              0.7777777777777778,
              "#000018"
             ],
             [
              0.8888888888888888,
              "#000019"
             ],
             [
              1,
              "#000020"
             ]
            ],
            "type": "contour"
           }
          ],
          "contourcarpet": [
           {
            "colorscale": [
             [
              0,
              "#000011"
             ],
             [
              0.1111111111111111,
              "#000012"
             ],
             [
              0.2222222222222222,
              "#000013"
             ],
             [
              0.3333333333333333,
              "#000014"
             ],
             [
              0.4444444444444444,
              "#000015"
             ],
             [
              0.5555555555555556,
              "#000016"
             ],
             [
              0.6666666666666666,
              "#000017"
             ],
             [
              0.7777777777777778,
              "#000018"
             ],
             [
              0.8888888888888888,
              "#000019"
             ],
             [
              1,
              "#000020"
             ]
            ],
            "type": "contourcarpet"
           }
          ],
          "heatmap": [
           {
            "colorscale": [
             [
              0,
              "#000011"
             ],
             [
              0.1111111111111111,
              "#000012"
             ],
             [
              0.2222222222222222,
              "#000013"
             ],
             [
              0.3333333333333333,
              "#000014"
             ],
             [
              0.4444444444444444,
              "#000015"
             ],
             [
              0.5555555555555556,
              "#000016"
             ],
             [
              0.6666666666666666,
              "#000017"
             ],
             [
              0.7777777777777778,
              "#000018"
             ],
             [
              0.8888888888888888,
              "#000019"
             ],
             [
              1,
              "#000020"
             ]
            ],
            "type": "heatmap"
           }
          ],
          "histogram2d": [
           {
            "colorscale": [
             [
              0,
              "#000011"
             ],
             [
              0.1111111111111111,
              "#000012"
             ],
             [
              0.2222222222222222,
              "#000013"
             ],
             [
              0.3333333333333333,
              "#000014"
             ],
             [
              0.4444444444444444,
              "#000015"
             ],
             [
              0.5555555555555556,
              "#000016"
             ],
             [
              0.6666666666666666,
              "#000017"
             ],
             [
              0.7777777777777778,
              "#000018"
             ],
             [
              0.8888888888888888,
              "#000019"
             ],
             [
              1,
              "#000020"
             ]
            ],
            "type": "histogram2d"
           }
          ],
          "icicle": [
           {
            "textfont": {
             "color": "white"
            },
            "type": "icicle"
           }
          ],
          "sankey": [
           {
            "textfont": {
             "color": "#000036"
            },
            "type": "sankey"
           }
          ],
          "scatter": [
           {
            "marker": {
             "line": {
              "width": 0
             }
            },
            "type": "scatter"
           }
          ],
          "table": [
           {
            "cells": {
             "fill": {
              "color": "#000038"
             },
             "font": {
              "color": "#000037"
             },
             "line": {
              "color": "#000039"
             }
            },
            "header": {
             "fill": {
              "color": "#000040"
             },
             "font": {
              "color": "#000036"
             },
             "line": {
              "color": "#000039"
             }
            },
            "type": "table"
           }
          ],
          "waterfall": [
           {
            "connector": {
             "line": {
              "color": "#000036",
              "width": 2
             }
            },
            "decreasing": {
             "marker": {
              "color": "#000033"
             }
            },
            "increasing": {
             "marker": {
              "color": "#000032"
             }
            },
            "totals": {
             "marker": {
              "color": "#000034"
             }
            },
            "type": "waterfall"
           }
          ]
         },
         "layout": {
          "coloraxis": {
           "colorscale": [
            [
             0,
             "#000011"
            ],
            [
             0.1111111111111111,
             "#000012"
            ],
            [
             0.2222222222222222,
             "#000013"
            ],
            [
             0.3333333333333333,
             "#000014"
            ],
            [
             0.4444444444444444,
             "#000015"
            ],
            [
             0.5555555555555556,
             "#000016"
            ],
            [
             0.6666666666666666,
             "#000017"
            ],
            [
             0.7777777777777778,
             "#000018"
            ],
            [
             0.8888888888888888,
             "#000019"
            ],
            [
             1,
             "#000020"
            ]
           ]
          },
          "colorscale": {
           "diverging": [
            [
             0,
             "#000021"
            ],
            [
             0.1,
             "#000022"
            ],
            [
             0.2,
             "#000023"
            ],
            [
             0.3,
             "#000024"
            ],
            [
             0.4,
             "#000025"
            ],
            [
             0.5,
             "#000026"
            ],
            [
             0.6,
             "#000027"
            ],
            [
             0.7,
             "#000028"
            ],
            [
             0.8,
             "#000029"
            ],
            [
             0.9,
             "#000030"
            ],
            [
             1,
             "#000031"
            ]
           ],
           "sequential": [
            [
             0,
             "#000011"
            ],
            [
             0.1111111111111111,
             "#000012"
            ],
            [
             0.2222222222222222,
             "#000013"
            ],
            [
             0.3333333333333333,
             "#000014"
            ],
            [
             0.4444444444444444,
             "#000015"
            ],
            [
             0.5555555555555556,
             "#000016"
            ],
            [
             0.6666666666666666,
             "#000017"
            ],
            [
             0.7777777777777778,
             "#000018"
            ],
            [
             0.8888888888888888,
             "#000019"
            ],
            [
             1,
             "#000020"
            ]
           ],
           "sequentialminus": [
            [
             0,
             "#000011"
            ],
            [
             0.1111111111111111,
             "#000012"
            ],
            [
             0.2222222222222222,
             "#000013"
            ],
            [
             0.3333333333333333,
             "#000014"
            ],
            [
             0.4444444444444444,
             "#000015"
            ],
            [
             0.5555555555555556,
             "#000016"
            ],
            [
             0.6666666666666666,
             "#000017"
            ],
            [
             0.7777777777777778,
             "#000018"
            ],
            [
             0.8888888888888888,
             "#000019"
            ],
            [
             1,
             "#000020"
            ]
           ]
          },
          "colorway": [
           "#000001",
           "#000002",
           "#000003",
           "#000004",
           "#000005",
           "#000006",
           "#000007",
           "#000008",
           "#000009",
           "#000010"
          ]
         }
        }
       }
      }
     },
     "metadata": {},
     "output_type": "display_data"
    }
   ],
   "source": [
    "situacao_utilizaveis_graf_pizza"
   ]
  },
  {
   "cell_type": "code",
   "execution_count": 17,
   "metadata": {},
   "outputs": [
    {
     "data": {
      "text/plain": [
       "1776"
      ]
     },
     "execution_count": 17,
     "metadata": {},
     "output_type": "execute_result"
    }
   ],
   "source": [
    "total_uso"
   ]
  },
  {
   "cell_type": "code",
   "execution_count": 252,
   "metadata": {},
   "outputs": [],
   "source": [
    "ruas_selec = ['017', '018']\n",
    "\n",
    "condicao = False\n",
    "for rua in ruas_selec:\n",
    "    condicao |= armazenagens_estoque['Endereço'].str.startswith(rua)\n",
    "\n",
    "arm_selec = armazenagens_estoque['Endereço'][condicao]\n",
    "\n",
    "df = pd.DataFrame()\n",
    "\n",
    "for endereco in armazenagens_estoque['Endereço']:\n",
    "\n",
    "  if endereco in arm_selec.values:\n",
    "    i_linha_atual = armazenagens_estoque['Endereço'][armazenagens_estoque['Endereço'] == endereco].index\n",
    "    \n",
    "    e_fd = armazenagens_estoque['Motivo Bloq.Ender.'].iloc[i_linha_atual[0] + 2].startswith('FD')\n",
    "    \n",
    "    if e_fd:\n",
    "      tipo = 'FD'\n",
    "    else:\n",
    "      tipo = 'Outros'\n",
    "    \n",
    "    linha = pd.DataFrame({'End' : [endereco], 'Tipo': [tipo]})\n",
    "    df = pd.concat([df, linha], ignore_index=True)\n",
    "    \n",
    "relacao_em_uso = pd.DataFrame(df['Tipo'].value_counts()).reset_index().rename(columns={'count' : 'Quantidade'})\n",
    "relacao_em_uso\n",
    "\n",
    "fig = px.pie(relacao_em_uso, values='Quantidade', names='Tipo', color='Tipo', \n",
    "              color_discrete_map={'FD':'lightgrey',\n",
    "                                  'Outros':'mediumblue'})\n",
    "\n",
    "situacao_em_uso = fig.update_traces(textposition='outside', textinfo='percent+label')\n",
    "situacao_em_uso"
   ]
  },
  {
   "cell_type": "code",
   "execution_count": 255,
   "metadata": {},
   "outputs": [
    {
     "data": {
      "application/vnd.plotly.v1+json": {
       "config": {
        "plotlyServerURL": "https://plot.ly"
       },
       "data": [
        {
         "customdata": [
          [
           "FD"
          ],
          [
           "Outros"
          ]
         ],
         "domain": {
          "x": [
           0,
           1
          ],
          "y": [
           0,
           1
          ]
         },
         "hovertemplate": "Tipo=%{customdata[0]}<br>Quantidade=%{value}<extra></extra>",
         "labels": [
          "FD",
          "Outros"
         ],
         "legendgroup": "",
         "marker": {
          "colors": [
           "lightgrey",
           "mediumblue"
          ]
         },
         "name": "",
         "showlegend": true,
         "textinfo": "percent+label",
         "textposition": "outside",
         "type": "pie",
         "values": [
          742,
          50
         ]
        }
       ],
       "layout": {
        "legend": {
         "tracegroupgap": 0
        },
        "margin": {
         "t": 60
        },
        "template": {
         "data": {
          "candlestick": [
           {
            "decreasing": {
             "line": {
              "color": "#000033"
             }
            },
            "increasing": {
             "line": {
              "color": "#000032"
             }
            },
            "type": "candlestick"
           }
          ],
          "contour": [
           {
            "colorscale": [
             [
              0,
              "#000011"
             ],
             [
              0.1111111111111111,
              "#000012"
             ],
             [
              0.2222222222222222,
              "#000013"
             ],
             [
              0.3333333333333333,
              "#000014"
             ],
             [
              0.4444444444444444,
              "#000015"
             ],
             [
              0.5555555555555556,
              "#000016"
             ],
             [
              0.6666666666666666,
              "#000017"
             ],
             [
              0.7777777777777778,
              "#000018"
             ],
             [
              0.8888888888888888,
              "#000019"
             ],
             [
              1,
              "#000020"
             ]
            ],
            "type": "contour"
           }
          ],
          "contourcarpet": [
           {
            "colorscale": [
             [
              0,
              "#000011"
             ],
             [
              0.1111111111111111,
              "#000012"
             ],
             [
              0.2222222222222222,
              "#000013"
             ],
             [
              0.3333333333333333,
              "#000014"
             ],
             [
              0.4444444444444444,
              "#000015"
             ],
             [
              0.5555555555555556,
              "#000016"
             ],
             [
              0.6666666666666666,
              "#000017"
             ],
             [
              0.7777777777777778,
              "#000018"
             ],
             [
              0.8888888888888888,
              "#000019"
             ],
             [
              1,
              "#000020"
             ]
            ],
            "type": "contourcarpet"
           }
          ],
          "heatmap": [
           {
            "colorscale": [
             [
              0,
              "#000011"
             ],
             [
              0.1111111111111111,
              "#000012"
             ],
             [
              0.2222222222222222,
              "#000013"
             ],
             [
              0.3333333333333333,
              "#000014"
             ],
             [
              0.4444444444444444,
              "#000015"
             ],
             [
              0.5555555555555556,
              "#000016"
             ],
             [
              0.6666666666666666,
              "#000017"
             ],
             [
              0.7777777777777778,
              "#000018"
             ],
             [
              0.8888888888888888,
              "#000019"
             ],
             [
              1,
              "#000020"
             ]
            ],
            "type": "heatmap"
           }
          ],
          "histogram2d": [
           {
            "colorscale": [
             [
              0,
              "#000011"
             ],
             [
              0.1111111111111111,
              "#000012"
             ],
             [
              0.2222222222222222,
              "#000013"
             ],
             [
              0.3333333333333333,
              "#000014"
             ],
             [
              0.4444444444444444,
              "#000015"
             ],
             [
              0.5555555555555556,
              "#000016"
             ],
             [
              0.6666666666666666,
              "#000017"
             ],
             [
              0.7777777777777778,
              "#000018"
             ],
             [
              0.8888888888888888,
              "#000019"
             ],
             [
              1,
              "#000020"
             ]
            ],
            "type": "histogram2d"
           }
          ],
          "icicle": [
           {
            "textfont": {
             "color": "white"
            },
            "type": "icicle"
           }
          ],
          "sankey": [
           {
            "textfont": {
             "color": "#000036"
            },
            "type": "sankey"
           }
          ],
          "scatter": [
           {
            "marker": {
             "line": {
              "width": 0
             }
            },
            "type": "scatter"
           }
          ],
          "table": [
           {
            "cells": {
             "fill": {
              "color": "#000038"
             },
             "font": {
              "color": "#000037"
             },
             "line": {
              "color": "#000039"
             }
            },
            "header": {
             "fill": {
              "color": "#000040"
             },
             "font": {
              "color": "#000036"
             },
             "line": {
              "color": "#000039"
             }
            },
            "type": "table"
           }
          ],
          "waterfall": [
           {
            "connector": {
             "line": {
              "color": "#000036",
              "width": 2
             }
            },
            "decreasing": {
             "marker": {
              "color": "#000033"
             }
            },
            "increasing": {
             "marker": {
              "color": "#000032"
             }
            },
            "totals": {
             "marker": {
              "color": "#000034"
             }
            },
            "type": "waterfall"
           }
          ]
         },
         "layout": {
          "coloraxis": {
           "colorscale": [
            [
             0,
             "#000011"
            ],
            [
             0.1111111111111111,
             "#000012"
            ],
            [
             0.2222222222222222,
             "#000013"
            ],
            [
             0.3333333333333333,
             "#000014"
            ],
            [
             0.4444444444444444,
             "#000015"
            ],
            [
             0.5555555555555556,
             "#000016"
            ],
            [
             0.6666666666666666,
             "#000017"
            ],
            [
             0.7777777777777778,
             "#000018"
            ],
            [
             0.8888888888888888,
             "#000019"
            ],
            [
             1,
             "#000020"
            ]
           ]
          },
          "colorscale": {
           "diverging": [
            [
             0,
             "#000021"
            ],
            [
             0.1,
             "#000022"
            ],
            [
             0.2,
             "#000023"
            ],
            [
             0.3,
             "#000024"
            ],
            [
             0.4,
             "#000025"
            ],
            [
             0.5,
             "#000026"
            ],
            [
             0.6,
             "#000027"
            ],
            [
             0.7,
             "#000028"
            ],
            [
             0.8,
             "#000029"
            ],
            [
             0.9,
             "#000030"
            ],
            [
             1,
             "#000031"
            ]
           ],
           "sequential": [
            [
             0,
             "#000011"
            ],
            [
             0.1111111111111111,
             "#000012"
            ],
            [
             0.2222222222222222,
             "#000013"
            ],
            [
             0.3333333333333333,
             "#000014"
            ],
            [
             0.4444444444444444,
             "#000015"
            ],
            [
             0.5555555555555556,
             "#000016"
            ],
            [
             0.6666666666666666,
             "#000017"
            ],
            [
             0.7777777777777778,
             "#000018"
            ],
            [
             0.8888888888888888,
             "#000019"
            ],
            [
             1,
             "#000020"
            ]
           ],
           "sequentialminus": [
            [
             0,
             "#000011"
            ],
            [
             0.1111111111111111,
             "#000012"
            ],
            [
             0.2222222222222222,
             "#000013"
            ],
            [
             0.3333333333333333,
             "#000014"
            ],
            [
             0.4444444444444444,
             "#000015"
            ],
            [
             0.5555555555555556,
             "#000016"
            ],
            [
             0.6666666666666666,
             "#000017"
            ],
            [
             0.7777777777777778,
             "#000018"
            ],
            [
             0.8888888888888888,
             "#000019"
            ],
            [
             1,
             "#000020"
            ]
           ]
          },
          "colorway": [
           "#000001",
           "#000002",
           "#000003",
           "#000004",
           "#000005",
           "#000006",
           "#000007",
           "#000008",
           "#000009",
           "#000010"
          ]
         }
        }
       }
      }
     },
     "metadata": {},
     "output_type": "display_data"
    }
   ],
   "source": []
  },
  {
   "cell_type": "code",
   "execution_count": null,
   "metadata": {},
   "outputs": [],
   "source": []
  },
  {
   "cell_type": "code",
   "execution_count": null,
   "metadata": {},
   "outputs": [],
   "source": []
  }
 ],
 "metadata": {
  "kernelspec": {
   "display_name": "Python 3",
   "language": "python",
   "name": "python3"
  },
  "language_info": {
   "codemirror_mode": {
    "name": "ipython",
    "version": 3
   },
   "file_extension": ".py",
   "mimetype": "text/x-python",
   "name": "python",
   "nbconvert_exporter": "python",
   "pygments_lexer": "ipython3",
   "version": "3.11.8"
  }
 },
 "nbformat": 4,
 "nbformat_minor": 2
}
