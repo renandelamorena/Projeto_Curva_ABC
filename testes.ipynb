{
 "cells": [
  {
   "cell_type": "code",
   "execution_count": 48,
   "metadata": {},
   "outputs": [],
   "source": [
    "import streamlit as st\n",
    "import pandas as pd\n",
    "import plotly.express as px\n",
    "import plotly.graph_objects as go\n",
    "import os\n",
    "from itertools import combinations\n",
    "from decimal import Decimal\n",
    "\n",
    "pd.set_option('display.max_columns', None)"
   ]
  },
  {
   "cell_type": "code",
   "execution_count": 3,
   "metadata": {},
   "outputs": [],
   "source": [
    "def caminho_absoluto(caminho_relativo_com_barras_normais):\n",
    "    \n",
    "    caminho_base = os.getcwd()\n",
    "\n",
    "    caminho_absoluto = os.path.join(caminho_base, caminho_relativo_com_barras_normais)\n",
    "\n",
    "    return caminho_absoluto"
   ]
  },
  {
   "cell_type": "code",
   "execution_count": 4,
   "metadata": {},
   "outputs": [],
   "source": [
    "situacao_final = pd.read_excel(caminho_absoluto('data/tratamento_curva_abc/dados_tratados/situacao_final.xlsx')).set_index('Ordem')\n",
    "local_frac = pd.read_excel(caminho_absoluto('data/analise_curva_abc/local/datasets/local_apanha_frac.xlsx'))"
   ]
  },
  {
   "cell_type": "code",
   "execution_count": 5,
   "metadata": {},
   "outputs": [
    {
     "data": {
      "text/html": [
       "<div>\n",
       "<style scoped>\n",
       "    .dataframe tbody tr th:only-of-type {\n",
       "        vertical-align: middle;\n",
       "    }\n",
       "\n",
       "    .dataframe tbody tr th {\n",
       "        vertical-align: top;\n",
       "    }\n",
       "\n",
       "    .dataframe thead th {\n",
       "        text-align: right;\n",
       "    }\n",
       "</style>\n",
       "<table border=\"1\" class=\"dataframe\">\n",
       "  <thead>\n",
       "    <tr style=\"text-align: right;\">\n",
       "      <th></th>\n",
       "      <th>Código</th>\n",
       "      <th>Descrição</th>\n",
       "      <th>Curva Frac</th>\n",
       "      <th>Curva Cx</th>\n",
       "      <th>Curva Geral</th>\n",
       "      <th>Qtde Venda Frac</th>\n",
       "      <th>Qtde Venda Cx</th>\n",
       "      <th>Qtde Venda Geral</th>\n",
       "      <th>Dias Pedido Frac</th>\n",
       "      <th>Dias Pedido Cx</th>\n",
       "      <th>Dias Pedido Geral</th>\n",
       "      <th>Ativ.Ressupr.Frac</th>\n",
       "      <th>Ativ.Ressupr.Cx</th>\n",
       "      <th>Ativ.Ressupr.Geral</th>\n",
       "      <th>Média por dia frac</th>\n",
       "      <th>Média por dia cx</th>\n",
       "      <th>Média por dia geral</th>\n",
       "      <th>Estoque Armaz.</th>\n",
       "      <th>Ender.Cx.Fechada</th>\n",
       "      <th>Estoque Cx</th>\n",
       "      <th>Capacidade Cx</th>\n",
       "      <th>Embal.</th>\n",
       "      <th>Estoque Frac</th>\n",
       "      <th>Capacidade Frac</th>\n",
       "      <th>Permite Frac.</th>\n",
       "      <th>Ender.Fracionado</th>\n",
       "      <th>Tipo</th>\n",
       "      <th>Qtde Desvio Picking</th>\n",
       "      <th>local</th>\n",
       "    </tr>\n",
       "    <tr>\n",
       "      <th>Ordem</th>\n",
       "      <th></th>\n",
       "      <th></th>\n",
       "      <th></th>\n",
       "      <th></th>\n",
       "      <th></th>\n",
       "      <th></th>\n",
       "      <th></th>\n",
       "      <th></th>\n",
       "      <th></th>\n",
       "      <th></th>\n",
       "      <th></th>\n",
       "      <th></th>\n",
       "      <th></th>\n",
       "      <th></th>\n",
       "      <th></th>\n",
       "      <th></th>\n",
       "      <th></th>\n",
       "      <th></th>\n",
       "      <th></th>\n",
       "      <th></th>\n",
       "      <th></th>\n",
       "      <th></th>\n",
       "      <th></th>\n",
       "      <th></th>\n",
       "      <th></th>\n",
       "      <th></th>\n",
       "      <th></th>\n",
       "      <th></th>\n",
       "      <th></th>\n",
       "    </tr>\n",
       "  </thead>\n",
       "  <tbody>\n",
       "    <tr>\n",
       "      <th>1</th>\n",
       "      <td>106011</td>\n",
       "      <td>NARIDRIN 12 HORAS FR C/30ML</td>\n",
       "      <td>A</td>\n",
       "      <td>A</td>\n",
       "      <td>A</td>\n",
       "      <td>279389.0</td>\n",
       "      <td>6507.0</td>\n",
       "      <td>930089.0</td>\n",
       "      <td>271.0</td>\n",
       "      <td>251.0</td>\n",
       "      <td>274.0</td>\n",
       "      <td>1490.0</td>\n",
       "      <td>164.0</td>\n",
       "      <td>1490.0</td>\n",
       "      <td>1030.9557</td>\n",
       "      <td>25.9243</td>\n",
       "      <td>3394.4854</td>\n",
       "      <td>3691</td>\n",
       "      <td>016-037-01-02</td>\n",
       "      <td>14</td>\n",
       "      <td>2</td>\n",
       "      <td>100</td>\n",
       "      <td>172</td>\n",
       "      <td>500</td>\n",
       "      <td>Não</td>\n",
       "      <td>29.913</td>\n",
       "      <td>Ponta De G</td>\n",
       "      <td>3236.0</td>\n",
       "      <td>pallet</td>\n",
       "    </tr>\n",
       "  </tbody>\n",
       "</table>\n",
       "</div>"
      ],
      "text/plain": [
       "       Código                    Descrição Curva Frac Curva Cx Curva Geral  \\\n",
       "Ordem                                                                        \n",
       "1      106011  NARIDRIN 12 HORAS FR C/30ML          A        A           A   \n",
       "\n",
       "       Qtde Venda Frac  Qtde Venda Cx  Qtde Venda Geral  Dias Pedido Frac  \\\n",
       "Ordem                                                                       \n",
       "1             279389.0         6507.0          930089.0             271.0   \n",
       "\n",
       "       Dias Pedido Cx  Dias Pedido Geral  Ativ.Ressupr.Frac  Ativ.Ressupr.Cx  \\\n",
       "Ordem                                                                          \n",
       "1               251.0              274.0             1490.0            164.0   \n",
       "\n",
       "       Ativ.Ressupr.Geral  Média por dia frac  Média por dia cx  \\\n",
       "Ordem                                                             \n",
       "1                  1490.0           1030.9557           25.9243   \n",
       "\n",
       "       Média por dia geral  Estoque Armaz. Ender.Cx.Fechada Estoque Cx  \\\n",
       "Ordem                                                                    \n",
       "1                3394.4854            3691    016-037-01-02         14   \n",
       "\n",
       "       Capacidade Cx  Embal.  Estoque Frac  Capacidade Frac Permite Frac.  \\\n",
       "Ordem                                                                       \n",
       "1                  2     100           172              500           Não   \n",
       "\n",
       "       Ender.Fracionado        Tipo  Qtde Desvio Picking   local  \n",
       "Ordem                                                             \n",
       "1                29.913  Ponta De G               3236.0  pallet  "
      ]
     },
     "execution_count": 5,
     "metadata": {},
     "output_type": "execute_result"
    }
   ],
   "source": [
    "situacao_final.iloc[[0]]"
   ]
  },
  {
   "cell_type": "code",
   "execution_count": 6,
   "metadata": {},
   "outputs": [
    {
     "data": {
      "text/html": [
       "<div>\n",
       "<style scoped>\n",
       "    .dataframe tbody tr th:only-of-type {\n",
       "        vertical-align: middle;\n",
       "    }\n",
       "\n",
       "    .dataframe tbody tr th {\n",
       "        vertical-align: top;\n",
       "    }\n",
       "\n",
       "    .dataframe thead th {\n",
       "        text-align: right;\n",
       "    }\n",
       "</style>\n",
       "<table border=\"1\" class=\"dataframe\">\n",
       "  <thead>\n",
       "    <tr style=\"text-align: right;\">\n",
       "      <th></th>\n",
       "      <th>Ender.Fracionado</th>\n",
       "      <th>modulo</th>\n",
       "      <th>local</th>\n",
       "    </tr>\n",
       "  </thead>\n",
       "  <tbody>\n",
       "    <tr>\n",
       "      <th>0</th>\n",
       "      <td>29.011</td>\n",
       "      <td>1</td>\n",
       "      <td>AB</td>\n",
       "    </tr>\n",
       "  </tbody>\n",
       "</table>\n",
       "</div>"
      ],
      "text/plain": [
       "   Ender.Fracionado  modulo local\n",
       "0            29.011       1    AB"
      ]
     },
     "execution_count": 6,
     "metadata": {},
     "output_type": "execute_result"
    }
   ],
   "source": [
    "local_frac.iloc[[0]]"
   ]
  },
  {
   "cell_type": "code",
   "execution_count": 127,
   "metadata": {},
   "outputs": [],
   "source": [
    "local_flowrack = 'AA'\n",
    "numero_modulos = 5\n",
    "\n",
    "selecao_local_flowrack = (local_frac['local'] == local_flowrack)\n",
    "local_flowrakc_selecionado = local_frac[selecao_local_flowrack]\n",
    "enderecos_local_flowrack_selecionado = local_flowrakc_selecionado['Ender.Fracionado']\n",
    "enderecos_local_flowrack_selecionado\n",
    "\n",
    "corredores_por_modulo = {1 : ['29', '28'],\n",
    "                         2 : ['27', '26'],\n",
    "                         3 : ['25', '24'],\n",
    "                         4 : ['23', '22'],\n",
    "                         5 : ['21', '20'],\n",
    "                         6 : ['19', '18'],\n",
    "                        }\n",
    "\n",
    "def selecionar_florack(corredores):    \n",
    "   selecao_flowrack_corredordes = ((situacao_final['Tipo'] == 'Flowrack') & \\\n",
    "                              (situacao_final['Ender.Fracionado'].astype(str).str.startswith(corredores[0]) | \\\n",
    "                              situacao_final['Ender.Fracionado'].astype(str).str.startswith(corredores[1])\n",
    "                              )\n",
    "                           )\n",
    "\n",
    "   flowrack_corredores = situacao_final[selecao_flowrack_corredordes]\n",
    "   return flowrack_corredores\n",
    "\n",
    "def saida_flowrack_no_modulo_pela_classe(modulo):\n",
    "\n",
    "    flowrack_do_modulo = selecionar_florack(corredores_por_modulo[modulo])\n",
    "\n",
    "    selecao_flowrack_modulo_X_classe = flowrack_do_modulo['Ender.Fracionado'].isin(enderecos_local_flowrack_selecionado)\n",
    "\n",
    "    flowrack_modulo_X_classe = flowrack_do_modulo[selecao_flowrack_modulo_X_classe]\n",
    "\n",
    "    saida_flowrack_modulo_classe = flowrack_modulo_X_classe['Qtde Venda Frac'].tolist()\n",
    "\n",
    "    return saida_flowrack_modulo_classe"
   ]
  },
  {
   "cell_type": "code",
   "execution_count": 139,
   "metadata": {},
   "outputs": [
    {
     "data": {
      "text/plain": [
       "['19', '18']"
      ]
     },
     "execution_count": 139,
     "metadata": {},
     "output_type": "execute_result"
    }
   ],
   "source": [
    "[str(corredores_por_modulo[6][0]), str(corredores_por_modulo[6][1])]"
   ]
  },
  {
   "cell_type": "code",
   "execution_count": 142,
   "metadata": {},
   "outputs": [],
   "source": [
    "saida_dos_modulos = [saida_flowrack_no_modulo_pela_classe(1),\n",
    "                    saida_flowrack_no_modulo_pela_classe(2),\n",
    "                    saida_flowrack_no_modulo_pela_classe(3),\n",
    "                    saida_flowrack_no_modulo_pela_classe(4),\n",
    "                    saida_flowrack_no_modulo_pela_classe(5),\n",
    "                    saida_flowrack_no_modulo_pela_classe(6),\n",
    "                    ]\n",
    "\n",
    "saida_dos_modulos = saida_dos_modulos[:numero_modulos]"
   ]
  },
  {
   "cell_type": "code",
   "execution_count": 143,
   "metadata": {},
   "outputs": [
    {
     "name": "stdout",
     "output_type": "stream",
     "text": [
      "2162417.0\n"
     ]
    },
    {
     "data": {
      "text/plain": [
       "432483.4"
      ]
     },
     "execution_count": 143,
     "metadata": {},
     "output_type": "execute_result"
    }
   ],
   "source": [
    "soma_total = 0\n",
    "for lista in saida_dos_modulos:\n",
    "    for valor in lista:\n",
    "        soma_total += valor\n",
    "\n",
    "print(soma_total)\n",
    "\n",
    "media_saida_modulo = round(soma_total / len(saida_dos_modulos), 1)\n",
    "media_saida_modulo"
   ]
  },
  {
   "cell_type": "code",
   "execution_count": 146,
   "metadata": {},
   "outputs": [],
   "source": [
    "saidas_list = []\n",
    "for i in range(len(saida_dos_modulos)):\n",
    "    sum_lista_i = round(sum(saida_dos_modulos[i]), 1)\n",
    "    saida_dif_sum_lista_i = round((sum_lista_i - media_saida_modulo), 1)\n",
    "    saidas_list.append(Decimal(str(saida_dif_sum_lista_i)))"
   ]
  },
  {
   "cell_type": "code",
   "execution_count": 147,
   "metadata": {},
   "outputs": [
    {
     "data": {
      "text/plain": [
       "[Decimal('2384.6'),\n",
       " Decimal('-217630.4'),\n",
       " Decimal('-32600.4'),\n",
       " Decimal('102903.6'),\n",
       " Decimal('144942.6')]"
      ]
     },
     "execution_count": 147,
     "metadata": {},
     "output_type": "execute_result"
    }
   ],
   "source": [
    "saidas_list"
   ]
  },
  {
   "cell_type": "code",
   "execution_count": 149,
   "metadata": {},
   "outputs": [
    {
     "data": {
      "text/plain": [
       "Decimal('0.0')"
      ]
     },
     "execution_count": 149,
     "metadata": {},
     "output_type": "execute_result"
    }
   ],
   "source": [
    "sum(saidas_list)"
   ]
  },
  {
   "cell_type": "code",
   "execution_count": 152,
   "metadata": {},
   "outputs": [
    {
     "name": "stdout",
     "output_type": "stream",
     "text": [
      "Combinação encontrada: [32687.0, 18102.0, 16043.0, 6159.0, 1474.0]\n"
     ]
    }
   ],
   "source": [
    "def encontrar_combinacao(lista, alvo):\n",
    "    for i in range(1, len(lista) + 1):\n",
    "        for comb in combinations(lista, i):\n",
    "            if sum(comb) == alvo:\n",
    "                return list(comb)\n",
    "    return None\n",
    "\n",
    "# Lista de números\n",
    "modulo = saida_dos_modulos[0]\n",
    "\n",
    "# Número alvo\n",
    "total_de_saida_desejada = 74465\n",
    "\n",
    "# Encontrar combinação\n",
    "comb = encontrar_combinacao(modulo, total_de_saida_desejada)\n",
    "\n",
    "if comb:\n",
    "    print(f\"Combinação encontrada: {comb}\")\n",
    "else:\n",
    "    print(\"Não foi possível encontrar uma combinação.\")"
   ]
  },
  {
   "cell_type": "code",
   "execution_count": null,
   "metadata": {},
   "outputs": [],
   "source": []
  }
 ],
 "metadata": {
  "kernelspec": {
   "display_name": "Python 3",
   "language": "python",
   "name": "python3"
  },
  "language_info": {
   "codemirror_mode": {
    "name": "ipython",
    "version": 3
   },
   "file_extension": ".py",
   "mimetype": "text/x-python",
   "name": "python",
   "nbconvert_exporter": "python",
   "pygments_lexer": "ipython3",
   "version": "3.11.8"
  }
 },
 "nbformat": 4,
 "nbformat_minor": 2
}
