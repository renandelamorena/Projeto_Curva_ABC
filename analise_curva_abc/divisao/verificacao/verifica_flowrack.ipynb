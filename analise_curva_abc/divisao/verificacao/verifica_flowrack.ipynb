{
 "cells": [
  {
   "cell_type": "code",
   "execution_count": 2,
   "id": "964d4dee",
   "metadata": {},
   "outputs": [],
   "source": [
    "import pandas as pd\n",
    "pd.set_option('display.max_columns', None)"
   ]
  },
  {
   "cell_type": "code",
   "execution_count": 5,
   "id": "6d6c200a",
   "metadata": {
    "scrolled": true
   },
   "outputs": [],
   "source": [
    "situacao_final = pd.read_excel(r'..\\..\\..\\tratamento_curva_abc\\dados_tratados\\situacao_final.xlsx')"
   ]
  },
  {
   "cell_type": "code",
   "execution_count": 6,
   "id": "9ac35ab5",
   "metadata": {},
   "outputs": [],
   "source": [
    "def refatorar_indece(df, nome_index):\n",
    "    \n",
    "    qnt_linha = df.shape[0] + 1\n",
    "\n",
    "    index = [i for i in range(1, qnt_linha)]\n",
    "\n",
    "    df.set_index(pd.Index(index), inplace=True)\n",
    "\n",
    "    df.index.name = nome_index\n",
    "\n",
    "    return df"
   ]
  },
  {
   "cell_type": "code",
   "execution_count": 7,
   "id": "52b42a81",
   "metadata": {
    "scrolled": true
   },
   "outputs": [
    {
     "name": "stderr",
     "output_type": "stream",
     "text": [
      "C:\\Users\\estoque\\AppData\\Local\\Temp\\ipykernel_18156\\2215081464.py:2: SettingWithCopyWarning: \n",
      "A value is trying to be set on a copy of a slice from a DataFrame.\n",
      "Try using .loc[row_indexer,col_indexer] = value instead\n",
      "\n",
      "See the caveats in the documentation: https://pandas.pydata.org/pandas-docs/stable/user_guide/indexing.html#returning-a-view-versus-a-copy\n",
      "  end_atuais['Ender.Fracionado'] = end_atuais['Ender.Fracionado'].astype(str)\n"
     ]
    }
   ],
   "source": [
    "end_atuais = situacao_final[['Código', 'Ender.Fracionado']]\n",
    "end_atuais['Ender.Fracionado'] = end_atuais['Ender.Fracionado'].astype(str)"
   ]
  },
  {
   "cell_type": "code",
   "execution_count": 10,
   "id": "60c14402",
   "metadata": {},
   "outputs": [
    {
     "data": {
      "text/html": [
       "<div>\n",
       "<style scoped>\n",
       "    .dataframe tbody tr th:only-of-type {\n",
       "        vertical-align: middle;\n",
       "    }\n",
       "\n",
       "    .dataframe tbody tr th {\n",
       "        vertical-align: top;\n",
       "    }\n",
       "\n",
       "    .dataframe thead th {\n",
       "        text-align: right;\n",
       "    }\n",
       "</style>\n",
       "<table border=\"1\" class=\"dataframe\">\n",
       "  <thead>\n",
       "    <tr style=\"text-align: right;\">\n",
       "      <th></th>\n",
       "      <th>Classe</th>\n",
       "      <th>29_28</th>\n",
       "      <th>27_26</th>\n",
       "      <th>25_24</th>\n",
       "      <th>23_22</th>\n",
       "      <th>21_20</th>\n",
       "      <th>19_18</th>\n",
       "    </tr>\n",
       "    <tr>\n",
       "      <th>Ordem</th>\n",
       "      <th></th>\n",
       "      <th></th>\n",
       "      <th></th>\n",
       "      <th></th>\n",
       "      <th></th>\n",
       "      <th></th>\n",
       "      <th></th>\n",
       "    </tr>\n",
       "  </thead>\n",
       "  <tbody>\n",
       "    <tr>\n",
       "      <th>1</th>\n",
       "      <td>AA</td>\n",
       "      <td>28.082</td>\n",
       "      <td>26.012</td>\n",
       "      <td>24.082</td>\n",
       "      <td>22.012</td>\n",
       "      <td>20.082</td>\n",
       "      <td>18.012</td>\n",
       "    </tr>\n",
       "    <tr>\n",
       "      <th>2</th>\n",
       "      <td>AA</td>\n",
       "      <td>29.012</td>\n",
       "      <td>26.022</td>\n",
       "      <td>25.012</td>\n",
       "      <td>22.022</td>\n",
       "      <td>21.012</td>\n",
       "      <td>18.022</td>\n",
       "    </tr>\n",
       "    <tr>\n",
       "      <th>3</th>\n",
       "      <td>AA</td>\n",
       "      <td>29.022</td>\n",
       "      <td>26.032</td>\n",
       "      <td>25.022</td>\n",
       "      <td>22.032</td>\n",
       "      <td>21.022</td>\n",
       "      <td>18.032</td>\n",
       "    </tr>\n",
       "    <tr>\n",
       "      <th>4</th>\n",
       "      <td>AA</td>\n",
       "      <td>29.032</td>\n",
       "      <td>26.042</td>\n",
       "      <td>25.032</td>\n",
       "      <td>22.042</td>\n",
       "      <td>21.032</td>\n",
       "      <td>18.042</td>\n",
       "    </tr>\n",
       "    <tr>\n",
       "      <th>5</th>\n",
       "      <td>AA</td>\n",
       "      <td>29.042</td>\n",
       "      <td>26.052</td>\n",
       "      <td>25.042</td>\n",
       "      <td>22.052</td>\n",
       "      <td>21.042</td>\n",
       "      <td>18.052</td>\n",
       "    </tr>\n",
       "    <tr>\n",
       "      <th>...</th>\n",
       "      <td>...</td>\n",
       "      <td>...</td>\n",
       "      <td>...</td>\n",
       "      <td>...</td>\n",
       "      <td>...</td>\n",
       "      <td>...</td>\n",
       "      <td>...</td>\n",
       "    </tr>\n",
       "    <tr>\n",
       "      <th>75</th>\n",
       "      <td>AC</td>\n",
       "      <td>29.086</td>\n",
       "      <td>27.086</td>\n",
       "      <td>25.086</td>\n",
       "      <td>23.086</td>\n",
       "      <td>21.086</td>\n",
       "      <td>18.086</td>\n",
       "    </tr>\n",
       "    <tr>\n",
       "      <th>76</th>\n",
       "      <td>AC</td>\n",
       "      <td>28.045</td>\n",
       "      <td>27.025</td>\n",
       "      <td>24.045</td>\n",
       "      <td>23.025</td>\n",
       "      <td>20.045</td>\n",
       "      <td>18.025</td>\n",
       "    </tr>\n",
       "    <tr>\n",
       "      <th>77</th>\n",
       "      <td>AC</td>\n",
       "      <td>28.055</td>\n",
       "      <td>27.035</td>\n",
       "      <td>24.055</td>\n",
       "      <td>23.035</td>\n",
       "      <td>20.055</td>\n",
       "      <td>18.035</td>\n",
       "    </tr>\n",
       "    <tr>\n",
       "      <th>78</th>\n",
       "      <td>AC</td>\n",
       "      <td>28.065</td>\n",
       "      <td>27.055</td>\n",
       "      <td>24.065</td>\n",
       "      <td>23.055</td>\n",
       "      <td>20.065</td>\n",
       "      <td>18.055</td>\n",
       "    </tr>\n",
       "    <tr>\n",
       "      <th>79</th>\n",
       "      <td>AC</td>\n",
       "      <td>28.075</td>\n",
       "      <td>27.075</td>\n",
       "      <td>24.075</td>\n",
       "      <td>23.075</td>\n",
       "      <td>20.075</td>\n",
       "      <td>18.075</td>\n",
       "    </tr>\n",
       "  </tbody>\n",
       "</table>\n",
       "<p>79 rows × 7 columns</p>\n",
       "</div>"
      ],
      "text/plain": [
       "      Classe   29_28   27_26   25_24   23_22   21_20   19_18\n",
       "Ordem                                                       \n",
       "1         AA  28.082  26.012  24.082  22.012  20.082  18.012\n",
       "2         AA  29.012  26.022  25.012  22.022  21.012  18.022\n",
       "3         AA  29.022  26.032  25.022  22.032  21.022  18.032\n",
       "4         AA  29.032  26.042  25.032  22.042  21.032  18.042\n",
       "5         AA  29.042  26.052  25.042  22.052  21.042  18.052\n",
       "...      ...     ...     ...     ...     ...     ...     ...\n",
       "75        AC  29.086  27.086  25.086  23.086  21.086  18.086\n",
       "76        AC  28.045  27.025  24.045  23.025  20.045  18.025\n",
       "77        AC  28.055  27.035  24.055  23.035  20.055  18.035\n",
       "78        AC  28.065  27.055  24.065  23.055  20.065  18.055\n",
       "79        AC  28.075  27.075  24.075  23.075  20.075  18.075\n",
       "\n",
       "[79 rows x 7 columns]"
      ]
     },
     "execution_count": 10,
     "metadata": {},
     "output_type": "execute_result"
    }
   ],
   "source": [
    "enderecos_x_locais = pd.read_excel(r'..\\..\\local\\locais_frac_classificados.xlsx')\n",
    "enderecos_x_locais.set_index('Unnamed: 0', inplace = True)\n",
    "\n",
    "refatorar_indece(enderecos_x_locais, 'Ordem')\n",
    "\n",
    "enderecos_x_locais = enderecos_x_locais.astype(str)\n",
    "enderecos_x_locais"
   ]
  },
  {
   "cell_type": "markdown",
   "id": "49ff4e77",
   "metadata": {},
   "source": [
    "### Verificando os itens a serem classificados"
   ]
  },
  {
   "cell_type": "code",
   "execution_count": 11,
   "id": "a34878a6",
   "metadata": {},
   "outputs": [],
   "source": [
    "# Local de fracionado classificado\n",
    "\n",
    "aa = enderecos_x_locais['Classe'] == 'AA'\n",
    "ab = enderecos_x_locais['Classe'] == 'AB'\n",
    "ac = enderecos_x_locais['Classe'] == 'AC'\n",
    "\n",
    "def loc_enderecos_locaisXmodulos(modulo, classe):\n",
    "\n",
    "    return enderecos_x_locais[classe][[modulo]]\n",
    "\n",
    "AA_29 = loc_enderecos_locaisXmodulos('29_28', aa)\n",
    "AB_29 = loc_enderecos_locaisXmodulos('29_28', ab)\n",
    "AC_29 = loc_enderecos_locaisXmodulos('29_28', ac)\n",
    "\n",
    "AA_27 = loc_enderecos_locaisXmodulos('27_26', aa)\n",
    "AB_27 = loc_enderecos_locaisXmodulos('27_26', ab)\n",
    "AC_27 = loc_enderecos_locaisXmodulos('27_26', ac)\n",
    "\n",
    "AA_25 = loc_enderecos_locaisXmodulos('25_24', aa)\n",
    "AB_25 = loc_enderecos_locaisXmodulos('25_24', ab)\n",
    "AC_25 = loc_enderecos_locaisXmodulos('25_24', ac)\n",
    "\n",
    "AA_23 = loc_enderecos_locaisXmodulos('23_22', aa)\n",
    "AB_23 = loc_enderecos_locaisXmodulos('23_22', ab)\n",
    "AC_23 = loc_enderecos_locaisXmodulos('23_22', ac)\n",
    "\n",
    "AA_21 = loc_enderecos_locaisXmodulos('21_20', aa)\n",
    "AB_21 = loc_enderecos_locaisXmodulos('21_20', ab)\n",
    "AC_21 = loc_enderecos_locaisXmodulos('21_20', ac)\n",
    "\n",
    "AA_19 = loc_enderecos_locaisXmodulos('19_18', aa)\n",
    "AB_19 = loc_enderecos_locaisXmodulos('19_18', ab)\n",
    "AC_19 = loc_enderecos_locaisXmodulos('19_18', ac)"
   ]
  },
  {
   "cell_type": "code",
   "execution_count": 12,
   "id": "76df5a12",
   "metadata": {},
   "outputs": [],
   "source": [
    "situacao_final['Ender.Fracionado'] = situacao_final['Ender.Fracionado'].astype(str)"
   ]
  },
  {
   "cell_type": "markdown",
   "id": "1f104ffa",
   "metadata": {},
   "source": [
    "## selecionar e somar a saida das classes por modulo"
   ]
  },
  {
   "cell_type": "markdown",
   "id": "30cd3cca",
   "metadata": {},
   "source": [
    "### 29_28"
   ]
  },
  {
   "cell_type": "code",
   "execution_count": null,
   "id": "363b7e2f",
   "metadata": {},
   "outputs": [
    {
     "name": "stdout",
     "output_type": "stream",
     "text": [
      "(580621.0, 161424.0, 162168.0)\n",
      "904213.0\n"
     ]
    }
   ],
   "source": [
    "selecao_AA_29 = situacao_final['Ender.Fracionado'].isin(AA_29['29_28'])\n",
    "selecao_AA_29 = situacao_final[selecao_AA_29]['Qtde Venda Frac'].sum()\n",
    "\n",
    "selecao_AB_29 = situacao_final['Ender.Fracionado'].isin(AB_29['29_28'])\n",
    "selecao_AB_29 = situacao_final[selecao_AB_29]['Qtde Venda Frac'].sum()\n",
    "\n",
    "selecao_AC_29 = situacao_final['Ender.Fracionado'].isin(AC_29['29_28'])\n",
    "selecao_AC_29 = situacao_final[selecao_AC_29]['Qtde Venda Frac'].sum()\n",
    "\n",
    "modulo_29_28_classe = selecao_AA_29, selecao_AB_29, selecao_AC_29\n",
    "print(modulo_29_28_classe)\n",
    "\n",
    "modulo_29_28_soma_classe = selecao_AA_29 + selecao_AB_29 + selecao_AC_29\n",
    "print(modulo_29_28_soma_classe)"
   ]
  },
  {
   "cell_type": "markdown",
   "id": "5adab6ce",
   "metadata": {},
   "source": [
    "### 27_26"
   ]
  },
  {
   "cell_type": "code",
   "execution_count": 14,
   "id": "37c13187",
   "metadata": {},
   "outputs": [
    {
     "name": "stdout",
     "output_type": "stream",
     "text": [
      "(277093.0, 102802.0, 254013.0)\n",
      "633908.0\n"
     ]
    }
   ],
   "source": [
    "selecao_AA_27 = situacao_final['Ender.Fracionado'].isin(AA_27['27_26'])\n",
    "selecao_AA_27 = situacao_final[selecao_AA_27]['Qtde Venda Frac'].sum()\n",
    "\n",
    "selecao_AB_27 = situacao_final['Ender.Fracionado'].isin(AB_27['27_26'])\n",
    "selecao_AB_27 = situacao_final[selecao_AB_27]['Qtde Venda Frac'].sum()\n",
    "\n",
    "selecao_AC_27 = situacao_final['Ender.Fracionado'].isin(AC_27['27_26'])\n",
    "selecao_AC_27 = situacao_final[selecao_AC_27]['Qtde Venda Frac'].sum()\n",
    "\n",
    "modulo_27_26_classe = selecao_AA_27, selecao_AB_27, selecao_AC_27\n",
    "print(modulo_27_26_classe)\n",
    "\n",
    "modulo_27_26_soma_classe = selecao_AA_27 + selecao_AB_27 + selecao_AC_27\n",
    "print(modulo_27_26_soma_classe)"
   ]
  },
  {
   "cell_type": "markdown",
   "id": "4036965c",
   "metadata": {},
   "source": [
    "### 25_24"
   ]
  },
  {
   "cell_type": "code",
   "execution_count": 15,
   "id": "9760d18c",
   "metadata": {},
   "outputs": [
    {
     "name": "stdout",
     "output_type": "stream",
     "text": [
      "(383797.0, 139594.0, 49627.0)\n",
      "573018.0\n"
     ]
    }
   ],
   "source": [
    "selecao_AA_25 = situacao_final['Ender.Fracionado'].isin(AA_25['25_24'])\n",
    "selecao_AA_25 = situacao_final[selecao_AA_25]['Qtde Venda Frac'].sum()\n",
    "\n",
    "selecao_AB_25 = situacao_final['Ender.Fracionado'].isin(AB_25['25_24'])\n",
    "selecao_AB_25 = situacao_final[selecao_AB_25]['Qtde Venda Frac'].sum()\n",
    "\n",
    "selecao_AC_25 = situacao_final['Ender.Fracionado'].isin(AC_25['25_24'])\n",
    "selecao_AC_25 = situacao_final[selecao_AC_25]['Qtde Venda Frac'].sum()\n",
    "\n",
    "modulo_25_24_classe = selecao_AA_25, selecao_AB_25, selecao_AC_25\n",
    "print(modulo_25_24_classe)\n",
    "\n",
    "modulo_25_24_soma_classe = selecao_AA_25 + selecao_AB_25 + selecao_AC_25\n",
    "print(modulo_25_24_soma_classe)"
   ]
  },
  {
   "cell_type": "markdown",
   "id": "003277d2",
   "metadata": {},
   "source": [
    "### 23_22"
   ]
  },
  {
   "cell_type": "code",
   "execution_count": 16,
   "id": "ab6c6a00",
   "metadata": {},
   "outputs": [
    {
     "name": "stdout",
     "output_type": "stream",
     "text": [
      "(501952.0, 112178.0, 70551.0)\n",
      "684681.0\n"
     ]
    }
   ],
   "source": [
    "selecao_AA_23 = situacao_final['Ender.Fracionado'].isin(AA_23['23_22'])\n",
    "selecao_AA_23 = situacao_final[selecao_AA_23]['Qtde Venda Frac'].sum()\n",
    "\n",
    "selecao_AB_23 = situacao_final['Ender.Fracionado'].isin(AB_23['23_22'])\n",
    "selecao_AB_23 = situacao_final[selecao_AB_23]['Qtde Venda Frac'].sum()\n",
    "\n",
    "selecao_AC_23 = situacao_final['Ender.Fracionado'].isin(AC_23['23_22'])\n",
    "selecao_AC_23 = situacao_final[selecao_AC_23]['Qtde Venda Frac'].sum()\n",
    "\n",
    "modulo_23_22_classe = selecao_AA_23, selecao_AB_23, selecao_AC_23\n",
    "print(modulo_23_22_classe)\n",
    "\n",
    "modulo_23_22_soma_classe = selecao_AA_23 + selecao_AB_23 + selecao_AC_23\n",
    "print(modulo_23_22_soma_classe)"
   ]
  },
  {
   "cell_type": "markdown",
   "id": "b40aaf0a",
   "metadata": {},
   "source": [
    "### 21_20"
   ]
  },
  {
   "cell_type": "code",
   "execution_count": 17,
   "id": "b40fd48a",
   "metadata": {},
   "outputs": [
    {
     "name": "stdout",
     "output_type": "stream",
     "text": [
      "(525881.0, 186768.0, 47404.0)\n",
      "760053.0\n"
     ]
    }
   ],
   "source": [
    "selecao_AA_21 = situacao_final['Ender.Fracionado'].isin(AA_21['21_20'])\n",
    "selecao_AA_21 = situacao_final[selecao_AA_21]['Qtde Venda Frac'].sum()\n",
    "\n",
    "selecao_AB_21 = situacao_final['Ender.Fracionado'].isin(AB_21['21_20'])\n",
    "selecao_AB_21 = situacao_final[selecao_AB_21]['Qtde Venda Frac'].sum()\n",
    "\n",
    "selecao_AC_21 = situacao_final['Ender.Fracionado'].isin(AC_21['21_20'])\n",
    "selecao_AC_21 = situacao_final[selecao_AC_21]['Qtde Venda Frac'].sum()\n",
    "\n",
    "modulo_21_20_classe = selecao_AA_21, selecao_AB_21, selecao_AC_21\n",
    "print(modulo_21_20_classe)\n",
    "\n",
    "modulo_21_20_soma_classe = selecao_AA_21 + selecao_AB_21 + selecao_AC_21\n",
    "print(modulo_21_20_soma_classe)"
   ]
  },
  {
   "cell_type": "markdown",
   "id": "ee4b9855",
   "metadata": {},
   "source": [
    "### 19_18"
   ]
  },
  {
   "cell_type": "code",
   "execution_count": 18,
   "id": "c6652e65",
   "metadata": {},
   "outputs": [
    {
     "name": "stdout",
     "output_type": "stream",
     "text": [
      "(14136.0, 20275.0, 0.0)\n",
      "34411.0\n"
     ]
    }
   ],
   "source": [
    "selecao_AA_19 = situacao_final['Ender.Fracionado'].isin(AA_19['19_18'])\n",
    "selecao_AA_19 = situacao_final[selecao_AA_19]['Qtde Venda Frac'].sum()\n",
    "\n",
    "selecao_AB_19 = situacao_final['Ender.Fracionado'].isin(AB_19['19_18'])\n",
    "selecao_AB_19 = situacao_final[selecao_AB_19]['Qtde Venda Frac'].sum()\n",
    "\n",
    "selecao_AC_19 = situacao_final['Ender.Fracionado'].isin(AC_19['19_18'])\n",
    "selecao_AC_19 = situacao_final[selecao_AC_19]['Qtde Venda Frac'].sum()\n",
    "\n",
    "modulo_19_18_classe = selecao_AA_19, selecao_AB_19, selecao_AC_19\n",
    "print(modulo_19_18_classe)\n",
    "\n",
    "modulo_19_18_soma_classe = selecao_AA_19 + selecao_AB_19 + selecao_AC_19\n",
    "print(modulo_19_18_soma_classe)"
   ]
  },
  {
   "cell_type": "markdown",
   "id": "18e3373a",
   "metadata": {},
   "source": [
    "### Selecionar flowrack inteiro"
   ]
  },
  {
   "cell_type": "code",
   "execution_count": 19,
   "id": "21298159",
   "metadata": {},
   "outputs": [],
   "source": [
    "selecao_flowrack_29_28 = situacao_final['Ender.Fracionado'].str.contains('29.0|28.0')\n",
    "selecao_flowrack_27_26 = situacao_final['Ender.Fracionado'].str.contains('27.0|26.0')\n",
    "selecao_flowrack_25_24 = situacao_final['Ender.Fracionado'].str.contains('25.0|24.0')\n",
    "selecao_flowrack_23_22 = situacao_final['Ender.Fracionado'].str.contains('23.0|22.0')\n",
    "selecao_flowrack_21_20 = situacao_final['Ender.Fracionado'].str.contains('21.0|20.0')\n",
    "selecao_flowrack_19_18 = situacao_final['Ender.Fracionado'].str.contains('19.0|18.0')\n",
    "\n",
    "saida_flowrack_29_28 = situacao_final[selecao_flowrack_29_28]['Qtde Venda Frac'].sum()\n",
    "saida_flowrack_27_26 = situacao_final[selecao_flowrack_27_26]['Qtde Venda Frac'].sum()\n",
    "saida_flowrack_25_24 = situacao_final[selecao_flowrack_25_24]['Qtde Venda Frac'].sum()\n",
    "saida_flowrack_23_22 = situacao_final[selecao_flowrack_23_22]['Qtde Venda Frac'].sum()\n",
    "saida_flowrack_21_20 = situacao_final[selecao_flowrack_21_20]['Qtde Venda Frac'].sum()\n",
    "saida_flowrack_19_18 = situacao_final[selecao_flowrack_19_18]['Qtde Venda Frac'].sum()"
   ]
  },
  {
   "cell_type": "code",
   "execution_count": 20,
   "id": "763695bf",
   "metadata": {},
   "outputs": [
    {
     "data": {
      "text/html": [
       "<div>\n",
       "<style scoped>\n",
       "    .dataframe tbody tr th:only-of-type {\n",
       "        vertical-align: middle;\n",
       "    }\n",
       "\n",
       "    .dataframe tbody tr th {\n",
       "        vertical-align: top;\n",
       "    }\n",
       "\n",
       "    .dataframe thead th {\n",
       "        text-align: right;\n",
       "    }\n",
       "</style>\n",
       "<table border=\"1\" class=\"dataframe\">\n",
       "  <thead>\n",
       "    <tr style=\"text-align: right;\">\n",
       "      <th></th>\n",
       "      <th>Modulo</th>\n",
       "      <th>Saída total flowrack</th>\n",
       "    </tr>\n",
       "  </thead>\n",
       "  <tbody>\n",
       "    <tr>\n",
       "      <th>0</th>\n",
       "      <td>28_29</td>\n",
       "      <td>1017227.0</td>\n",
       "    </tr>\n",
       "    <tr>\n",
       "      <th>1</th>\n",
       "      <td>27_26</td>\n",
       "      <td>778379.0</td>\n",
       "    </tr>\n",
       "    <tr>\n",
       "      <th>2</th>\n",
       "      <td>25_24</td>\n",
       "      <td>754587.0</td>\n",
       "    </tr>\n",
       "    <tr>\n",
       "      <th>3</th>\n",
       "      <td>23_22</td>\n",
       "      <td>849163.0</td>\n",
       "    </tr>\n",
       "    <tr>\n",
       "      <th>4</th>\n",
       "      <td>21_20</td>\n",
       "      <td>939572.0</td>\n",
       "    </tr>\n",
       "    <tr>\n",
       "      <th>5</th>\n",
       "      <td>18_19</td>\n",
       "      <td>170620.0</td>\n",
       "    </tr>\n",
       "  </tbody>\n",
       "</table>\n",
       "</div>"
      ],
      "text/plain": [
       "  Modulo  Saída total flowrack\n",
       "0  28_29             1017227.0\n",
       "1  27_26              778379.0\n",
       "2  25_24              754587.0\n",
       "3  23_22              849163.0\n",
       "4  21_20              939572.0\n",
       "5  18_19              170620.0"
      ]
     },
     "execution_count": 20,
     "metadata": {},
     "output_type": "execute_result"
    }
   ],
   "source": [
    "saidaXmodulos = pd.DataFrame([['28_29', saida_flowrack_29_28],\n",
    "                            ['27_26', saida_flowrack_27_26],\n",
    "                            ['25_24', saida_flowrack_25_24],\n",
    "                            ['23_22', saida_flowrack_23_22],\n",
    "                            ['21_20', saida_flowrack_21_20],\n",
    "                            ['18_19', saida_flowrack_19_18],\n",
    "                            ], columns=['Modulo', 'Saída total flowrack'])\n",
    "saidaXmodulos"
   ]
  },
  {
   "cell_type": "code",
   "execution_count": 22,
   "id": "26c99616",
   "metadata": {},
   "outputs": [],
   "source": [
    "saidaXmodulos.to_excel('..\\datasets\\saidaXmodulos.xlsx', index=False)"
   ]
  },
  {
   "cell_type": "markdown",
   "id": "f764f56d",
   "metadata": {},
   "source": [
    "### Juntas as saidas"
   ]
  },
  {
   "cell_type": "code",
   "execution_count": 179,
   "id": "8a6032cd",
   "metadata": {},
   "outputs": [
    {
     "data": {
      "text/html": [
       "<div>\n",
       "<style scoped>\n",
       "    .dataframe tbody tr th:only-of-type {\n",
       "        vertical-align: middle;\n",
       "    }\n",
       "\n",
       "    .dataframe tbody tr th {\n",
       "        vertical-align: top;\n",
       "    }\n",
       "\n",
       "    .dataframe thead th {\n",
       "        text-align: right;\n",
       "    }\n",
       "</style>\n",
       "<table border=\"1\" class=\"dataframe\">\n",
       "  <thead>\n",
       "    <tr style=\"text-align: right;\">\n",
       "      <th></th>\n",
       "      <th>Módulo</th>\n",
       "      <th>Classe</th>\n",
       "      <th>Saída por classe</th>\n",
       "      <th>Saída total do modulo</th>\n",
       "    </tr>\n",
       "  </thead>\n",
       "  <tbody>\n",
       "    <tr>\n",
       "      <th>0</th>\n",
       "      <td>29_28</td>\n",
       "      <td>AA</td>\n",
       "      <td>585012.0</td>\n",
       "      <td>765764.0</td>\n",
       "    </tr>\n",
       "    <tr>\n",
       "      <th>1</th>\n",
       "      <td>29_28</td>\n",
       "      <td>AB</td>\n",
       "      <td>152670.0</td>\n",
       "      <td>765764.0</td>\n",
       "    </tr>\n",
       "    <tr>\n",
       "      <th>2</th>\n",
       "      <td>29_28</td>\n",
       "      <td>AC</td>\n",
       "      <td>28082.0</td>\n",
       "      <td>765764.0</td>\n",
       "    </tr>\n",
       "    <tr>\n",
       "      <th>3</th>\n",
       "      <td>27_26</td>\n",
       "      <td>AA</td>\n",
       "      <td>260606.0</td>\n",
       "      <td>423855.0</td>\n",
       "    </tr>\n",
       "    <tr>\n",
       "      <th>4</th>\n",
       "      <td>27_26</td>\n",
       "      <td>AB</td>\n",
       "      <td>98709.0</td>\n",
       "      <td>423855.0</td>\n",
       "    </tr>\n",
       "    <tr>\n",
       "      <th>5</th>\n",
       "      <td>27_26</td>\n",
       "      <td>AC</td>\n",
       "      <td>64540.0</td>\n",
       "      <td>423855.0</td>\n",
       "    </tr>\n",
       "    <tr>\n",
       "      <th>6</th>\n",
       "      <td>25_24</td>\n",
       "      <td>AA</td>\n",
       "      <td>363562.0</td>\n",
       "      <td>512535.0</td>\n",
       "    </tr>\n",
       "    <tr>\n",
       "      <th>7</th>\n",
       "      <td>25_24</td>\n",
       "      <td>AB</td>\n",
       "      <td>120634.0</td>\n",
       "      <td>512535.0</td>\n",
       "    </tr>\n",
       "    <tr>\n",
       "      <th>8</th>\n",
       "      <td>25_24</td>\n",
       "      <td>AC</td>\n",
       "      <td>28339.0</td>\n",
       "      <td>512535.0</td>\n",
       "    </tr>\n",
       "    <tr>\n",
       "      <th>9</th>\n",
       "      <td>23_22</td>\n",
       "      <td>AA</td>\n",
       "      <td>501952.0</td>\n",
       "      <td>640425.0</td>\n",
       "    </tr>\n",
       "    <tr>\n",
       "      <th>10</th>\n",
       "      <td>23_22</td>\n",
       "      <td>AB</td>\n",
       "      <td>112178.0</td>\n",
       "      <td>640425.0</td>\n",
       "    </tr>\n",
       "    <tr>\n",
       "      <th>11</th>\n",
       "      <td>23_22</td>\n",
       "      <td>AC</td>\n",
       "      <td>26295.0</td>\n",
       "      <td>640425.0</td>\n",
       "    </tr>\n",
       "    <tr>\n",
       "      <th>12</th>\n",
       "      <td>21_20</td>\n",
       "      <td>AA</td>\n",
       "      <td>525881.0</td>\n",
       "      <td>682354.0</td>\n",
       "    </tr>\n",
       "    <tr>\n",
       "      <th>13</th>\n",
       "      <td>21_20</td>\n",
       "      <td>AB</td>\n",
       "      <td>120071.0</td>\n",
       "      <td>682354.0</td>\n",
       "    </tr>\n",
       "    <tr>\n",
       "      <th>14</th>\n",
       "      <td>21_20</td>\n",
       "      <td>AC</td>\n",
       "      <td>36402.0</td>\n",
       "      <td>682354.0</td>\n",
       "    </tr>\n",
       "    <tr>\n",
       "      <th>15</th>\n",
       "      <td>19_18</td>\n",
       "      <td>AA</td>\n",
       "      <td>350028.0</td>\n",
       "      <td>863301.0</td>\n",
       "    </tr>\n",
       "    <tr>\n",
       "      <th>16</th>\n",
       "      <td>19_18</td>\n",
       "      <td>AB</td>\n",
       "      <td>282308.0</td>\n",
       "      <td>863301.0</td>\n",
       "    </tr>\n",
       "    <tr>\n",
       "      <th>17</th>\n",
       "      <td>19_18</td>\n",
       "      <td>AC</td>\n",
       "      <td>230965.0</td>\n",
       "      <td>863301.0</td>\n",
       "    </tr>\n",
       "  </tbody>\n",
       "</table>\n",
       "</div>"
      ],
      "text/plain": [
       "   Módulo Classe  Saída por classe  Saída total do modulo\n",
       "0   29_28     AA          585012.0               765764.0\n",
       "1   29_28     AB          152670.0               765764.0\n",
       "2   29_28     AC           28082.0               765764.0\n",
       "3   27_26     AA          260606.0               423855.0\n",
       "4   27_26     AB           98709.0               423855.0\n",
       "5   27_26     AC           64540.0               423855.0\n",
       "6   25_24     AA          363562.0               512535.0\n",
       "7   25_24     AB          120634.0               512535.0\n",
       "8   25_24     AC           28339.0               512535.0\n",
       "9   23_22     AA          501952.0               640425.0\n",
       "10  23_22     AB          112178.0               640425.0\n",
       "11  23_22     AC           26295.0               640425.0\n",
       "12  21_20     AA          525881.0               682354.0\n",
       "13  21_20     AB          120071.0               682354.0\n",
       "14  21_20     AC           36402.0               682354.0\n",
       "15  19_18     AA          350028.0               863301.0\n",
       "16  19_18     AB          282308.0               863301.0\n",
       "17  19_18     AC          230965.0               863301.0"
      ]
     },
     "execution_count": 179,
     "metadata": {},
     "output_type": "execute_result"
    }
   ],
   "source": [
    "saidasXclasses = pd.DataFrame([['29_28', 'AA', selecao_AA_29, modulo_29_28_soma_classe],\n",
    "                                ['29_28', 'AB', selecao_AB_29, modulo_29_28_soma_classe],\n",
    "                                ['29_28', 'AC', selecao_AC_29, modulo_29_28_soma_classe],\n",
    "                                ['27_26', 'AA', selecao_AA_27, modulo_27_26_soma_classe],\n",
    "                                ['27_26', 'AB', selecao_AB_27, modulo_27_26_soma_classe],\n",
    "                                ['27_26', 'AC', selecao_AC_27, modulo_27_26_soma_classe],\n",
    "                                ['25_24', 'AA', selecao_AA_25, modulo_25_24_soma_classe],\n",
    "                                ['25_24', 'AB', selecao_AB_25, modulo_25_24_soma_classe],\n",
    "                                ['25_24', 'AC', selecao_AC_25, modulo_25_24_soma_classe],\n",
    "                                ['23_22', 'AA', selecao_AA_23, modulo_23_22_soma_classe],\n",
    "                                ['23_22', 'AB', selecao_AB_23, modulo_23_22_soma_classe],\n",
    "                                ['23_22', 'AC', selecao_AC_23, modulo_23_22_soma_classe],\n",
    "                                ['21_20', 'AA', selecao_AA_21, modulo_21_20_soma_classe],\n",
    "                                ['21_20', 'AB', selecao_AB_21, modulo_21_20_soma_classe],\n",
    "                                ['21_20', 'AC', selecao_AC_21, modulo_21_20_soma_classe],\n",
    "                                ['19_18', 'AA', selecao_AA_19, modulo_19_18_soma_classe],\n",
    "                                ['19_18', 'AB', selecao_AB_19, modulo_19_18_soma_classe],\n",
    "                                ['19_18', 'AC', selecao_AC_19, modulo_19_18_soma_classe],\n",
    "                                ], columns=['Módulo', 'Classe', 'Saída por classe', 'Saída total do modulo'])\n",
    "saidasXclasses"
   ]
  },
  {
   "cell_type": "code",
   "execution_count": 180,
   "id": "cdd476e9",
   "metadata": {},
   "outputs": [],
   "source": [
    "saidasXclasses.to_excel('datasets\\saidasXclasses.xlsx', index=False)"
   ]
  },
  {
   "cell_type": "markdown",
   "id": "11bb3478",
   "metadata": {},
   "source": [
    "### Verificar os itens no endereço do modulo"
   ]
  },
  {
   "cell_type": "code",
   "execution_count": null,
   "id": "86ba6e6c",
   "metadata": {},
   "outputs": [],
   "source": []
  }
 ],
 "metadata": {
  "kernelspec": {
   "display_name": "Python 3 (ipykernel)",
   "language": "python",
   "name": "python3"
  },
  "language_info": {
   "codemirror_mode": {
    "name": "ipython",
    "version": 3
   },
   "file_extension": ".py",
   "mimetype": "text/x-python",
   "name": "python",
   "nbconvert_exporter": "python",
   "pygments_lexer": "ipython3",
   "version": "3.11.6"
  }
 },
 "nbformat": 4,
 "nbformat_minor": 5
}
