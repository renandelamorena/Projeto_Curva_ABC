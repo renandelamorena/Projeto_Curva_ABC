{
 "cells": [
  {
   "cell_type": "code",
   "execution_count": 107,
   "metadata": {},
   "outputs": [],
   "source": [
    "import numpy as np\n",
    "import pandas as pd\n",
    "import matplotlib.pyplot as plt\n",
    "import seaborn as sns\n",
    "\n",
    "pd.set_option('display.max_columns', None)\n",
    "\n",
    "# %matplotlib inline"
   ]
  },
  {
   "cell_type": "code",
   "execution_count": 3,
   "metadata": {},
   "outputs": [],
   "source": [
    "df = pd.read_excel(r'..\\..\\tratamento_curva_abc\\dados_tratados\\situacao_final.xlsx')"
   ]
  },
  {
   "cell_type": "code",
   "execution_count": 108,
   "metadata": {},
   "outputs": [
    {
     "data": {
      "text/html": [
       "<div>\n",
       "<style scoped>\n",
       "    .dataframe tbody tr th:only-of-type {\n",
       "        vertical-align: middle;\n",
       "    }\n",
       "\n",
       "    .dataframe tbody tr th {\n",
       "        vertical-align: top;\n",
       "    }\n",
       "\n",
       "    .dataframe thead th {\n",
       "        text-align: right;\n",
       "    }\n",
       "</style>\n",
       "<table border=\"1\" class=\"dataframe\">\n",
       "  <thead>\n",
       "    <tr style=\"text-align: right;\">\n",
       "      <th></th>\n",
       "      <th>Ordem</th>\n",
       "      <th>Código</th>\n",
       "      <th>Descrição</th>\n",
       "      <th>Curva Frac</th>\n",
       "      <th>Curva Cx</th>\n",
       "      <th>Curva Geral</th>\n",
       "      <th>Qtde Venda Frac</th>\n",
       "      <th>Qtde Venda Cx</th>\n",
       "      <th>Qtde Venda Geral</th>\n",
       "      <th>Dias Pedido Frac</th>\n",
       "      <th>Dias Pedido Cx</th>\n",
       "      <th>Dias Pedido Geral</th>\n",
       "      <th>Ativ.Ressupr.Frac</th>\n",
       "      <th>Ativ.Ressupr.Cx</th>\n",
       "      <th>Ativ.Ressupr.Geral</th>\n",
       "      <th>Média por dia frac</th>\n",
       "      <th>Média por dia cx</th>\n",
       "      <th>Média por dia geral</th>\n",
       "      <th>Estoque Armaz.</th>\n",
       "      <th>Estoque Cx</th>\n",
       "      <th>Ender.Cx.Fechada</th>\n",
       "      <th>Estoque Frac</th>\n",
       "      <th>Capacidade Frac</th>\n",
       "      <th>Embal.</th>\n",
       "      <th>Permite Frac.</th>\n",
       "      <th>Apanha Frac</th>\n",
       "      <th>Ender.Fracionado</th>\n",
       "      <th>Tipo</th>\n",
       "      <th>Qtde Desvio Picking</th>\n",
       "    </tr>\n",
       "  </thead>\n",
       "  <tbody>\n",
       "    <tr>\n",
       "      <th>0</th>\n",
       "      <td>1</td>\n",
       "      <td>106011</td>\n",
       "      <td>NARIDRIN 12 HORAS FR C/30ML</td>\n",
       "      <td>A</td>\n",
       "      <td>A</td>\n",
       "      <td>A</td>\n",
       "      <td>326592.0</td>\n",
       "      <td>7240.0</td>\n",
       "      <td>1050592.0</td>\n",
       "      <td>277.0</td>\n",
       "      <td>247.0</td>\n",
       "      <td>280.0</td>\n",
       "      <td>1378.0</td>\n",
       "      <td>307.0</td>\n",
       "      <td>1378.0</td>\n",
       "      <td>1179.0325</td>\n",
       "      <td>29.3117</td>\n",
       "      <td>3752.1143</td>\n",
       "      <td>1388.0</td>\n",
       "      <td>59</td>\n",
       "      <td>016-037-01-02</td>\n",
       "      <td>146.0</td>\n",
       "      <td>200.0</td>\n",
       "      <td>100.0</td>\n",
       "      <td>Não</td>\n",
       "      <td>Sim</td>\n",
       "      <td>29.913</td>\n",
       "      <td>Ponta De G</td>\n",
       "      <td>3399.0</td>\n",
       "    </tr>\n",
       "    <tr>\n",
       "      <th>1</th>\n",
       "      <td>2</td>\n",
       "      <td>231012</td>\n",
       "      <td>EXPEC XAROPE FR C/120ML</td>\n",
       "      <td>A</td>\n",
       "      <td>A</td>\n",
       "      <td>A</td>\n",
       "      <td>177833.0</td>\n",
       "      <td>5351.0</td>\n",
       "      <td>498893.0</td>\n",
       "      <td>256.0</td>\n",
       "      <td>212.0</td>\n",
       "      <td>258.0</td>\n",
       "      <td>1074.0</td>\n",
       "      <td>332.0</td>\n",
       "      <td>1074.0</td>\n",
       "      <td>694.6602</td>\n",
       "      <td>25.2406</td>\n",
       "      <td>1933.6938</td>\n",
       "      <td>1966.0</td>\n",
       "      <td>27</td>\n",
       "      <td>016-043-01-02</td>\n",
       "      <td>291.0</td>\n",
       "      <td>360.0</td>\n",
       "      <td>60.0</td>\n",
       "      <td>Não</td>\n",
       "      <td>Sim</td>\n",
       "      <td>26.036</td>\n",
       "      <td>Flowrack</td>\n",
       "      <td>2743.0</td>\n",
       "    </tr>\n",
       "    <tr>\n",
       "      <th>2</th>\n",
       "      <td>3</td>\n",
       "      <td>101190</td>\n",
       "      <td>EMSEXPECTOR XPE 120ML</td>\n",
       "      <td>A</td>\n",
       "      <td>A</td>\n",
       "      <td>A</td>\n",
       "      <td>160718.0</td>\n",
       "      <td>1269.0</td>\n",
       "      <td>236858.0</td>\n",
       "      <td>257.0</td>\n",
       "      <td>172.0</td>\n",
       "      <td>258.0</td>\n",
       "      <td>1166.0</td>\n",
       "      <td>353.0</td>\n",
       "      <td>1166.0</td>\n",
       "      <td>625.3619</td>\n",
       "      <td>7.3779</td>\n",
       "      <td>918.0543</td>\n",
       "      <td>718.0</td>\n",
       "      <td>9</td>\n",
       "      <td>016-035-01-02</td>\n",
       "      <td>275.0</td>\n",
       "      <td>240.0</td>\n",
       "      <td>60.0</td>\n",
       "      <td>Não</td>\n",
       "      <td>Sim</td>\n",
       "      <td>29.911</td>\n",
       "      <td>Ponta De G</td>\n",
       "      <td>4703.0</td>\n",
       "    </tr>\n",
       "    <tr>\n",
       "      <th>3</th>\n",
       "      <td>4</td>\n",
       "      <td>101175</td>\n",
       "      <td>INFRALAX C/ 15 COMP</td>\n",
       "      <td>A</td>\n",
       "      <td>A</td>\n",
       "      <td>A</td>\n",
       "      <td>96253.0</td>\n",
       "      <td>1523.0</td>\n",
       "      <td>169357.0</td>\n",
       "      <td>260.0</td>\n",
       "      <td>207.0</td>\n",
       "      <td>262.0</td>\n",
       "      <td>676.0</td>\n",
       "      <td>324.0</td>\n",
       "      <td>676.0</td>\n",
       "      <td>370.2038</td>\n",
       "      <td>7.3575</td>\n",
       "      <td>646.4008</td>\n",
       "      <td>276.0</td>\n",
       "      <td>22</td>\n",
       "      <td>014-032-02-01</td>\n",
       "      <td>156.0</td>\n",
       "      <td>192.0</td>\n",
       "      <td>48.0</td>\n",
       "      <td>Não</td>\n",
       "      <td>Sim</td>\n",
       "      <td>20.083</td>\n",
       "      <td>Flowrack</td>\n",
       "      <td>2368.0</td>\n",
       "    </tr>\n",
       "    <tr>\n",
       "      <th>4</th>\n",
       "      <td>5</td>\n",
       "      <td>10302</td>\n",
       "      <td>LOSARTANA POT 50MG 30CP</td>\n",
       "      <td>A</td>\n",
       "      <td>A</td>\n",
       "      <td>A</td>\n",
       "      <td>34385.0</td>\n",
       "      <td>1594.0</td>\n",
       "      <td>168281.0</td>\n",
       "      <td>171.0</td>\n",
       "      <td>99.0</td>\n",
       "      <td>174.0</td>\n",
       "      <td>168.0</td>\n",
       "      <td>159.0</td>\n",
       "      <td>168.0</td>\n",
       "      <td>201.0819</td>\n",
       "      <td>16.1010</td>\n",
       "      <td>967.1322</td>\n",
       "      <td>0.0</td>\n",
       "      <td>1</td>\n",
       "      <td>015-033-01-01</td>\n",
       "      <td>209.0</td>\n",
       "      <td>220.0</td>\n",
       "      <td>84.0</td>\n",
       "      <td>Não</td>\n",
       "      <td>Sim</td>\n",
       "      <td>22.013</td>\n",
       "      <td>Flowrack</td>\n",
       "      <td>123.0</td>\n",
       "    </tr>\n",
       "  </tbody>\n",
       "</table>\n",
       "</div>"
      ],
      "text/plain": [
       "   Ordem  Código                    Descrição Curva Frac Curva Cx Curva Geral  \\\n",
       "0      1  106011  NARIDRIN 12 HORAS FR C/30ML          A        A           A   \n",
       "1      2  231012      EXPEC XAROPE FR C/120ML          A        A           A   \n",
       "2      3  101190        EMSEXPECTOR XPE 120ML          A        A           A   \n",
       "3      4  101175          INFRALAX C/ 15 COMP          A        A           A   \n",
       "4      5   10302      LOSARTANA POT 50MG 30CP          A        A           A   \n",
       "\n",
       "   Qtde Venda Frac  Qtde Venda Cx  Qtde Venda Geral  Dias Pedido Frac  \\\n",
       "0         326592.0         7240.0         1050592.0             277.0   \n",
       "1         177833.0         5351.0          498893.0             256.0   \n",
       "2         160718.0         1269.0          236858.0             257.0   \n",
       "3          96253.0         1523.0          169357.0             260.0   \n",
       "4          34385.0         1594.0          168281.0             171.0   \n",
       "\n",
       "   Dias Pedido Cx  Dias Pedido Geral  Ativ.Ressupr.Frac  Ativ.Ressupr.Cx  \\\n",
       "0           247.0              280.0             1378.0            307.0   \n",
       "1           212.0              258.0             1074.0            332.0   \n",
       "2           172.0              258.0             1166.0            353.0   \n",
       "3           207.0              262.0              676.0            324.0   \n",
       "4            99.0              174.0              168.0            159.0   \n",
       "\n",
       "   Ativ.Ressupr.Geral  Média por dia frac  Média por dia cx  \\\n",
       "0              1378.0           1179.0325           29.3117   \n",
       "1              1074.0            694.6602           25.2406   \n",
       "2              1166.0            625.3619            7.3779   \n",
       "3               676.0            370.2038            7.3575   \n",
       "4               168.0            201.0819           16.1010   \n",
       "\n",
       "   Média por dia geral  Estoque Armaz. Estoque Cx Ender.Cx.Fechada  \\\n",
       "0            3752.1143          1388.0         59    016-037-01-02   \n",
       "1            1933.6938          1966.0         27    016-043-01-02   \n",
       "2             918.0543           718.0          9    016-035-01-02   \n",
       "3             646.4008           276.0         22    014-032-02-01   \n",
       "4             967.1322             0.0          1    015-033-01-01   \n",
       "\n",
       "   Estoque Frac  Capacidade Frac  Embal. Permite Frac. Apanha Frac  \\\n",
       "0         146.0            200.0   100.0           Não         Sim   \n",
       "1         291.0            360.0    60.0           Não         Sim   \n",
       "2         275.0            240.0    60.0           Não         Sim   \n",
       "3         156.0            192.0    48.0           Não         Sim   \n",
       "4         209.0            220.0    84.0           Não         Sim   \n",
       "\n",
       "   Ender.Fracionado        Tipo  Qtde Desvio Picking  \n",
       "0            29.913  Ponta De G               3399.0  \n",
       "1            26.036    Flowrack               2743.0  \n",
       "2            29.911  Ponta De G               4703.0  \n",
       "3            20.083    Flowrack               2368.0  \n",
       "4            22.013    Flowrack                123.0  "
      ]
     },
     "execution_count": 108,
     "metadata": {},
     "output_type": "execute_result"
    }
   ],
   "source": [
    "df.head()"
   ]
  },
  {
   "cell_type": "markdown",
   "metadata": {},
   "source": [
    "# Bar"
   ]
  },
  {
   "cell_type": "code",
   "execution_count": 81,
   "metadata": {},
   "outputs": [
    {
     "data": {
      "text/plain": [
       "<BarContainer object of 3 artists>"
      ]
     },
     "execution_count": 81,
     "metadata": {},
     "output_type": "execute_result"
    },
    {
     "data": {
      "image/png": "[encoded data removed]",
      "text/plain": [
       "<Figure size 500x500 with 1 Axes>"
      ]
     },
     "metadata": {},
     "output_type": "display_data"
    }
   ],
   "source": [
    "fig = plt.figure(figsize=(5, 5))\n",
    "ax = fig.add_axes([0,0,1,1])\n",
    "\n",
    "x = df['Curva Frac'].value_counts().axes\n",
    "y = df['Curva Frac'].value_counts().values\n",
    "\n",
    "ax.bar(x, y)"
   ]
  },
  {
   "cell_type": "code",
   "execution_count": null,
   "metadata": {},
   "outputs": [],
   "source": []
  },
  {
   "cell_type": "markdown",
   "metadata": {},
   "source": [
    "# Hist"
   ]
  },
  {
   "cell_type": "code",
   "execution_count": 59,
   "metadata": {},
   "outputs": [
    {
     "data": {
      "text/plain": [
       "(array([ 672.,    0.,    0.,    0.,    0.,  980.,    0.,    0.,    0.,\n",
       "        1624.]),\n",
       " array([0. , 0.2, 0.4, 0.6, 0.8, 1. , 1.2, 1.4, 1.6, 1.8, 2. ]),\n",
       " <BarContainer object of 10 artists>)"
      ]
     },
     "execution_count": 59,
     "metadata": {},
     "output_type": "execute_result"
    },
    {
     "data": {
      "image/png": "[encoded data removed]",
      "text/plain": [
       "<Figure size 500x500 with 1 Axes>"
      ]
     },
     "metadata": {},
     "output_type": "display_data"
    }
   ],
   "source": [
    "fig = plt.figure(figsize=(5, 5))\n",
    "ax = fig.add_axes([0,0,1,1])\n",
    "\n",
    "x = df['Curva Frac'].dropna()\n",
    "\n",
    "ax.hist(x)"
   ]
  },
  {
   "cell_type": "code",
   "execution_count": null,
   "metadata": {},
   "outputs": [],
   "source": []
  },
  {
   "cell_type": "code",
   "execution_count": 17,
   "metadata": {},
   "outputs": [
    {
     "data": {
      "image/png": "[encoded data removed]",
      "text/plain": [
       "<Figure size 200x200 with 1 Axes>"
      ]
     },
     "metadata": {},
     "output_type": "display_data"
    }
   ],
   "source": [
    "plt.style.use('_mpl-gallery')\n",
    "\n",
    "# make data:\n",
    "x = 0.5 + np.arange(8)\n",
    "y = [4.8, 5.5, 3.5, 4.6, 6.5, 6.6, 2.6, 3.0]\n",
    "\n",
    "# plot\n",
    "fig, ax = plt.subplots()\n",
    "\n",
    "ax.bar(x, y, width=1, edgecolor=\"white\", linewidth=0.7)\n",
    "\n",
    "ax.set(xlim=(0, 8), xticks=np.arange(1, 8),\n",
    "       ylim=(0, 8), yticks=np.arange(1, 8))\n",
    "\n",
    "plt.show()"
   ]
  },
  {
   "cell_type": "code",
   "execution_count": 115,
   "metadata": {},
   "outputs": [
    {
     "data": {
      "text/plain": [
       "0      326592.0\n",
       "1      177833.0\n",
       "2      160718.0\n",
       "3       96253.0\n",
       "4       34385.0\n",
       "         ...   \n",
       "780      1051.0\n",
       "781      1050.0\n",
       "786      1031.0\n",
       "789      1023.0\n",
       "795      1007.0\n",
       "Name: Qtde Venda Frac, Length: 676, dtype: float64"
      ]
     },
     "execution_count": 115,
     "metadata": {},
     "output_type": "execute_result"
    }
   ],
   "source": [
    "df['Qtde Venda Frac'][df['Qtde Venda Frac'] > 1000].dropna()"
   ]
  },
  {
   "cell_type": "code",
   "execution_count": 105,
   "metadata": {},
   "outputs": [
    {
     "data": {
      "text/plain": [
       "(array([19., 29., 11.,  6.,  8., 10.,  4.,  8.,  4.,  5.,  1.,  3.,  2.,\n",
       "         1.,  1.,  1.,  1.,  3.,  0.,  1.,  0.,  0.,  0.,  1.,  0.,  0.,\n",
       "         0.,  3.,  0.,  1.,  0.,  1.,  0.,  0.,  0.,  0.,  0.,  0.,  0.,\n",
       "         0.,  0.,  0.,  0.,  0.,  0.,  0.,  0.,  1.,  0.,  0.,  0.,  0.,\n",
       "         0.,  1.,  0.,  0.,  0.,  0.,  0.,  0.,  0.,  0.,  0.,  0.,  0.,\n",
       "         0.,  0.,  0.,  0.,  0.,  0.,  0.,  0.,  0.,  0.,  0.,  0.,  0.,\n",
       "         0.,  0.,  0.,  0.,  0.,  0.,  0.,  0.,  0.,  0.,  0.,  0.,  0.,\n",
       "         0.,  0.,  0.,  0.,  0.,  0.,  0.,  0.,  1.]),\n",
       " array([ 10016.  ,  13181.76,  16347.52,  19513.28,  22679.04,  25844.8 ,\n",
       "         29010.56,  32176.32,  35342.08,  38507.84,  41673.6 ,  44839.36,\n",
       "         48005.12,  51170.88,  54336.64,  57502.4 ,  60668.16,  63833.92,\n",
       "         66999.68,  70165.44,  73331.2 ,  76496.96,  79662.72,  82828.48,\n",
       "         85994.24,  89160.  ,  92325.76,  95491.52,  98657.28, 101823.04,\n",
       "        104988.8 , 108154.56, 111320.32, 114486.08, 117651.84, 120817.6 ,\n",
       "        123983.36, 127149.12, 130314.88, 133480.64, 136646.4 , 139812.16,\n",
       "        142977.92, 146143.68, 149309.44, 152475.2 , 155640.96, 158806.72,\n",
       "        161972.48, 165138.24, 168304.  , 171469.76, 174635.52, 177801.28,\n",
       "        180967.04, 184132.8 , 187298.56, 190464.32, 193630.08, 196795.84,\n",
       "        199961.6 , 203127.36, 206293.12, 209458.88, 212624.64, 215790.4 ,\n",
       "        218956.16, 222121.92, 225287.68, 228453.44, 231619.2 , 234784.96,\n",
       "        237950.72, 241116.48, 244282.24, 247448.  , 250613.76, 253779.52,\n",
       "        256945.28, 260111.04, 263276.8 , 266442.56, 269608.32, 272774.08,\n",
       "        275939.84, 279105.6 , 282271.36, 285437.12, 288602.88, 291768.64,\n",
       "        294934.4 , 298100.16, 301265.92, 304431.68, 307597.44, 310763.2 ,\n",
       "        313928.96, 317094.72, 320260.48, 323426.24, 326592.  ]),\n",
       " <BarContainer object of 100 artists>)"
      ]
     },
     "execution_count": 105,
     "metadata": {},
     "output_type": "execute_result"
    },
    {
     "data": {
      "image/png": "[encoded data removed]",
      "text/plain": [
       "<Figure size 500x500 with 1 Axes>"
      ]
     },
     "metadata": {},
     "output_type": "display_data"
    }
   ],
   "source": [
    "fig = plt.figure(figsize=(5, 5))\n",
    "ax = fig.add_axes([0,0,1,1])\n",
    "\n",
    "x = df['Qtde Venda Frac'][df['Qtde Venda Frac'] > 10000].dropna()\n",
    "\n",
    "ax.hist(x, bins=100)"
   ]
  },
  {
   "cell_type": "code",
   "execution_count": 119,
   "metadata": {},
   "outputs": [
    {
     "data": {
      "text/plain": [
       "{'whiskers': [<matplotlib.lines.Line2D at 0x2ccf5383d90>,\n",
       "  <matplotlib.lines.Line2D at 0x2ccf5390070>],\n",
       " 'caps': [<matplotlib.lines.Line2D at 0x2ccf5390310>,\n",
       "  <matplotlib.lines.Line2D at 0x2ccf53905b0>],\n",
       " 'boxes': [<matplotlib.lines.Line2D at 0x2ccf5383af0>],\n",
       " 'medians': [<matplotlib.lines.Line2D at 0x2ccf5390850>],\n",
       " 'fliers': [<matplotlib.lines.Line2D at 0x2ccf5390af0>],\n",
       " 'means': []}"
      ]
     },
     "execution_count": 119,
     "metadata": {},
     "output_type": "execute_result"
    },
    {
     "data": {
      "image/png": "[encoded data removed]",
      "text/plain": [
       "<Figure size 500x500 with 1 Axes>"
      ]
     },
     "metadata": {},
     "output_type": "display_data"
    }
   ],
   "source": [
    "fig = plt.figure(figsize=(5, 5))\n",
    "ax = fig.add_axes([0,0,1,1])\n",
    "\n",
    "x = df['Qtde Venda Frac'][df['Qtde Venda Frac'] > 10000].dropna()\n",
    "\n",
    "ax.boxplot(x)"
   ]
  },
  {
   "cell_type": "code",
   "execution_count": 123,
   "metadata": {},
   "outputs": [
    {
     "data": {
      "text/plain": [
       "0       277.0\n",
       "1       256.0\n",
       "2       257.0\n",
       "3       260.0\n",
       "4       171.0\n",
       "        ...  \n",
       "3084      1.0\n",
       "3085      1.0\n",
       "3087      1.0\n",
       "3088      1.0\n",
       "3089      1.0\n",
       "Name: Dias Pedido Frac, Length: 3051, dtype: float64"
      ]
     },
     "execution_count": 123,
     "metadata": {},
     "output_type": "execute_result"
    }
   ],
   "source": [
    "x = df['Dias Pedido Frac'][df['Dias Pedido Frac'] > 0].dropna()\n",
    "x"
   ]
  },
  {
   "cell_type": "code",
   "execution_count": 124,
   "metadata": {},
   "outputs": [
    {
     "data": {
      "text/plain": [
       "{'whiskers': [<matplotlib.lines.Line2D at 0x2ccf53f2e50>,\n",
       "  <matplotlib.lines.Line2D at 0x2ccf5543130>],\n",
       " 'caps': [<matplotlib.lines.Line2D at 0x2ccf55433d0>,\n",
       "  <matplotlib.lines.Line2D at 0x2ccf5543670>],\n",
       " 'boxes': [<matplotlib.lines.Line2D at 0x2ccf53f2bb0>],\n",
       " 'medians': [<matplotlib.lines.Line2D at 0x2ccf5543910>],\n",
       " 'fliers': [<matplotlib.lines.Line2D at 0x2ccf5543bb0>],\n",
       " 'means': []}"
      ]
     },
     "execution_count": 124,
     "metadata": {},
     "output_type": "execute_result"
    },
    {
     "data": {
      "image/png": "[encoded data removed]",
      "text/plain": [
       "<Figure size 500x500 with 1 Axes>"
      ]
     },
     "metadata": {},
     "output_type": "display_data"
    }
   ],
   "source": [
    "fig = plt.figure(figsize=(5, 5))\n",
    "ax = fig.add_axes([0,0,1,1])\n",
    "\n",
    "ax.boxplot(x)"
   ]
  },
  {
   "cell_type": "code",
   "execution_count": 125,
   "metadata": {},
   "outputs": [
    {
     "data": {
      "text/plain": [
       "0       1378.0\n",
       "1       1074.0\n",
       "2       1166.0\n",
       "3        676.0\n",
       "4        168.0\n",
       "         ...  \n",
       "3159       1.0\n",
       "3163       1.0\n",
       "3165       1.0\n",
       "3181       1.0\n",
       "3183       1.0\n",
       "Name: Ativ.Ressupr.Frac, Length: 2758, dtype: float64"
      ]
     },
     "execution_count": 125,
     "metadata": {},
     "output_type": "execute_result"
    }
   ],
   "source": [
    "x = df['Ativ.Ressupr.Frac'][df['Ativ.Ressupr.Frac'] > 0].dropna()\n",
    "x"
   ]
  },
  {
   "cell_type": "code",
   "execution_count": 127,
   "metadata": {},
   "outputs": [
    {
     "data": {
      "text/plain": [
       "(array([2.619e+03, 8.800e+01, 3.200e+01, 5.000e+00, 6.000e+00, 3.000e+00,\n",
       "        0.000e+00, 1.000e+00, 1.000e+00, 3.000e+00]),\n",
       " array([1.0000e+00, 1.3870e+02, 2.7640e+02, 4.1410e+02, 5.5180e+02,\n",
       "        6.8950e+02, 8.2720e+02, 9.6490e+02, 1.1026e+03, 1.2403e+03,\n",
       "        1.3780e+03]),\n",
       " <BarContainer object of 10 artists>)"
      ]
     },
     "execution_count": 127,
     "metadata": {},
     "output_type": "execute_result"
    },
    {
     "data": {
      "image/png": "[encoded data removed]",
      "text/plain": [
       "<Figure size 500x500 with 1 Axes>"
      ]
     },
     "metadata": {},
     "output_type": "display_data"
    }
   ],
   "source": [
    "fig = plt.figure(figsize=(5, 5))\n",
    "ax = fig.add_axes([0,0,1,1])\n",
    "\n",
    "ax.hist(x)"
   ]
  },
  {
   "cell_type": "markdown",
   "metadata": {},
   "source": []
  }
 ],
 "metadata": {
  "kernelspec": {
   "display_name": "Python 3",
   "language": "python",
   "name": "python3"
  },
  "language_info": {
   "codemirror_mode": {
    "name": "ipython",
    "version": 3
   },
   "file_extension": ".py",
   "mimetype": "text/x-python",
   "name": "python",
   "nbconvert_exporter": "python",
   "pygments_lexer": "ipython3",
   "version": "3.9.13"
  },
  "orig_nbformat": 4
 },
 "nbformat": 4,
 "nbformat_minor": 2
}
