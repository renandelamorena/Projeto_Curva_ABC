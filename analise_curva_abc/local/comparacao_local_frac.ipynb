{
 "cells": [
  {
   "cell_type": "code",
   "execution_count": 127,
   "id": "a6b42db9",
   "metadata": {},
   "outputs": [],
   "source": [
    "import pandas as pd\n",
    "pd.set_option('display.max_columns', None)"
   ]
  },
  {
   "cell_type": "code",
   "execution_count": 128,
   "id": "8a8fd640",
   "metadata": {
    "scrolled": true
   },
   "outputs": [],
   "source": [
    "enderecos_atuais = pd.read_excel(r'C:\\Users\\estoque\\Documents\\estoque.renan\\projetos\\projeto_curva_abc\\analise_curva_abc\\divisao\\itens_para_dividir_classificar_end.xlsx')\n",
    "locais_frac = pd.read_excel(r'C:\\Users\\estoque\\Documents\\estoque.renan\\projetos\\projeto_curva_abc\\tratamento_curva_abc\\datasets\\local_apanha_frac.xlsx')"
   ]
  },
  {
   "cell_type": "code",
   "execution_count": 129,
   "id": "f7a0c6f4",
   "metadata": {
    "scrolled": true
   },
   "outputs": [
    {
     "name": "stdout",
     "output_type": "stream",
     "text": [
      "<class 'pandas.core.frame.DataFrame'>\n",
      "RangeIndex: 79 entries, 0 to 78\n",
      "Data columns (total 7 columns):\n",
      " #   Column      Non-Null Count  Dtype \n",
      "---  ------      --------------  ----- \n",
      " 0   Unnamed: 0  79 non-null     object\n",
      " 1   29_28       79 non-null     object\n",
      " 2   27_26       79 non-null     object\n",
      " 3   25_24       79 non-null     object\n",
      " 4   23_22       79 non-null     object\n",
      " 5   21_20       79 non-null     object\n",
      " 6   19_18       79 non-null     object\n",
      "dtypes: object(7)\n",
      "memory usage: 4.4+ KB\n"
     ]
    }
   ],
   "source": [
    "enderecos_atuais = enderecos_atuais.astype(str)\n",
    "enderecos_atuais.info()"
   ]
  },
  {
   "cell_type": "code",
   "execution_count": 130,
   "id": "987c95fd",
   "metadata": {},
   "outputs": [],
   "source": [
    "# Defina uma função para formatar os valores\n",
    "def formatar_valor(valor):\n",
    "    return f'{valor:,}'.replace(',', '.')\n",
    "\n",
    "# Aplique a função à coluna 'itens' usando o método apply\n",
    "locais_frac['29_28'] = locais_frac['29_28'].apply(formatar_valor)\n",
    "locais_frac['27_26'] = locais_frac['27_26'].apply(formatar_valor)\n",
    "locais_frac['25_24'] = locais_frac['25_24'].apply(formatar_valor)\n",
    "locais_frac['23_22'] = locais_frac['23_22'].apply(formatar_valor)\n",
    "locais_frac['21_20'] = locais_frac['21_20'].apply(formatar_valor)\n",
    "locais_frac['19_18'] = locais_frac['19_18'].apply(formatar_valor)"
   ]
  },
  {
   "cell_type": "code",
   "execution_count": 131,
   "id": "0ff32eea",
   "metadata": {},
   "outputs": [
    {
     "name": "stdout",
     "output_type": "stream",
     "text": [
      "<class 'pandas.core.frame.DataFrame'>\n",
      "RangeIndex: 79 entries, 0 to 78\n",
      "Data columns (total 7 columns):\n",
      " #   Column  Non-Null Count  Dtype \n",
      "---  ------  --------------  ----- \n",
      " 0   Classe  79 non-null     object\n",
      " 1   29_28   79 non-null     object\n",
      " 2   27_26   79 non-null     object\n",
      " 3   25_24   79 non-null     object\n",
      " 4   23_22   79 non-null     object\n",
      " 5   21_20   79 non-null     object\n",
      " 6   19_18   79 non-null     object\n",
      "dtypes: object(7)\n",
      "memory usage: 4.4+ KB\n"
     ]
    }
   ],
   "source": [
    "locais_frac.info()"
   ]
  },
  {
   "cell_type": "code",
   "execution_count": 133,
   "id": "7af5e51f",
   "metadata": {},
   "outputs": [],
   "source": [
    "enderecos_atuais.to_excel('locais_frac_atuais_itens_divididos.xlsx')\n",
    "locais_frac.to_excel('locais_frac_classificados.xlsx')"
   ]
  },
  {
   "cell_type": "code",
   "execution_count": null,
   "id": "0b8e8dbb",
   "metadata": {},
   "outputs": [],
   "source": []
  }
 ],
 "metadata": {
  "kernelspec": {
   "display_name": "Python 3 (ipykernel)",
   "language": "python",
   "name": "python3"
  },
  "language_info": {
   "codemirror_mode": {
    "name": "ipython",
    "version": 3
   },
   "file_extension": ".py",
   "mimetype": "text/x-python",
   "name": "python",
   "nbconvert_exporter": "python",
   "pygments_lexer": "ipython3",
   "version": "3.9.13"
  }
 },
 "nbformat": 4,
 "nbformat_minor": 5
}
