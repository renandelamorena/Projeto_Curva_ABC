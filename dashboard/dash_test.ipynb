{
 "cells": [
  {
   "cell_type": "code",
   "execution_count": 397,
   "metadata": {},
   "outputs": [],
   "source": [
    "import pandas as pd\n",
    "\n",
    "pd.set_option('display.max_columns', None)"
   ]
  },
  {
   "cell_type": "code",
   "execution_count": 398,
   "metadata": {},
   "outputs": [],
   "source": [
    "situacao_final = pd.read_excel(r'..\\tratamento_curva_abc\\dados_tratados\\situacao_final.xlsx').set_index('Ordem')"
   ]
  },
  {
   "cell_type": "code",
   "execution_count": 399,
   "metadata": {},
   "outputs": [
    {
     "data": {
      "text/html": [
       "<div>\n",
       "<style scoped>\n",
       "    .dataframe tbody tr th:only-of-type {\n",
       "        vertical-align: middle;\n",
       "    }\n",
       "\n",
       "    .dataframe tbody tr th {\n",
       "        vertical-align: top;\n",
       "    }\n",
       "\n",
       "    .dataframe thead th {\n",
       "        text-align: right;\n",
       "    }\n",
       "</style>\n",
       "<table border=\"1\" class=\"dataframe\">\n",
       "  <thead>\n",
       "    <tr style=\"text-align: right;\">\n",
       "      <th></th>\n",
       "      <th>Código</th>\n",
       "      <th>Descrição</th>\n",
       "      <th>Curva Frac</th>\n",
       "      <th>Curva Cx</th>\n",
       "      <th>Curva Geral</th>\n",
       "      <th>Qtde Venda Frac</th>\n",
       "      <th>Qtde Venda Cx</th>\n",
       "      <th>Qtde Venda Geral</th>\n",
       "      <th>Dias Pedido Frac</th>\n",
       "      <th>Dias Pedido Cx</th>\n",
       "      <th>Dias Pedido Geral</th>\n",
       "      <th>Ativ.Ressupr.Frac</th>\n",
       "      <th>Ativ.Ressupr.Cx</th>\n",
       "      <th>Ativ.Ressupr.Geral</th>\n",
       "      <th>Média por dia frac</th>\n",
       "      <th>Média por dia cx</th>\n",
       "      <th>Média por dia geral</th>\n",
       "      <th>Estoque Armaz.</th>\n",
       "      <th>Ender.Cx.Fechada</th>\n",
       "      <th>Estoque Cx</th>\n",
       "      <th>Capacidade Cx</th>\n",
       "      <th>Embal.</th>\n",
       "      <th>Estoque Frac</th>\n",
       "      <th>Capacidade Frac</th>\n",
       "      <th>Permite Frac.</th>\n",
       "      <th>Ender.Fracionado</th>\n",
       "      <th>Tipo</th>\n",
       "      <th>Qtde Desvio Picking</th>\n",
       "      <th>local</th>\n",
       "    </tr>\n",
       "    <tr>\n",
       "      <th>Ordem</th>\n",
       "      <th></th>\n",
       "      <th></th>\n",
       "      <th></th>\n",
       "      <th></th>\n",
       "      <th></th>\n",
       "      <th></th>\n",
       "      <th></th>\n",
       "      <th></th>\n",
       "      <th></th>\n",
       "      <th></th>\n",
       "      <th></th>\n",
       "      <th></th>\n",
       "      <th></th>\n",
       "      <th></th>\n",
       "      <th></th>\n",
       "      <th></th>\n",
       "      <th></th>\n",
       "      <th></th>\n",
       "      <th></th>\n",
       "      <th></th>\n",
       "      <th></th>\n",
       "      <th></th>\n",
       "      <th></th>\n",
       "      <th></th>\n",
       "      <th></th>\n",
       "      <th></th>\n",
       "      <th></th>\n",
       "      <th></th>\n",
       "      <th></th>\n",
       "    </tr>\n",
       "  </thead>\n",
       "  <tbody>\n",
       "    <tr>\n",
       "      <th>1</th>\n",
       "      <td>106011</td>\n",
       "      <td>NARIDRIN 12 HORAS FR C/30ML</td>\n",
       "      <td>A</td>\n",
       "      <td>A</td>\n",
       "      <td>A</td>\n",
       "      <td>66031.0</td>\n",
       "      <td>1565.0</td>\n",
       "      <td>222531.0</td>\n",
       "      <td>62.0</td>\n",
       "      <td>62.0</td>\n",
       "      <td>63.0</td>\n",
       "      <td>463.0</td>\n",
       "      <td>12.0</td>\n",
       "      <td>463.0</td>\n",
       "      <td>1065.0161</td>\n",
       "      <td>25.2419</td>\n",
       "      <td>3532.2381</td>\n",
       "      <td>210</td>\n",
       "      <td>016-037-01-02</td>\n",
       "      <td>85</td>\n",
       "      <td>3</td>\n",
       "      <td>100</td>\n",
       "      <td>311</td>\n",
       "      <td>300</td>\n",
       "      <td>Não</td>\n",
       "      <td>29.913</td>\n",
       "      <td>Ponta De G</td>\n",
       "      <td>2887.0</td>\n",
       "      <td>pallet</td>\n",
       "    </tr>\n",
       "    <tr>\n",
       "      <th>2</th>\n",
       "      <td>102011</td>\n",
       "      <td>CYSTEX C/ 24DRG</td>\n",
       "      <td>A</td>\n",
       "      <td>A</td>\n",
       "      <td>A</td>\n",
       "      <td>31677.0</td>\n",
       "      <td>50.0</td>\n",
       "      <td>36677.0</td>\n",
       "      <td>68.0</td>\n",
       "      <td>12.0</td>\n",
       "      <td>68.0</td>\n",
       "      <td>267.0</td>\n",
       "      <td>81.0</td>\n",
       "      <td>267.0</td>\n",
       "      <td>465.8382</td>\n",
       "      <td>4.1667</td>\n",
       "      <td>539.3676</td>\n",
       "      <td>221</td>\n",
       "      <td>014-022-02-02</td>\n",
       "      <td>3</td>\n",
       "      <td>32</td>\n",
       "      <td>100</td>\n",
       "      <td>247</td>\n",
       "      <td>300</td>\n",
       "      <td>Não</td>\n",
       "      <td>29.063</td>\n",
       "      <td>Flowrack</td>\n",
       "      <td>5268.0</td>\n",
       "      <td>fech_a</td>\n",
       "    </tr>\n",
       "    <tr>\n",
       "      <th>3</th>\n",
       "      <td>231064</td>\n",
       "      <td>REPOFLOR 200MG C/ 06CAPS</td>\n",
       "      <td>A</td>\n",
       "      <td>A</td>\n",
       "      <td>A</td>\n",
       "      <td>28686.0</td>\n",
       "      <td>67.0</td>\n",
       "      <td>35386.0</td>\n",
       "      <td>66.0</td>\n",
       "      <td>12.0</td>\n",
       "      <td>66.0</td>\n",
       "      <td>213.0</td>\n",
       "      <td>71.0</td>\n",
       "      <td>213.0</td>\n",
       "      <td>434.6364</td>\n",
       "      <td>5.5833</td>\n",
       "      <td>536.1515</td>\n",
       "      <td>135</td>\n",
       "      <td>014-034-01-02</td>\n",
       "      <td>12</td>\n",
       "      <td>15</td>\n",
       "      <td>100</td>\n",
       "      <td>358</td>\n",
       "      <td>300</td>\n",
       "      <td>Não</td>\n",
       "      <td>25.012</td>\n",
       "      <td>Flowrack</td>\n",
       "      <td>3347.0</td>\n",
       "      <td>flowrack</td>\n",
       "    </tr>\n",
       "    <tr>\n",
       "      <th>4</th>\n",
       "      <td>101001</td>\n",
       "      <td>APEVITIN BC XPE 240ML</td>\n",
       "      <td>A</td>\n",
       "      <td>A</td>\n",
       "      <td>A</td>\n",
       "      <td>24412.0</td>\n",
       "      <td>359.0</td>\n",
       "      <td>36977.0</td>\n",
       "      <td>66.0</td>\n",
       "      <td>51.0</td>\n",
       "      <td>67.0</td>\n",
       "      <td>356.0</td>\n",
       "      <td>19.0</td>\n",
       "      <td>356.0</td>\n",
       "      <td>369.8788</td>\n",
       "      <td>7.0392</td>\n",
       "      <td>551.8955</td>\n",
       "      <td>285</td>\n",
       "      <td>016-033-01-01</td>\n",
       "      <td>38</td>\n",
       "      <td>3</td>\n",
       "      <td>35</td>\n",
       "      <td>104</td>\n",
       "      <td>140</td>\n",
       "      <td>Não</td>\n",
       "      <td>21.911</td>\n",
       "      <td>Ponta De G</td>\n",
       "      <td>3518.0</td>\n",
       "      <td>pallet</td>\n",
       "    </tr>\n",
       "    <tr>\n",
       "      <th>5</th>\n",
       "      <td>231012</td>\n",
       "      <td>EXPEC XAROPE FR C/120ML</td>\n",
       "      <td>A</td>\n",
       "      <td>A</td>\n",
       "      <td>A</td>\n",
       "      <td>22045.0</td>\n",
       "      <td>361.0</td>\n",
       "      <td>43705.0</td>\n",
       "      <td>67.0</td>\n",
       "      <td>42.0</td>\n",
       "      <td>67.0</td>\n",
       "      <td>160.0</td>\n",
       "      <td>7.0</td>\n",
       "      <td>160.0</td>\n",
       "      <td>329.0299</td>\n",
       "      <td>8.5952</td>\n",
       "      <td>652.3134</td>\n",
       "      <td>1593</td>\n",
       "      <td>016-043-01-02</td>\n",
       "      <td>26</td>\n",
       "      <td>3</td>\n",
       "      <td>60</td>\n",
       "      <td>205</td>\n",
       "      <td>240</td>\n",
       "      <td>Não</td>\n",
       "      <td>26.036</td>\n",
       "      <td>Flowrack</td>\n",
       "      <td>1711.0</td>\n",
       "      <td>pallet</td>\n",
       "    </tr>\n",
       "    <tr>\n",
       "      <th>...</th>\n",
       "      <td>...</td>\n",
       "      <td>...</td>\n",
       "      <td>...</td>\n",
       "      <td>...</td>\n",
       "      <td>...</td>\n",
       "      <td>...</td>\n",
       "      <td>...</td>\n",
       "      <td>...</td>\n",
       "      <td>...</td>\n",
       "      <td>...</td>\n",
       "      <td>...</td>\n",
       "      <td>...</td>\n",
       "      <td>...</td>\n",
       "      <td>...</td>\n",
       "      <td>...</td>\n",
       "      <td>...</td>\n",
       "      <td>...</td>\n",
       "      <td>...</td>\n",
       "      <td>...</td>\n",
       "      <td>...</td>\n",
       "      <td>...</td>\n",
       "      <td>...</td>\n",
       "      <td>...</td>\n",
       "      <td>...</td>\n",
       "      <td>...</td>\n",
       "      <td>...</td>\n",
       "      <td>...</td>\n",
       "      <td>...</td>\n",
       "      <td>...</td>\n",
       "    </tr>\n",
       "    <tr>\n",
       "      <th>9373</th>\n",
       "      <td>316036</td>\n",
       "      <td>ZOLPIDEM 10MG C/30 CPR (B1)** TEUTO-GEN</td>\n",
       "      <td>NaN</td>\n",
       "      <td>NaN</td>\n",
       "      <td>NaN</td>\n",
       "      <td>NaN</td>\n",
       "      <td>NaN</td>\n",
       "      <td>NaN</td>\n",
       "      <td>NaN</td>\n",
       "      <td>NaN</td>\n",
       "      <td>NaN</td>\n",
       "      <td>NaN</td>\n",
       "      <td>NaN</td>\n",
       "      <td>NaN</td>\n",
       "      <td>NaN</td>\n",
       "      <td>NaN</td>\n",
       "      <td>NaN</td>\n",
       "      <td>0</td>\n",
       "      <td>018-004-01-02</td>\n",
       "      <td>0</td>\n",
       "      <td>2</td>\n",
       "      <td>100</td>\n",
       "      <td>0</td>\n",
       "      <td>0</td>\n",
       "      <td>Não</td>\n",
       "      <td>NaN</td>\n",
       "      <td>NaN</td>\n",
       "      <td>NaN</td>\n",
       "      <td>controlado</td>\n",
       "    </tr>\n",
       "    <tr>\n",
       "      <th>9374</th>\n",
       "      <td>11211</td>\n",
       "      <td>ZOLPIDEM 10MG 10CP (B1)** GEN</td>\n",
       "      <td>NaN</td>\n",
       "      <td>NaN</td>\n",
       "      <td>NaN</td>\n",
       "      <td>NaN</td>\n",
       "      <td>NaN</td>\n",
       "      <td>NaN</td>\n",
       "      <td>NaN</td>\n",
       "      <td>NaN</td>\n",
       "      <td>NaN</td>\n",
       "      <td>NaN</td>\n",
       "      <td>NaN</td>\n",
       "      <td>NaN</td>\n",
       "      <td>NaN</td>\n",
       "      <td>NaN</td>\n",
       "      <td>NaN</td>\n",
       "      <td>0</td>\n",
       "      <td>NaN</td>\n",
       "      <td>0</td>\n",
       "      <td>0</td>\n",
       "      <td>60</td>\n",
       "      <td>0</td>\n",
       "      <td>0</td>\n",
       "      <td>Não</td>\n",
       "      <td>NaN</td>\n",
       "      <td>NaN</td>\n",
       "      <td>NaN</td>\n",
       "      <td>NaN</td>\n",
       "    </tr>\n",
       "    <tr>\n",
       "      <th>9375</th>\n",
       "      <td>29909</td>\n",
       "      <td>ZOLPIDEM 10MG 10CP (B1)** NQ</td>\n",
       "      <td>NaN</td>\n",
       "      <td>NaN</td>\n",
       "      <td>NaN</td>\n",
       "      <td>NaN</td>\n",
       "      <td>NaN</td>\n",
       "      <td>NaN</td>\n",
       "      <td>NaN</td>\n",
       "      <td>NaN</td>\n",
       "      <td>NaN</td>\n",
       "      <td>NaN</td>\n",
       "      <td>NaN</td>\n",
       "      <td>NaN</td>\n",
       "      <td>NaN</td>\n",
       "      <td>NaN</td>\n",
       "      <td>NaN</td>\n",
       "      <td>0</td>\n",
       "      <td>NaN</td>\n",
       "      <td>0</td>\n",
       "      <td>0</td>\n",
       "      <td>60</td>\n",
       "      <td>0</td>\n",
       "      <td>0</td>\n",
       "      <td>Não</td>\n",
       "      <td>NaN</td>\n",
       "      <td>NaN</td>\n",
       "      <td>NaN</td>\n",
       "      <td>NaN</td>\n",
       "    </tr>\n",
       "    <tr>\n",
       "      <th>9376</th>\n",
       "      <td>29910</td>\n",
       "      <td>ZOLPIDEM 10MG 20CP (B1)** NQ</td>\n",
       "      <td>NaN</td>\n",
       "      <td>NaN</td>\n",
       "      <td>NaN</td>\n",
       "      <td>NaN</td>\n",
       "      <td>NaN</td>\n",
       "      <td>NaN</td>\n",
       "      <td>NaN</td>\n",
       "      <td>NaN</td>\n",
       "      <td>NaN</td>\n",
       "      <td>NaN</td>\n",
       "      <td>NaN</td>\n",
       "      <td>NaN</td>\n",
       "      <td>NaN</td>\n",
       "      <td>NaN</td>\n",
       "      <td>NaN</td>\n",
       "      <td>0</td>\n",
       "      <td>018-006-01-01</td>\n",
       "      <td>0</td>\n",
       "      <td>3</td>\n",
       "      <td>60</td>\n",
       "      <td>0</td>\n",
       "      <td>120</td>\n",
       "      <td>Não</td>\n",
       "      <td>10.207</td>\n",
       "      <td>Prateleira</td>\n",
       "      <td>NaN</td>\n",
       "      <td>controlado</td>\n",
       "    </tr>\n",
       "    <tr>\n",
       "      <th>9377</th>\n",
       "      <td>420655</td>\n",
       "      <td>ZOLPIDEM 10MG 20CPR (B1)**EURO</td>\n",
       "      <td>NaN</td>\n",
       "      <td>NaN</td>\n",
       "      <td>NaN</td>\n",
       "      <td>NaN</td>\n",
       "      <td>NaN</td>\n",
       "      <td>NaN</td>\n",
       "      <td>NaN</td>\n",
       "      <td>NaN</td>\n",
       "      <td>NaN</td>\n",
       "      <td>NaN</td>\n",
       "      <td>NaN</td>\n",
       "      <td>NaN</td>\n",
       "      <td>NaN</td>\n",
       "      <td>NaN</td>\n",
       "      <td>NaN</td>\n",
       "      <td>0</td>\n",
       "      <td>NaN</td>\n",
       "      <td>0</td>\n",
       "      <td>0</td>\n",
       "      <td>36</td>\n",
       "      <td>0</td>\n",
       "      <td>0</td>\n",
       "      <td>Não</td>\n",
       "      <td>NaN</td>\n",
       "      <td>NaN</td>\n",
       "      <td>NaN</td>\n",
       "      <td>NaN</td>\n",
       "    </tr>\n",
       "  </tbody>\n",
       "</table>\n",
       "<p>9377 rows × 29 columns</p>\n",
       "</div>"
      ],
      "text/plain": [
       "       Código                                Descrição Curva Frac Curva Cx  \\\n",
       "Ordem                                                                        \n",
       "1      106011              NARIDRIN 12 HORAS FR C/30ML          A        A   \n",
       "2      102011                          CYSTEX C/ 24DRG          A        A   \n",
       "3      231064                 REPOFLOR 200MG C/ 06CAPS          A        A   \n",
       "4      101001                    APEVITIN BC XPE 240ML          A        A   \n",
       "5      231012                  EXPEC XAROPE FR C/120ML          A        A   \n",
       "...       ...                                      ...        ...      ...   \n",
       "9373   316036  ZOLPIDEM 10MG C/30 CPR (B1)** TEUTO-GEN        NaN      NaN   \n",
       "9374    11211            ZOLPIDEM 10MG 10CP (B1)** GEN        NaN      NaN   \n",
       "9375    29909             ZOLPIDEM 10MG 10CP (B1)** NQ        NaN      NaN   \n",
       "9376    29910             ZOLPIDEM 10MG 20CP (B1)** NQ        NaN      NaN   \n",
       "9377   420655           ZOLPIDEM 10MG 20CPR (B1)**EURO        NaN      NaN   \n",
       "\n",
       "      Curva Geral  Qtde Venda Frac  Qtde Venda Cx  Qtde Venda Geral  \\\n",
       "Ordem                                                                 \n",
       "1               A          66031.0         1565.0          222531.0   \n",
       "2               A          31677.0           50.0           36677.0   \n",
       "3               A          28686.0           67.0           35386.0   \n",
       "4               A          24412.0          359.0           36977.0   \n",
       "5               A          22045.0          361.0           43705.0   \n",
       "...           ...              ...            ...               ...   \n",
       "9373          NaN              NaN            NaN               NaN   \n",
       "9374          NaN              NaN            NaN               NaN   \n",
       "9375          NaN              NaN            NaN               NaN   \n",
       "9376          NaN              NaN            NaN               NaN   \n",
       "9377          NaN              NaN            NaN               NaN   \n",
       "\n",
       "       Dias Pedido Frac  Dias Pedido Cx  Dias Pedido Geral  Ativ.Ressupr.Frac  \\\n",
       "Ordem                                                                           \n",
       "1                  62.0            62.0               63.0              463.0   \n",
       "2                  68.0            12.0               68.0              267.0   \n",
       "3                  66.0            12.0               66.0              213.0   \n",
       "4                  66.0            51.0               67.0              356.0   \n",
       "5                  67.0            42.0               67.0              160.0   \n",
       "...                 ...             ...                ...                ...   \n",
       "9373                NaN             NaN                NaN                NaN   \n",
       "9374                NaN             NaN                NaN                NaN   \n",
       "9375                NaN             NaN                NaN                NaN   \n",
       "9376                NaN             NaN                NaN                NaN   \n",
       "9377                NaN             NaN                NaN                NaN   \n",
       "\n",
       "       Ativ.Ressupr.Cx  Ativ.Ressupr.Geral  Média por dia frac  \\\n",
       "Ordem                                                            \n",
       "1                 12.0               463.0           1065.0161   \n",
       "2                 81.0               267.0            465.8382   \n",
       "3                 71.0               213.0            434.6364   \n",
       "4                 19.0               356.0            369.8788   \n",
       "5                  7.0               160.0            329.0299   \n",
       "...                ...                 ...                 ...   \n",
       "9373               NaN                 NaN                 NaN   \n",
       "9374               NaN                 NaN                 NaN   \n",
       "9375               NaN                 NaN                 NaN   \n",
       "9376               NaN                 NaN                 NaN   \n",
       "9377               NaN                 NaN                 NaN   \n",
       "\n",
       "       Média por dia cx  Média por dia geral  Estoque Armaz. Ender.Cx.Fechada  \\\n",
       "Ordem                                                                           \n",
       "1               25.2419            3532.2381             210    016-037-01-02   \n",
       "2                4.1667             539.3676             221    014-022-02-02   \n",
       "3                5.5833             536.1515             135    014-034-01-02   \n",
       "4                7.0392             551.8955             285    016-033-01-01   \n",
       "5                8.5952             652.3134            1593    016-043-01-02   \n",
       "...                 ...                  ...             ...              ...   \n",
       "9373                NaN                  NaN               0    018-004-01-02   \n",
       "9374                NaN                  NaN               0              NaN   \n",
       "9375                NaN                  NaN               0              NaN   \n",
       "9376                NaN                  NaN               0    018-006-01-01   \n",
       "9377                NaN                  NaN               0              NaN   \n",
       "\n",
       "      Estoque Cx  Capacidade Cx  Embal.  Estoque Frac  Capacidade Frac  \\\n",
       "Ordem                                                                    \n",
       "1             85              3     100           311              300   \n",
       "2              3             32     100           247              300   \n",
       "3             12             15     100           358              300   \n",
       "4             38              3      35           104              140   \n",
       "5             26              3      60           205              240   \n",
       "...          ...            ...     ...           ...              ...   \n",
       "9373           0              2     100             0                0   \n",
       "9374           0              0      60             0                0   \n",
       "9375           0              0      60             0                0   \n",
       "9376           0              3      60             0              120   \n",
       "9377           0              0      36             0                0   \n",
       "\n",
       "      Permite Frac.  Ender.Fracionado        Tipo  Qtde Desvio Picking  \\\n",
       "Ordem                                                                    \n",
       "1               Não            29.913  Ponta De G               2887.0   \n",
       "2               Não            29.063    Flowrack               5268.0   \n",
       "3               Não            25.012    Flowrack               3347.0   \n",
       "4               Não            21.911  Ponta De G               3518.0   \n",
       "5               Não            26.036    Flowrack               1711.0   \n",
       "...             ...               ...         ...                  ...   \n",
       "9373            Não               NaN         NaN                  NaN   \n",
       "9374            Não               NaN         NaN                  NaN   \n",
       "9375            Não               NaN         NaN                  NaN   \n",
       "9376            Não            10.207  Prateleira                  NaN   \n",
       "9377            Não               NaN         NaN                  NaN   \n",
       "\n",
       "            local  \n",
       "Ordem              \n",
       "1          pallet  \n",
       "2          fech_a  \n",
       "3        flowrack  \n",
       "4          pallet  \n",
       "5          pallet  \n",
       "...           ...  \n",
       "9373   controlado  \n",
       "9374          NaN  \n",
       "9375          NaN  \n",
       "9376   controlado  \n",
       "9377          NaN  \n",
       "\n",
       "[9377 rows x 29 columns]"
      ]
     },
     "execution_count": 399,
     "metadata": {},
     "output_type": "execute_result"
    }
   ],
   "source": [
    "situacao_final"
   ]
  },
  {
   "cell_type": "code",
   "execution_count": 400,
   "metadata": {},
   "outputs": [],
   "source": [
    "local_frac = pd.read_excel(r'..\\analise_curva_abc\\local\\datasets\\local_apanha_frac.xlsx')"
   ]
  },
  {
   "cell_type": "code",
   "execution_count": 401,
   "metadata": {},
   "outputs": [
    {
     "data": {
      "text/html": [
       "<div>\n",
       "<style scoped>\n",
       "    .dataframe tbody tr th:only-of-type {\n",
       "        vertical-align: middle;\n",
       "    }\n",
       "\n",
       "    .dataframe tbody tr th {\n",
       "        vertical-align: top;\n",
       "    }\n",
       "\n",
       "    .dataframe thead th {\n",
       "        text-align: right;\n",
       "    }\n",
       "</style>\n",
       "<table border=\"1\" class=\"dataframe\">\n",
       "  <thead>\n",
       "    <tr style=\"text-align: right;\">\n",
       "      <th></th>\n",
       "      <th>Ender.Fracionado</th>\n",
       "      <th>modulo</th>\n",
       "      <th>local</th>\n",
       "    </tr>\n",
       "  </thead>\n",
       "  <tbody>\n",
       "    <tr>\n",
       "      <th>0</th>\n",
       "      <td>29.011</td>\n",
       "      <td>1</td>\n",
       "      <td>AB</td>\n",
       "    </tr>\n",
       "    <tr>\n",
       "      <th>1</th>\n",
       "      <td>29.012</td>\n",
       "      <td>1</td>\n",
       "      <td>AA</td>\n",
       "    </tr>\n",
       "    <tr>\n",
       "      <th>2</th>\n",
       "      <td>29.013</td>\n",
       "      <td>1</td>\n",
       "      <td>AA</td>\n",
       "    </tr>\n",
       "    <tr>\n",
       "      <th>3</th>\n",
       "      <td>29.014</td>\n",
       "      <td>1</td>\n",
       "      <td>AA</td>\n",
       "    </tr>\n",
       "    <tr>\n",
       "      <th>4</th>\n",
       "      <td>29.015</td>\n",
       "      <td>1</td>\n",
       "      <td>XPE</td>\n",
       "    </tr>\n",
       "    <tr>\n",
       "      <th>...</th>\n",
       "      <td>...</td>\n",
       "      <td>...</td>\n",
       "      <td>...</td>\n",
       "    </tr>\n",
       "    <tr>\n",
       "      <th>571</th>\n",
       "      <td>18.082</td>\n",
       "      <td>6</td>\n",
       "      <td>AA</td>\n",
       "    </tr>\n",
       "    <tr>\n",
       "      <th>572</th>\n",
       "      <td>18.083</td>\n",
       "      <td>6</td>\n",
       "      <td>AA</td>\n",
       "    </tr>\n",
       "    <tr>\n",
       "      <th>573</th>\n",
       "      <td>18.084</td>\n",
       "      <td>6</td>\n",
       "      <td>AA</td>\n",
       "    </tr>\n",
       "    <tr>\n",
       "      <th>574</th>\n",
       "      <td>18.085</td>\n",
       "      <td>6</td>\n",
       "      <td>XPE</td>\n",
       "    </tr>\n",
       "    <tr>\n",
       "      <th>575</th>\n",
       "      <td>18.086</td>\n",
       "      <td>6</td>\n",
       "      <td>AC</td>\n",
       "    </tr>\n",
       "  </tbody>\n",
       "</table>\n",
       "<p>576 rows × 3 columns</p>\n",
       "</div>"
      ],
      "text/plain": [
       "     Ender.Fracionado  modulo local\n",
       "0              29.011       1    AB\n",
       "1              29.012       1    AA\n",
       "2              29.013       1    AA\n",
       "3              29.014       1    AA\n",
       "4              29.015       1   XPE\n",
       "..                ...     ...   ...\n",
       "571            18.082       6    AA\n",
       "572            18.083       6    AA\n",
       "573            18.084       6    AA\n",
       "574            18.085       6   XPE\n",
       "575            18.086       6    AC\n",
       "\n",
       "[576 rows x 3 columns]"
      ]
     },
     "execution_count": 401,
     "metadata": {},
     "output_type": "execute_result"
    }
   ],
   "source": [
    "local_frac"
   ]
  },
  {
   "cell_type": "code",
   "execution_count": 402,
   "metadata": {},
   "outputs": [],
   "source": [
    "#Curva A no local aberto\n",
    "selecao_a_no_abeto = ((situacao_final['Curva Frac'] == 'A') & \\\n",
    "                      (situacao_final['local'] == 'aberta_b|aberta_c'))"
   ]
  },
  {
   "cell_type": "code",
   "execution_count": 403,
   "metadata": {},
   "outputs": [],
   "source": [
    "mapa_orientacao = pd.read_excel('..\\mapa_orientacao.xlsx')"
   ]
  },
  {
   "cell_type": "code",
   "execution_count": 404,
   "metadata": {},
   "outputs": [
    {
     "data": {
      "text/html": [
       "<div>\n",
       "<style scoped>\n",
       "    .dataframe tbody tr th:only-of-type {\n",
       "        vertical-align: middle;\n",
       "    }\n",
       "\n",
       "    .dataframe tbody tr th {\n",
       "        vertical-align: top;\n",
       "    }\n",
       "\n",
       "    .dataframe thead th {\n",
       "        text-align: right;\n",
       "    }\n",
       "</style>\n",
       "<table border=\"1\" class=\"dataframe\">\n",
       "  <thead>\n",
       "    <tr style=\"text-align: right;\">\n",
       "      <th></th>\n",
       "      <th>10e12par</th>\n",
       "      <th>rua10e12</th>\n",
       "      <th>14par</th>\n",
       "      <th>rua14e15</th>\n",
       "      <th>15impar</th>\n",
       "      <th>16impar</th>\n",
       "      <th>rua16</th>\n",
       "      <th>16par</th>\n",
       "      <th>17impar</th>\n",
       "      <th>rua17</th>\n",
       "      <th>17par</th>\n",
       "      <th>18impar</th>\n",
       "      <th>rua18</th>\n",
       "      <th>18par</th>\n",
       "    </tr>\n",
       "  </thead>\n",
       "  <tbody>\n",
       "    <tr>\n",
       "      <th>0</th>\n",
       "      <td>0</td>\n",
       "      <td>0</td>\n",
       "      <td>0</td>\n",
       "      <td>0</td>\n",
       "      <td>0</td>\n",
       "      <td>1</td>\n",
       "      <td>0</td>\n",
       "      <td>2</td>\n",
       "      <td>1</td>\n",
       "      <td>0</td>\n",
       "      <td>2</td>\n",
       "      <td>1</td>\n",
       "      <td>0</td>\n",
       "      <td>2</td>\n",
       "    </tr>\n",
       "    <tr>\n",
       "      <th>1</th>\n",
       "      <td>0</td>\n",
       "      <td>0</td>\n",
       "      <td>2</td>\n",
       "      <td>0</td>\n",
       "      <td>0</td>\n",
       "      <td>3</td>\n",
       "      <td>0</td>\n",
       "      <td>4</td>\n",
       "      <td>3</td>\n",
       "      <td>0</td>\n",
       "      <td>4</td>\n",
       "      <td>3</td>\n",
       "      <td>0</td>\n",
       "      <td>4</td>\n",
       "    </tr>\n",
       "    <tr>\n",
       "      <th>2</th>\n",
       "      <td>2</td>\n",
       "      <td>0</td>\n",
       "      <td>4</td>\n",
       "      <td>0</td>\n",
       "      <td>3</td>\n",
       "      <td>5</td>\n",
       "      <td>0</td>\n",
       "      <td>6</td>\n",
       "      <td>5</td>\n",
       "      <td>0</td>\n",
       "      <td>6</td>\n",
       "      <td>5</td>\n",
       "      <td>0</td>\n",
       "      <td>6</td>\n",
       "    </tr>\n",
       "    <tr>\n",
       "      <th>3</th>\n",
       "      <td>4</td>\n",
       "      <td>0</td>\n",
       "      <td>6</td>\n",
       "      <td>0</td>\n",
       "      <td>5</td>\n",
       "      <td>7</td>\n",
       "      <td>0</td>\n",
       "      <td>8</td>\n",
       "      <td>7</td>\n",
       "      <td>0</td>\n",
       "      <td>8</td>\n",
       "      <td>7</td>\n",
       "      <td>0</td>\n",
       "      <td>8</td>\n",
       "    </tr>\n",
       "    <tr>\n",
       "      <th>4</th>\n",
       "      <td>6</td>\n",
       "      <td>0</td>\n",
       "      <td>8</td>\n",
       "      <td>0</td>\n",
       "      <td>7</td>\n",
       "      <td>9</td>\n",
       "      <td>0</td>\n",
       "      <td>10</td>\n",
       "      <td>9</td>\n",
       "      <td>0</td>\n",
       "      <td>10</td>\n",
       "      <td>9</td>\n",
       "      <td>0</td>\n",
       "      <td>10</td>\n",
       "    </tr>\n",
       "    <tr>\n",
       "      <th>5</th>\n",
       "      <td>8</td>\n",
       "      <td>0</td>\n",
       "      <td>10</td>\n",
       "      <td>0</td>\n",
       "      <td>9</td>\n",
       "      <td>11</td>\n",
       "      <td>0</td>\n",
       "      <td>12</td>\n",
       "      <td>11</td>\n",
       "      <td>0</td>\n",
       "      <td>12</td>\n",
       "      <td>11</td>\n",
       "      <td>0</td>\n",
       "      <td>12</td>\n",
       "    </tr>\n",
       "    <tr>\n",
       "      <th>6</th>\n",
       "      <td>10</td>\n",
       "      <td>0</td>\n",
       "      <td>12</td>\n",
       "      <td>0</td>\n",
       "      <td>11</td>\n",
       "      <td>13</td>\n",
       "      <td>0</td>\n",
       "      <td>14</td>\n",
       "      <td>13</td>\n",
       "      <td>0</td>\n",
       "      <td>14</td>\n",
       "      <td>13</td>\n",
       "      <td>0</td>\n",
       "      <td>14</td>\n",
       "    </tr>\n",
       "    <tr>\n",
       "      <th>7</th>\n",
       "      <td>12</td>\n",
       "      <td>0</td>\n",
       "      <td>14</td>\n",
       "      <td>0</td>\n",
       "      <td>13</td>\n",
       "      <td>15</td>\n",
       "      <td>0</td>\n",
       "      <td>16</td>\n",
       "      <td>15</td>\n",
       "      <td>0</td>\n",
       "      <td>16</td>\n",
       "      <td>15</td>\n",
       "      <td>0</td>\n",
       "      <td>16</td>\n",
       "    </tr>\n",
       "    <tr>\n",
       "      <th>8</th>\n",
       "      <td>14</td>\n",
       "      <td>0</td>\n",
       "      <td>16</td>\n",
       "      <td>0</td>\n",
       "      <td>15</td>\n",
       "      <td>17</td>\n",
       "      <td>0</td>\n",
       "      <td>18</td>\n",
       "      <td>17</td>\n",
       "      <td>0</td>\n",
       "      <td>18</td>\n",
       "      <td>17</td>\n",
       "      <td>0</td>\n",
       "      <td>18</td>\n",
       "    </tr>\n",
       "    <tr>\n",
       "      <th>9</th>\n",
       "      <td>16</td>\n",
       "      <td>0</td>\n",
       "      <td>18</td>\n",
       "      <td>0</td>\n",
       "      <td>17</td>\n",
       "      <td>19</td>\n",
       "      <td>0</td>\n",
       "      <td>20</td>\n",
       "      <td>19</td>\n",
       "      <td>0</td>\n",
       "      <td>20</td>\n",
       "      <td>19</td>\n",
       "      <td>0</td>\n",
       "      <td>20</td>\n",
       "    </tr>\n",
       "    <tr>\n",
       "      <th>10</th>\n",
       "      <td>18</td>\n",
       "      <td>0</td>\n",
       "      <td>20</td>\n",
       "      <td>0</td>\n",
       "      <td>19</td>\n",
       "      <td>21</td>\n",
       "      <td>0</td>\n",
       "      <td>22</td>\n",
       "      <td>21</td>\n",
       "      <td>0</td>\n",
       "      <td>22</td>\n",
       "      <td>21</td>\n",
       "      <td>0</td>\n",
       "      <td>22</td>\n",
       "    </tr>\n",
       "    <tr>\n",
       "      <th>11</th>\n",
       "      <td>20</td>\n",
       "      <td>0</td>\n",
       "      <td>22</td>\n",
       "      <td>0</td>\n",
       "      <td>21</td>\n",
       "      <td>23</td>\n",
       "      <td>0</td>\n",
       "      <td>24</td>\n",
       "      <td>23</td>\n",
       "      <td>0</td>\n",
       "      <td>24</td>\n",
       "      <td>23</td>\n",
       "      <td>0</td>\n",
       "      <td>24</td>\n",
       "    </tr>\n",
       "    <tr>\n",
       "      <th>12</th>\n",
       "      <td>22</td>\n",
       "      <td>0</td>\n",
       "      <td>24</td>\n",
       "      <td>0</td>\n",
       "      <td>23</td>\n",
       "      <td>25</td>\n",
       "      <td>0</td>\n",
       "      <td>26</td>\n",
       "      <td>25</td>\n",
       "      <td>0</td>\n",
       "      <td>26</td>\n",
       "      <td>25</td>\n",
       "      <td>0</td>\n",
       "      <td>26</td>\n",
       "    </tr>\n",
       "    <tr>\n",
       "      <th>13</th>\n",
       "      <td>24</td>\n",
       "      <td>0</td>\n",
       "      <td>26</td>\n",
       "      <td>0</td>\n",
       "      <td>25</td>\n",
       "      <td>27</td>\n",
       "      <td>0</td>\n",
       "      <td>28</td>\n",
       "      <td>27</td>\n",
       "      <td>0</td>\n",
       "      <td>28</td>\n",
       "      <td>27</td>\n",
       "      <td>0</td>\n",
       "      <td>28</td>\n",
       "    </tr>\n",
       "    <tr>\n",
       "      <th>14</th>\n",
       "      <td>26</td>\n",
       "      <td>0</td>\n",
       "      <td>28</td>\n",
       "      <td>0</td>\n",
       "      <td>27</td>\n",
       "      <td>29</td>\n",
       "      <td>0</td>\n",
       "      <td>30</td>\n",
       "      <td>29</td>\n",
       "      <td>0</td>\n",
       "      <td>30</td>\n",
       "      <td>29</td>\n",
       "      <td>0</td>\n",
       "      <td>30</td>\n",
       "    </tr>\n",
       "    <tr>\n",
       "      <th>15</th>\n",
       "      <td>28</td>\n",
       "      <td>0</td>\n",
       "      <td>30</td>\n",
       "      <td>0</td>\n",
       "      <td>29</td>\n",
       "      <td>31</td>\n",
       "      <td>0</td>\n",
       "      <td>32</td>\n",
       "      <td>31</td>\n",
       "      <td>0</td>\n",
       "      <td>32</td>\n",
       "      <td>31</td>\n",
       "      <td>0</td>\n",
       "      <td>32</td>\n",
       "    </tr>\n",
       "    <tr>\n",
       "      <th>16</th>\n",
       "      <td>30</td>\n",
       "      <td>0</td>\n",
       "      <td>32</td>\n",
       "      <td>0</td>\n",
       "      <td>31</td>\n",
       "      <td>33</td>\n",
       "      <td>0</td>\n",
       "      <td>34</td>\n",
       "      <td>33</td>\n",
       "      <td>0</td>\n",
       "      <td>34</td>\n",
       "      <td>33</td>\n",
       "      <td>0</td>\n",
       "      <td>34</td>\n",
       "    </tr>\n",
       "    <tr>\n",
       "      <th>17</th>\n",
       "      <td>32</td>\n",
       "      <td>0</td>\n",
       "      <td>34</td>\n",
       "      <td>0</td>\n",
       "      <td>33</td>\n",
       "      <td>35</td>\n",
       "      <td>0</td>\n",
       "      <td>36</td>\n",
       "      <td>35</td>\n",
       "      <td>0</td>\n",
       "      <td>36</td>\n",
       "      <td>35</td>\n",
       "      <td>0</td>\n",
       "      <td>36</td>\n",
       "    </tr>\n",
       "    <tr>\n",
       "      <th>18</th>\n",
       "      <td>34</td>\n",
       "      <td>0</td>\n",
       "      <td>36</td>\n",
       "      <td>0</td>\n",
       "      <td>35</td>\n",
       "      <td>37</td>\n",
       "      <td>0</td>\n",
       "      <td>38</td>\n",
       "      <td>37</td>\n",
       "      <td>0</td>\n",
       "      <td>38</td>\n",
       "      <td>37</td>\n",
       "      <td>0</td>\n",
       "      <td>38</td>\n",
       "    </tr>\n",
       "    <tr>\n",
       "      <th>19</th>\n",
       "      <td>36</td>\n",
       "      <td>0</td>\n",
       "      <td>38</td>\n",
       "      <td>0</td>\n",
       "      <td>37</td>\n",
       "      <td>39</td>\n",
       "      <td>0</td>\n",
       "      <td>40</td>\n",
       "      <td>39</td>\n",
       "      <td>0</td>\n",
       "      <td>40</td>\n",
       "      <td>39</td>\n",
       "      <td>0</td>\n",
       "      <td>40</td>\n",
       "    </tr>\n",
       "    <tr>\n",
       "      <th>20</th>\n",
       "      <td>38</td>\n",
       "      <td>0</td>\n",
       "      <td>40</td>\n",
       "      <td>0</td>\n",
       "      <td>39</td>\n",
       "      <td>41</td>\n",
       "      <td>0</td>\n",
       "      <td>42</td>\n",
       "      <td>41</td>\n",
       "      <td>0</td>\n",
       "      <td>42</td>\n",
       "      <td>41</td>\n",
       "      <td>0</td>\n",
       "      <td>42</td>\n",
       "    </tr>\n",
       "    <tr>\n",
       "      <th>21</th>\n",
       "      <td>40</td>\n",
       "      <td>0</td>\n",
       "      <td>42</td>\n",
       "      <td>0</td>\n",
       "      <td>41</td>\n",
       "      <td>43</td>\n",
       "      <td>0</td>\n",
       "      <td>44</td>\n",
       "      <td>43</td>\n",
       "      <td>0</td>\n",
       "      <td>44</td>\n",
       "      <td>43</td>\n",
       "      <td>0</td>\n",
       "      <td>44</td>\n",
       "    </tr>\n",
       "    <tr>\n",
       "      <th>22</th>\n",
       "      <td>42</td>\n",
       "      <td>0</td>\n",
       "      <td>44</td>\n",
       "      <td>0</td>\n",
       "      <td>43</td>\n",
       "      <td>0</td>\n",
       "      <td>0</td>\n",
       "      <td>0</td>\n",
       "      <td>0</td>\n",
       "      <td>0</td>\n",
       "      <td>0</td>\n",
       "      <td>0</td>\n",
       "      <td>0</td>\n",
       "      <td>0</td>\n",
       "    </tr>\n",
       "    <tr>\n",
       "      <th>23</th>\n",
       "      <td>44</td>\n",
       "      <td>0</td>\n",
       "      <td>0</td>\n",
       "      <td>0</td>\n",
       "      <td>0</td>\n",
       "      <td>0</td>\n",
       "      <td>0</td>\n",
       "      <td>0</td>\n",
       "      <td>0</td>\n",
       "      <td>0</td>\n",
       "      <td>0</td>\n",
       "      <td>0</td>\n",
       "      <td>0</td>\n",
       "      <td>0</td>\n",
       "    </tr>\n",
       "    <tr>\n",
       "      <th>24</th>\n",
       "      <td>46</td>\n",
       "      <td>0</td>\n",
       "      <td>0</td>\n",
       "      <td>0</td>\n",
       "      <td>0</td>\n",
       "      <td>0</td>\n",
       "      <td>0</td>\n",
       "      <td>0</td>\n",
       "      <td>0</td>\n",
       "      <td>0</td>\n",
       "      <td>0</td>\n",
       "      <td>0</td>\n",
       "      <td>0</td>\n",
       "      <td>0</td>\n",
       "    </tr>\n",
       "    <tr>\n",
       "      <th>25</th>\n",
       "      <td>48</td>\n",
       "      <td>0</td>\n",
       "      <td>0</td>\n",
       "      <td>0</td>\n",
       "      <td>0</td>\n",
       "      <td>0</td>\n",
       "      <td>0</td>\n",
       "      <td>0</td>\n",
       "      <td>0</td>\n",
       "      <td>0</td>\n",
       "      <td>0</td>\n",
       "      <td>0</td>\n",
       "      <td>0</td>\n",
       "      <td>0</td>\n",
       "    </tr>\n",
       "    <tr>\n",
       "      <th>26</th>\n",
       "      <td>50</td>\n",
       "      <td>0</td>\n",
       "      <td>0</td>\n",
       "      <td>0</td>\n",
       "      <td>0</td>\n",
       "      <td>0</td>\n",
       "      <td>0</td>\n",
       "      <td>0</td>\n",
       "      <td>0</td>\n",
       "      <td>0</td>\n",
       "      <td>0</td>\n",
       "      <td>0</td>\n",
       "      <td>0</td>\n",
       "      <td>0</td>\n",
       "    </tr>\n",
       "    <tr>\n",
       "      <th>27</th>\n",
       "      <td>52</td>\n",
       "      <td>0</td>\n",
       "      <td>0</td>\n",
       "      <td>0</td>\n",
       "      <td>0</td>\n",
       "      <td>0</td>\n",
       "      <td>0</td>\n",
       "      <td>0</td>\n",
       "      <td>0</td>\n",
       "      <td>0</td>\n",
       "      <td>0</td>\n",
       "      <td>0</td>\n",
       "      <td>0</td>\n",
       "      <td>0</td>\n",
       "    </tr>\n",
       "    <tr>\n",
       "      <th>28</th>\n",
       "      <td>54</td>\n",
       "      <td>0</td>\n",
       "      <td>0</td>\n",
       "      <td>0</td>\n",
       "      <td>0</td>\n",
       "      <td>0</td>\n",
       "      <td>0</td>\n",
       "      <td>0</td>\n",
       "      <td>0</td>\n",
       "      <td>0</td>\n",
       "      <td>0</td>\n",
       "      <td>0</td>\n",
       "      <td>0</td>\n",
       "      <td>0</td>\n",
       "    </tr>\n",
       "    <tr>\n",
       "      <th>29</th>\n",
       "      <td>56</td>\n",
       "      <td>0</td>\n",
       "      <td>0</td>\n",
       "      <td>0</td>\n",
       "      <td>0</td>\n",
       "      <td>0</td>\n",
       "      <td>0</td>\n",
       "      <td>0</td>\n",
       "      <td>0</td>\n",
       "      <td>0</td>\n",
       "      <td>0</td>\n",
       "      <td>0</td>\n",
       "      <td>0</td>\n",
       "      <td>0</td>\n",
       "    </tr>\n",
       "    <tr>\n",
       "      <th>30</th>\n",
       "      <td>58</td>\n",
       "      <td>0</td>\n",
       "      <td>0</td>\n",
       "      <td>0</td>\n",
       "      <td>0</td>\n",
       "      <td>0</td>\n",
       "      <td>0</td>\n",
       "      <td>0</td>\n",
       "      <td>0</td>\n",
       "      <td>0</td>\n",
       "      <td>0</td>\n",
       "      <td>0</td>\n",
       "      <td>0</td>\n",
       "      <td>0</td>\n",
       "    </tr>\n",
       "    <tr>\n",
       "      <th>31</th>\n",
       "      <td>60</td>\n",
       "      <td>0</td>\n",
       "      <td>0</td>\n",
       "      <td>0</td>\n",
       "      <td>0</td>\n",
       "      <td>0</td>\n",
       "      <td>0</td>\n",
       "      <td>0</td>\n",
       "      <td>0</td>\n",
       "      <td>0</td>\n",
       "      <td>0</td>\n",
       "      <td>0</td>\n",
       "      <td>0</td>\n",
       "      <td>0</td>\n",
       "    </tr>\n",
       "    <tr>\n",
       "      <th>32</th>\n",
       "      <td>62</td>\n",
       "      <td>0</td>\n",
       "      <td>0</td>\n",
       "      <td>0</td>\n",
       "      <td>0</td>\n",
       "      <td>0</td>\n",
       "      <td>0</td>\n",
       "      <td>0</td>\n",
       "      <td>0</td>\n",
       "      <td>0</td>\n",
       "      <td>0</td>\n",
       "      <td>0</td>\n",
       "      <td>0</td>\n",
       "      <td>0</td>\n",
       "    </tr>\n",
       "    <tr>\n",
       "      <th>33</th>\n",
       "      <td>64</td>\n",
       "      <td>0</td>\n",
       "      <td>0</td>\n",
       "      <td>0</td>\n",
       "      <td>0</td>\n",
       "      <td>0</td>\n",
       "      <td>0</td>\n",
       "      <td>0</td>\n",
       "      <td>0</td>\n",
       "      <td>0</td>\n",
       "      <td>0</td>\n",
       "      <td>0</td>\n",
       "      <td>0</td>\n",
       "      <td>0</td>\n",
       "    </tr>\n",
       "    <tr>\n",
       "      <th>34</th>\n",
       "      <td>66</td>\n",
       "      <td>0</td>\n",
       "      <td>0</td>\n",
       "      <td>0</td>\n",
       "      <td>0</td>\n",
       "      <td>0</td>\n",
       "      <td>0</td>\n",
       "      <td>0</td>\n",
       "      <td>0</td>\n",
       "      <td>0</td>\n",
       "      <td>0</td>\n",
       "      <td>0</td>\n",
       "      <td>0</td>\n",
       "      <td>0</td>\n",
       "    </tr>\n",
       "    <tr>\n",
       "      <th>35</th>\n",
       "      <td>68</td>\n",
       "      <td>0</td>\n",
       "      <td>0</td>\n",
       "      <td>0</td>\n",
       "      <td>0</td>\n",
       "      <td>0</td>\n",
       "      <td>0</td>\n",
       "      <td>0</td>\n",
       "      <td>0</td>\n",
       "      <td>0</td>\n",
       "      <td>0</td>\n",
       "      <td>0</td>\n",
       "      <td>0</td>\n",
       "      <td>0</td>\n",
       "    </tr>\n",
       "  </tbody>\n",
       "</table>\n",
       "</div>"
      ],
      "text/plain": [
       "    10e12par  rua10e12  14par  rua14e15  \\\n",
       "0          0         0      0         0   \n",
       "1          0         0      2         0   \n",
       "2          2         0      4         0   \n",
       "3          4         0      6         0   \n",
       "4          6         0      8         0   \n",
       "5          8         0     10         0   \n",
       "6         10         0     12         0   \n",
       "7         12         0     14         0   \n",
       "8         14         0     16         0   \n",
       "9         16         0     18         0   \n",
       "10        18         0     20         0   \n",
       "11        20         0     22         0   \n",
       "12        22         0     24         0   \n",
       "13        24         0     26         0   \n",
       "14        26         0     28         0   \n",
       "15        28         0     30         0   \n",
       "16        30         0     32         0   \n",
       "17        32         0     34         0   \n",
       "18        34         0     36         0   \n",
       "19        36         0     38         0   \n",
       "20        38         0     40         0   \n",
       "21        40         0     42         0   \n",
       "22        42         0     44         0   \n",
       "23        44         0      0         0   \n",
       "24        46         0      0         0   \n",
       "25        48         0      0         0   \n",
       "26        50         0      0         0   \n",
       "27        52         0      0         0   \n",
       "28        54         0      0         0   \n",
       "29        56         0      0         0   \n",
       "30        58         0      0         0   \n",
       "31        60         0      0         0   \n",
       "32        62         0      0         0   \n",
       "33        64         0      0         0   \n",
       "34        66         0      0         0   \n",
       "35        68         0      0         0   \n",
       "\n",
       "    15impar                                                            \\\n",
       "0                                                   0                   \n",
       "1                                                   0                   \n",
       "2                                                   3                   \n",
       "3                                                   5                   \n",
       "4                                                   7                   \n",
       "5                                                   9                   \n",
       "6                                                  11                   \n",
       "7                                                  13                   \n",
       "8                                                  15                   \n",
       "9                                                  17                   \n",
       "10                                                 19                   \n",
       "11                                                 21                   \n",
       "12                                                 23                   \n",
       "13                                                 25                   \n",
       "14                                                 27                   \n",
       "15                                                 29                   \n",
       "16                                                 31                   \n",
       "17                                                 33                   \n",
       "18                                                 35                   \n",
       "19                                                 37                   \n",
       "20                                                 39                   \n",
       "21                                                 41                   \n",
       "22                                                 43                   \n",
       "23                                                  0                   \n",
       "24                                                  0                   \n",
       "25                                                  0                   \n",
       "26                                                  0                   \n",
       "27                                                  0                   \n",
       "28                                                  0                   \n",
       "29                                                  0                   \n",
       "30                                                  0                   \n",
       "31                                                  0                   \n",
       "32                                                  0                   \n",
       "33                                                  0                   \n",
       "34                                                  0                   \n",
       "35                                                  0                   \n",
       "\n",
       "    16impar  rua16  16par  17impar  rua17  17par  18impar  rua18  18par  \n",
       "0         1      0      2        1      0      2        1      0      2  \n",
       "1         3      0      4        3      0      4        3      0      4  \n",
       "2         5      0      6        5      0      6        5      0      6  \n",
       "3         7      0      8        7      0      8        7      0      8  \n",
       "4         9      0     10        9      0     10        9      0     10  \n",
       "5        11      0     12       11      0     12       11      0     12  \n",
       "6        13      0     14       13      0     14       13      0     14  \n",
       "7        15      0     16       15      0     16       15      0     16  \n",
       "8        17      0     18       17      0     18       17      0     18  \n",
       "9        19      0     20       19      0     20       19      0     20  \n",
       "10       21      0     22       21      0     22       21      0     22  \n",
       "11       23      0     24       23      0     24       23      0     24  \n",
       "12       25      0     26       25      0     26       25      0     26  \n",
       "13       27      0     28       27      0     28       27      0     28  \n",
       "14       29      0     30       29      0     30       29      0     30  \n",
       "15       31      0     32       31      0     32       31      0     32  \n",
       "16       33      0     34       33      0     34       33      0     34  \n",
       "17       35      0     36       35      0     36       35      0     36  \n",
       "18       37      0     38       37      0     38       37      0     38  \n",
       "19       39      0     40       39      0     40       39      0     40  \n",
       "20       41      0     42       41      0     42       41      0     42  \n",
       "21       43      0     44       43      0     44       43      0     44  \n",
       "22        0      0      0        0      0      0        0      0      0  \n",
       "23        0      0      0        0      0      0        0      0      0  \n",
       "24        0      0      0        0      0      0        0      0      0  \n",
       "25        0      0      0        0      0      0        0      0      0  \n",
       "26        0      0      0        0      0      0        0      0      0  \n",
       "27        0      0      0        0      0      0        0      0      0  \n",
       "28        0      0      0        0      0      0        0      0      0  \n",
       "29        0      0      0        0      0      0        0      0      0  \n",
       "30        0      0      0        0      0      0        0      0      0  \n",
       "31        0      0      0        0      0      0        0      0      0  \n",
       "32        0      0      0        0      0      0        0      0      0  \n",
       "33        0      0      0        0      0      0        0      0      0  \n",
       "34        0      0      0        0      0      0        0      0      0  \n",
       "35        0      0      0        0      0      0        0      0      0  "
      ]
     },
     "execution_count": 404,
     "metadata": {},
     "output_type": "execute_result"
    }
   ],
   "source": [
    "mapa_orientacao"
   ]
  },
  {
   "cell_type": "code",
   "execution_count": 481,
   "metadata": {},
   "outputs": [
    {
     "name": "stderr",
     "output_type": "stream",
     "text": [
      "C:\\Users\\estoque\\AppData\\Local\\Temp\\ipykernel_19392\\2755722721.py:2: SettingWithCopyWarning:\n",
      "\n",
      "\n",
      "A value is trying to be set on a copy of a slice from a DataFrame\n",
      "\n",
      "See the caveats in the documentation: https://pandas.pydata.org/pandas-docs/stable/user_guide/indexing.html#returning-a-view-versus-a-copy\n",
      "\n"
     ]
    }
   ],
   "source": [
    "df_local_not_na = situacao_final[~situacao_final['local'].isna()]\n",
    "df_local_not_na.fillna('-',inplace=True)"
   ]
  },
  {
   "cell_type": "code",
   "execution_count": 406,
   "metadata": {},
   "outputs": [],
   "source": [
    "selecao_local_ponta_mudar = ((df_local_not_na['Curva Frac'] == 'A') & \\\n",
    "                             (df_local_not_na['Permite Frac.'] == 'Não') & \\\n",
    "                             (df_local_not_na['Tipo'] == 'Ponta De G') & \\\n",
    "                             (df_local_not_na['local'] != 'controlado') & \\\n",
    "                             (df_local_not_na['local'] != 'ponta') & \\\n",
    "                             (df_local_not_na['local'] != 'pallet')\n",
    "                             )\n",
    "mudar_para_ponta = df_local_not_na[selecao_local_ponta_mudar]"
   ]
  },
  {
   "cell_type": "code",
   "execution_count": null,
   "metadata": {},
   "outputs": [],
   "source": []
  },
  {
   "cell_type": "code",
   "execution_count": 407,
   "metadata": {},
   "outputs": [],
   "source": [
    "selecao_local_ponta_certo = ((df_local_not_na['Tipo'] == 'Ponta De G') & \\\n",
    "                             (df_local_not_na['local'] == 'ponta')\n",
    "                             )\n",
    "local_ponta_certo = df_local_not_na[selecao_local_ponta_certo]\n",
    "local_ponta_total_certo = local_ponta_certo.shape[0]\n",
    "\n",
    "selecao_local_ponta_errado = ((df_local_not_na['Tipo'] != 'Ponta De G') & \\\n",
    "                             (df_local_not_na['local'] == 'ponta')\n",
    "                             )\n",
    "local_ponta_errado = df_local_not_na[selecao_local_ponta_errado]\n",
    "local_ponta_total_errado = local_ponta_errado.shape[0]\n",
    "\n",
    "local_ponta_total = local_ponta_certo.shape[0] + local_ponta_errado.shape[0]\n",
    "\n",
    "selc_total_local = (df_local_not_na['local'] == 'ponta')\n",
    "total_local = df_local_not_na[selc_total_local].shape[0]"
   ]
  },
  {
   "cell_type": "code",
   "execution_count": 408,
   "metadata": {},
   "outputs": [
    {
     "name": "stdout",
     "output_type": "stream",
     "text": [
      "Certo: 4\n",
      "Errado: 168\n",
      "\n",
      "\n",
      "Total: 172\n",
      "Total: 172\n"
     ]
    }
   ],
   "source": [
    "print('Certo:', local_ponta_total_certo)\n",
    "print('Errado:', local_ponta_total_errado)\n",
    "print('\\n')\n",
    "print('Total:', (local_ponta_certo.shape[0] + local_ponta_errado.shape[0]))\n",
    "print('Total:', total_local)"
   ]
  },
  {
   "cell_type": "code",
   "execution_count": 478,
   "metadata": {},
   "outputs": [],
   "source": [
    "def situacao_local(lista_locais, curva):\n",
    "\n",
    "    selecao = df_local_not_na['local'].isin(lista_locais)\n",
    "    df_local = df_local_not_na[selecao]\n",
    "\n",
    "    #Certo\n",
    "    selecao_local_certo = ((df_local['Curva Frac'].str.contains(curva))\n",
    "                            )\n",
    "    local_certo = df_local[selecao_local_certo]\n",
    "    local_total_certo = local_certo.shape[0]\n",
    "\n",
    "    #Errado\n",
    "    selecao_local_errado = (~(df_local['Curva Frac'].str.contains(curva))\n",
    "                                   )\n",
    "    local_errado = df_local[selecao_local_errado]\n",
    "    local_total_errado = local_errado.shape[0]\n",
    "\n",
    "    #Total\n",
    "    local_total = local_total_certo + local_total_errado\n",
    "\n",
    "    return local_total, local_total_certo, local_total_errado, local_certo, local_errado"
   ]
  },
  {
   "cell_type": "code",
   "execution_count": 479,
   "metadata": {},
   "outputs": [
    {
     "data": {
      "text/plain": [
       "(104,\n",
       " 8,\n",
       " 96,\n",
       "        Código                              Descrição Curva Frac Curva Cx  \\\n",
       " Ordem                                                                      \n",
       " 166     12238           DICLOF DIETILAMONIO GEL 60GR          A        A   \n",
       " 258     12864             VALSARTANA 160MG C/ 30COMP          A        C   \n",
       " 292     16053   DIPIRONA MONOID. 500MG 3BLTC10COMP -          A        -   \n",
       " 300     12494                      DIPIRONA SOD 10ML          A        B   \n",
       " 426    130222               VERTIGIUM 10MG C/ 50COMP          A        -   \n",
       " 465      1261     VITAMINA B-12 100% IDR - C/ 60CAPS          A        B   \n",
       " 473       293   OMEGA 3 OLEO DE PEIXE 1000MG 60 CAPS          A        B   \n",
       " 529       949  OMEGA 3 OLEO DE PEIXE 1000MG 120 CAPS          A        B   \n",
       " \n",
       "       Curva Geral Qtde Venda Frac Qtde Venda Cx Qtde Venda Geral  \\\n",
       " Ordem                                                              \n",
       " 166             A          1221.0          15.0           2061.0   \n",
       " 258             A           764.0           0.0            764.0   \n",
       " 292             A           675.0             -            675.0   \n",
       " 300             A           658.0           2.0            898.0   \n",
       " 426             A           449.0             -            449.0   \n",
       " 465             A           407.0           3.0            443.0   \n",
       " 473             A           397.0           2.0            421.0   \n",
       " 529             B           345.0           3.0            381.0   \n",
       " \n",
       "       Dias Pedido Frac Dias Pedido Cx Dias Pedido Geral Ativ.Ressupr.Frac  \\\n",
       " Ordem                                                                       \n",
       " 166               29.0            2.0              29.0              43.0   \n",
       " 258               31.0            0.0              31.0              28.0   \n",
       " 292               44.0              -              44.0              24.0   \n",
       " 300               11.0            2.0              11.0              11.0   \n",
       " 426               37.0              -              37.0              18.0   \n",
       " 465               24.0            3.0              24.0              29.0   \n",
       " 473               36.0            2.0              36.0              83.0   \n",
       " 529               22.0            3.0              24.0              59.0   \n",
       " \n",
       "       Ativ.Ressupr.Cx Ativ.Ressupr.Geral Média por dia frac Média por dia cx  \\\n",
       " Ordem                                                                          \n",
       " 166              20.0               43.0            42.1034              7.5   \n",
       " 258               9.0               28.0            24.6452              0.0   \n",
       " 292                 -               24.0            15.3409                -   \n",
       " 300               6.0               11.0            59.8182              1.0   \n",
       " 426                 -               18.0            12.1351                -   \n",
       " 465              24.0               28.0            16.9583              1.0   \n",
       " 473              15.0               83.0            11.0278              1.0   \n",
       " 529              15.0               59.0            15.6818              1.0   \n",
       " \n",
       "       Média por dia geral  Estoque Armaz. Ender.Cx.Fechada  Estoque Cx  \\\n",
       " Ordem                                                                    \n",
       " 166                71.069               0    010-032-02-01           2   \n",
       " 258               24.6452               0    010-042-02-01           1   \n",
       " 292               15.3409               0    010-036-02-01           0   \n",
       " 300               81.6364               0    010-040-02-01   0 (+2 fr)   \n",
       " 426               12.1351               0    010-028-02-01           0   \n",
       " 465               18.4583               0    010-044-02-02           0   \n",
       " 473               11.6944               3    010-042-02-01   4 (+3 fr)   \n",
       " 529                15.875              17    010-040-02-02  2 (+11 fr)   \n",
       " \n",
       "        Capacidade Cx  Embal.  Estoque Frac  Capacidade Frac Permite Frac.  \\\n",
       " Ordem                                                                       \n",
       " 166                5      56            55               56           Não   \n",
       " 258                3      56            56               56           Não   \n",
       " 292                2     100            52              100           Sim   \n",
       " 300                2     120           100              100           Sim   \n",
       " 426                1      60             0               60           Sim   \n",
       " 465                3      12             0               12           Não   \n",
       " 473                6      12             9               12           Sim   \n",
       " 529                3      12             6                6           Sim   \n",
       " \n",
       "       Ender.Fracionado        Tipo Qtde Desvio Picking       local  \n",
       " Ordem                                                               \n",
       " 166             21.205  Prateleira                97.0  prateleira  \n",
       " 258             27.355  Prateleira               136.0  prateleira  \n",
       " 292             26.418  Prateleira               282.0  prateleira  \n",
       " 300             25.575  Prateleira                51.0  prateleira  \n",
       " 426                  -           -               213.0  prateleira  \n",
       " 465             24.463  Prateleira               166.0  prateleira  \n",
       " 473             20.557  Prateleira               171.0  prateleira  \n",
       " 529             23.141  Prateleira               137.0  prateleira  ,\n",
       "        Código                                 Descrição Curva Frac Curva Cx  \\\n",
       " Ordem                                                                         \n",
       " 672     12430                  MESALAZINA 800MG C/ 30CP          B        -   \n",
       " 690     10930       RISEDRONATO SODICO  35MG C/ 4CP REV          B        C   \n",
       " 715      1804   ESCOVA DENTAL ESCOVA 1ºDENTINHO MUNDO B          B        -   \n",
       " 750      2322   ESCOVA KIT ESCOLAR TRANSFORMERS +3 ANOS          B        C   \n",
       " 772     22222  ESCOVA DENTAL TREND SENSITIVE  PACK TRIP          B        -   \n",
       " ...       ...                                       ...        ...      ...   \n",
       " 8823     1215        SILOUET THERMO (CHA VERDE/GUARANA)          -        -   \n",
       " 8957      902         SUMMER & BRONZE  90 CAP MAXINUTRI          -        -   \n",
       " 9195    61869                      UMIDIFICADOR BABY 3L          -        -   \n",
       " 9197    60908            UMIDIFICADOR FISHER PRICE 3.4L          -        -   \n",
       " 9224   601209      VARFARINA SODICA 5MG C/30 CPR UQ-GEN          -        -   \n",
       " \n",
       "       Curva Geral Qtde Venda Frac Qtde Venda Cx Qtde Venda Geral  \\\n",
       " Ordem                                                              \n",
       " 672             B           235.0             -            235.0   \n",
       " 690             B           226.0           0.0            226.0   \n",
       " 715             B           217.0             -            217.0   \n",
       " 750             B           195.0           0.0            195.0   \n",
       " 772             B           187.0             -            187.0   \n",
       " ...           ...             ...           ...              ...   \n",
       " 8823            -               -             -                -   \n",
       " 8957            -               -             -                -   \n",
       " 9195            -               -             -                -   \n",
       " 9197            -               -             -                -   \n",
       " 9224            -               -             -                -   \n",
       " \n",
       "       Dias Pedido Frac Dias Pedido Cx Dias Pedido Geral Ativ.Ressupr.Frac  \\\n",
       " Ordem                                                                       \n",
       " 672               21.0              -              21.0               6.0   \n",
       " 690               40.0            0.0              40.0              49.0   \n",
       " 715               40.0              -              40.0              22.0   \n",
       " 750               35.0            0.0              35.0              15.0   \n",
       " 772               29.0              -              29.0              18.0   \n",
       " ...                ...            ...               ...               ...   \n",
       " 8823                 -              -                 -                 -   \n",
       " 8957                 -              -                 -                 -   \n",
       " 9195                 -              -                 -                 -   \n",
       " 9197                 -              -                 -                 -   \n",
       " 9224                 -              -                 -                 -   \n",
       " \n",
       "       Ativ.Ressupr.Cx Ativ.Ressupr.Geral Média por dia frac Média por dia cx  \\\n",
       " Ordem                                                                          \n",
       " 672                 -                6.0            11.1905                -   \n",
       " 690               4.0               49.0               5.65              0.0   \n",
       " 715                 -               22.0              5.425                -   \n",
       " 750               6.0               15.0             5.5714              0.0   \n",
       " 772                 -               18.0             6.4483                -   \n",
       " ...               ...                ...                ...              ...   \n",
       " 8823                -                  -                  -                -   \n",
       " 8957                -                  -                  -                -   \n",
       " 9195                -                  -                  -                -   \n",
       " 9197                -                  -                  -                -   \n",
       " 9224                -                  -                  -                -   \n",
       " \n",
       "       Média por dia geral  Estoque Armaz. Ender.Cx.Fechada  Estoque Cx  \\\n",
       " Ordem                                                                    \n",
       " 672               11.1905               0    010-040-02-01           0   \n",
       " 690                  5.65               1    010-032-02-01  7 (+51 fr)   \n",
       " 715                 5.425               0    010-034-02-01           0   \n",
       " 750                5.5714               0    010-034-02-02   1 (+8 fr)   \n",
       " 772                6.4483               0    010-034-02-02           0   \n",
       " ...                   ...             ...              ...         ...   \n",
       " 8823                    -               0    010-038-02-02           0   \n",
       " 8957                    -               0    010-042-02-01           0   \n",
       " 9195                    -               0    010-030-02-01           0   \n",
       " 9197                    -               0    010-028-02-01           0   \n",
       " 9224                    -               0    010-030-02-02           0   \n",
       " \n",
       "        Capacidade Cx  Embal.  Estoque Frac  Capacidade Frac Permite Frac.  \\\n",
       " Ordem                                                                       \n",
       " 672                2      56            23               56           Não   \n",
       " 690                2      96            68               60           Sim   \n",
       " 715                2      36             2               30           Sim   \n",
       " 750                1      36            29               36           Sim   \n",
       " 772                2      36             0               36           Sim   \n",
       " ...              ...     ...           ...              ...           ...   \n",
       " 8823               1      12             0                0           Sim   \n",
       " 8957               1      12             0                0           Sim   \n",
       " 9195               1       6             0                0           Sim   \n",
       " 9197               1       6             0                0           Sim   \n",
       " 9224               1     198             0                0           Sim   \n",
       " \n",
       "       Ender.Fracionado        Tipo Qtde Desvio Picking       local  \n",
       " Ordem                                                               \n",
       " 672             22.167  Prateleira               121.0  prateleira  \n",
       " 690             21.167  Prateleira               115.0  prateleira  \n",
       " 715             24.203  Prateleira                64.0  prateleira  \n",
       " 750             27.308  Prateleira                52.0  prateleira  \n",
       " 772             20.398  Prateleira                50.0  prateleira  \n",
       " ...                ...         ...                 ...         ...  \n",
       " 8823                 -           -                   -  prateleira  \n",
       " 8957                 -           -                   -  prateleira  \n",
       " 9195                 -           -                   -  prateleira  \n",
       " 9197                 -           -                   -  prateleira  \n",
       " 9224                 -           -                   -  prateleira  \n",
       " \n",
       " [96 rows x 29 columns])"
      ]
     },
     "execution_count": 479,
     "metadata": {},
     "output_type": "execute_result"
    }
   ],
   "source": [
    "local_prateleira = situacao_local(['prateleira'], 'A')\n",
    "local_prateleira"
   ]
  },
  {
   "cell_type": "code",
   "execution_count": 480,
   "metadata": {},
   "outputs": [
    {
     "name": "stdout",
     "output_type": "stream",
     "text": [
      "Certo: 8\n",
      "Errado: 96\n",
      "\n",
      "\n",
      "Total: 104\n",
      "Total: 104\n"
     ]
    }
   ],
   "source": [
    "print('Certo:', local_prateleira[1])\n",
    "print('Errado:', local_prateleira[2])\n",
    "print('\\n')\n",
    "print('Total:', local_prateleira[1] + local_prateleira[2])\n",
    "print('Total:', local_prateleira[0])"
   ]
  },
  {
   "cell_type": "code",
   "execution_count": 483,
   "metadata": {},
   "outputs": [],
   "source": [
    "#Certo\n",
    "selecao_local_certo_am = ((df_local_not_na['Descrição'].str.contains('\\(AM\\)')) & \\\n",
    "                          (df_local_not_na['local'] == 'antibiotico')\n",
    "                          )\n",
    "local_certo_am = df_local_not_na[selecao_local_certo_am]\n",
    "local_total_certo_am = local_certo_am.shape[0]\n",
    "#Errado\n",
    "selecao_local_errado_am = (~(df_local_not_na['Descrição'].str.contains('\\(AM\\)')) & \\\n",
    "                          (df_local_not_na['local'] == 'antibiotico')\n",
    "                          )\n",
    "local_errado_am = df_local_not_na[selecao_local_errado_am]\n",
    "local_total_errado_am = local_errado_am.shape[0]\n",
    "\n",
    "#Total\n",
    "local_total = local_total_certo_am + local_total_errado_am\n",
    "\n",
    "selc_total_local = (df_local_not_na['local'] == 'antibiotico')\n",
    "total_local = df_local_not_na[selc_total_local].shape[0]\n"
   ]
  },
  {
   "cell_type": "code",
   "execution_count": 484,
   "metadata": {},
   "outputs": [
    {
     "name": "stdout",
     "output_type": "stream",
     "text": [
      "Certo: 90\n",
      "Errado: 2\n",
      "\n",
      "\n",
      "Total: 92\n",
      "Total: 92\n"
     ]
    }
   ],
   "source": [
    "print('Certo:', local_total_certo_am)\n",
    "print('Errado:', local_total_errado_am)\n",
    "print('\\n')\n",
    "print('Total:', local_total_certo_am + local_total_errado_am)\n",
    "print('Total:', local_total)"
   ]
  },
  {
   "cell_type": "code",
   "execution_count": 413,
   "metadata": {},
   "outputs": [],
   "source": [
    "import plotly_express as px"
   ]
  },
  {
   "cell_type": "code",
   "execution_count": 414,
   "metadata": {},
   "outputs": [],
   "source": [
    "def criar_grafico_pizza(valores):\n",
    "    df = pd.DataFrame({'Situação' : ['Certo', 'Errado'],\n",
    "                       'Quantidade' : valores})\n",
    "    \n",
    "    fig = px.pie(df, values='Quantidade', names='Situação', color='Situação', \n",
    "                 color_discrete_map={'Certo':'mediumblue',\n",
    "                                    'Errado':'lightgrey'})\n",
    "\n",
    "    fig.update_traces(textposition='outside', textinfo='percent+label')\n",
    "    return fig"
   ]
  },
  {
   "cell_type": "code",
   "execution_count": 415,
   "metadata": {},
   "outputs": [
    {
     "data": {
      "application/vnd.plotly.v1+json": {
       "config": {
        "plotlyServerURL": "https://plot.ly"
       },
       "data": [
        {
         "customdata": [
          [
           "Certo"
          ],
          [
           "Errado"
          ]
         ],
         "domain": {
          "x": [
           0,
           1
          ],
          "y": [
           0,
           1
          ]
         },
         "hovertemplate": "Situação=%{customdata[0]}<br>Quantidade=%{value}<extra></extra>",
         "labels": [
          "Certo",
          "Errado"
         ],
         "legendgroup": "",
         "marker": {
          "colors": [
           "mediumblue",
           "lightgrey"
          ]
         },
         "name": "",
         "showlegend": true,
         "textinfo": "percent+label",
         "textposition": "outside",
         "type": "pie",
         "values": [
          4,
          168
         ]
        }
       ],
       "layout": {
        "legend": {
         "tracegroupgap": 0
        },
        "margin": {
         "t": 60
        },
        "template": {
         "data": {
          "bar": [
           {
            "error_x": {
             "color": "#2a3f5f"
            },
            "error_y": {
             "color": "#2a3f5f"
            },
            "marker": {
             "line": {
              "color": "#E5ECF6",
              "width": 0.5
             },
             "pattern": {
              "fillmode": "overlay",
              "size": 10,
              "solidity": 0.2
             }
            },
            "type": "bar"
           }
          ],
          "barpolar": [
           {
            "marker": {
             "line": {
              "color": "#E5ECF6",
              "width": 0.5
             },
             "pattern": {
              "fillmode": "overlay",
              "size": 10,
              "solidity": 0.2
             }
            },
            "type": "barpolar"
           }
          ],
          "carpet": [
           {
            "aaxis": {
             "endlinecolor": "#2a3f5f",
             "gridcolor": "white",
             "linecolor": "white",
             "minorgridcolor": "white",
             "startlinecolor": "#2a3f5f"
            },
            "baxis": {
             "endlinecolor": "#2a3f5f",
             "gridcolor": "white",
             "linecolor": "white",
             "minorgridcolor": "white",
             "startlinecolor": "#2a3f5f"
            },
            "type": "carpet"
           }
          ],
          "choropleth": [
           {
            "colorbar": {
             "outlinewidth": 0,
             "ticks": ""
            },
            "type": "choropleth"
           }
          ],
          "contour": [
           {
            "colorbar": {
             "outlinewidth": 0,
             "ticks": ""
            },
            "colorscale": [
             [
              0,
              "#0d0887"
             ],
             [
              0.1111111111111111,
              "#46039f"
             ],
             [
              0.2222222222222222,
              "#7201a8"
             ],
             [
              0.3333333333333333,
              "#9c179e"
             ],
             [
              0.4444444444444444,
              "#bd3786"
             ],
             [
              0.5555555555555556,
              "#d8576b"
             ],
             [
              0.6666666666666666,
              "#ed7953"
             ],
             [
              0.7777777777777778,
              "#fb9f3a"
             ],
             [
              0.8888888888888888,
              "#fdca26"
             ],
             [
              1,
              "#f0f921"
             ]
            ],
            "type": "contour"
           }
          ],
          "contourcarpet": [
           {
            "colorbar": {
             "outlinewidth": 0,
             "ticks": ""
            },
            "type": "contourcarpet"
           }
          ],
          "heatmap": [
           {
            "colorbar": {
             "outlinewidth": 0,
             "ticks": ""
            },
            "colorscale": [
             [
              0,
              "#0d0887"
             ],
             [
              0.1111111111111111,
              "#46039f"
             ],
             [
              0.2222222222222222,
              "#7201a8"
             ],
             [
              0.3333333333333333,
              "#9c179e"
             ],
             [
              0.4444444444444444,
              "#bd3786"
             ],
             [
              0.5555555555555556,
              "#d8576b"
             ],
             [
              0.6666666666666666,
              "#ed7953"
             ],
             [
              0.7777777777777778,
              "#fb9f3a"
             ],
             [
              0.8888888888888888,
              "#fdca26"
             ],
             [
              1,
              "#f0f921"
             ]
            ],
            "type": "heatmap"
           }
          ],
          "heatmapgl": [
           {
            "colorbar": {
             "outlinewidth": 0,
             "ticks": ""
            },
            "colorscale": [
             [
              0,
              "#0d0887"
             ],
             [
              0.1111111111111111,
              "#46039f"
             ],
             [
              0.2222222222222222,
              "#7201a8"
             ],
             [
              0.3333333333333333,
              "#9c179e"
             ],
             [
              0.4444444444444444,
              "#bd3786"
             ],
             [
              0.5555555555555556,
              "#d8576b"
             ],
             [
              0.6666666666666666,
              "#ed7953"
             ],
             [
              0.7777777777777778,
              "#fb9f3a"
             ],
             [
              0.8888888888888888,
              "#fdca26"
             ],
             [
              1,
              "#f0f921"
             ]
            ],
            "type": "heatmapgl"
           }
          ],
          "histogram": [
           {
            "marker": {
             "pattern": {
              "fillmode": "overlay",
              "size": 10,
              "solidity": 0.2
             }
            },
            "type": "histogram"
           }
          ],
          "histogram2d": [
           {
            "colorbar": {
             "outlinewidth": 0,
             "ticks": ""
            },
            "colorscale": [
             [
              0,
              "#0d0887"
             ],
             [
              0.1111111111111111,
              "#46039f"
             ],
             [
              0.2222222222222222,
              "#7201a8"
             ],
             [
              0.3333333333333333,
              "#9c179e"
             ],
             [
              0.4444444444444444,
              "#bd3786"
             ],
             [
              0.5555555555555556,
              "#d8576b"
             ],
             [
              0.6666666666666666,
              "#ed7953"
             ],
             [
              0.7777777777777778,
              "#fb9f3a"
             ],
             [
              0.8888888888888888,
              "#fdca26"
             ],
             [
              1,
              "#f0f921"
             ]
            ],
            "type": "histogram2d"
           }
          ],
          "histogram2dcontour": [
           {
            "colorbar": {
             "outlinewidth": 0,
             "ticks": ""
            },
            "colorscale": [
             [
              0,
              "#0d0887"
             ],
             [
              0.1111111111111111,
              "#46039f"
             ],
             [
              0.2222222222222222,
              "#7201a8"
             ],
             [
              0.3333333333333333,
              "#9c179e"
             ],
             [
              0.4444444444444444,
              "#bd3786"
             ],
             [
              0.5555555555555556,
              "#d8576b"
             ],
             [
              0.6666666666666666,
              "#ed7953"
             ],
             [
              0.7777777777777778,
              "#fb9f3a"
             ],
             [
              0.8888888888888888,
              "#fdca26"
             ],
             [
              1,
              "#f0f921"
             ]
            ],
            "type": "histogram2dcontour"
           }
          ],
          "mesh3d": [
           {
            "colorbar": {
             "outlinewidth": 0,
             "ticks": ""
            },
            "type": "mesh3d"
           }
          ],
          "parcoords": [
           {
            "line": {
             "colorbar": {
              "outlinewidth": 0,
              "ticks": ""
             }
            },
            "type": "parcoords"
           }
          ],
          "pie": [
           {
            "automargin": true,
            "type": "pie"
           }
          ],
          "scatter": [
           {
            "fillpattern": {
             "fillmode": "overlay",
             "size": 10,
             "solidity": 0.2
            },
            "type": "scatter"
           }
          ],
          "scatter3d": [
           {
            "line": {
             "colorbar": {
              "outlinewidth": 0,
              "ticks": ""
             }
            },
            "marker": {
             "colorbar": {
              "outlinewidth": 0,
              "ticks": ""
             }
            },
            "type": "scatter3d"
           }
          ],
          "scattercarpet": [
           {
            "marker": {
             "colorbar": {
              "outlinewidth": 0,
              "ticks": ""
             }
            },
            "type": "scattercarpet"
           }
          ],
          "scattergeo": [
           {
            "marker": {
             "colorbar": {
              "outlinewidth": 0,
              "ticks": ""
             }
            },
            "type": "scattergeo"
           }
          ],
          "scattergl": [
           {
            "marker": {
             "colorbar": {
              "outlinewidth": 0,
              "ticks": ""
             }
            },
            "type": "scattergl"
           }
          ],
          "scattermapbox": [
           {
            "marker": {
             "colorbar": {
              "outlinewidth": 0,
              "ticks": ""
             }
            },
            "type": "scattermapbox"
           }
          ],
          "scatterpolar": [
           {
            "marker": {
             "colorbar": {
              "outlinewidth": 0,
              "ticks": ""
             }
            },
            "type": "scatterpolar"
           }
          ],
          "scatterpolargl": [
           {
            "marker": {
             "colorbar": {
              "outlinewidth": 0,
              "ticks": ""
             }
            },
            "type": "scatterpolargl"
           }
          ],
          "scatterternary": [
           {
            "marker": {
             "colorbar": {
              "outlinewidth": 0,
              "ticks": ""
             }
            },
            "type": "scatterternary"
           }
          ],
          "surface": [
           {
            "colorbar": {
             "outlinewidth": 0,
             "ticks": ""
            },
            "colorscale": [
             [
              0,
              "#0d0887"
             ],
             [
              0.1111111111111111,
              "#46039f"
             ],
             [
              0.2222222222222222,
              "#7201a8"
             ],
             [
              0.3333333333333333,
              "#9c179e"
             ],
             [
              0.4444444444444444,
              "#bd3786"
             ],
             [
              0.5555555555555556,
              "#d8576b"
             ],
             [
              0.6666666666666666,
              "#ed7953"
             ],
             [
              0.7777777777777778,
              "#fb9f3a"
             ],
             [
              0.8888888888888888,
              "#fdca26"
             ],
             [
              1,
              "#f0f921"
             ]
            ],
            "type": "surface"
           }
          ],
          "table": [
           {
            "cells": {
             "fill": {
              "color": "#EBF0F8"
             },
             "line": {
              "color": "white"
             }
            },
            "header": {
             "fill": {
              "color": "#C8D4E3"
             },
             "line": {
              "color": "white"
             }
            },
            "type": "table"
           }
          ]
         },
         "layout": {
          "annotationdefaults": {
           "arrowcolor": "#2a3f5f",
           "arrowhead": 0,
           "arrowwidth": 1
          },
          "autotypenumbers": "strict",
          "coloraxis": {
           "colorbar": {
            "outlinewidth": 0,
            "ticks": ""
           }
          },
          "colorscale": {
           "diverging": [
            [
             0,
             "#8e0152"
            ],
            [
             0.1,
             "#c51b7d"
            ],
            [
             0.2,
             "#de77ae"
            ],
            [
             0.3,
             "#f1b6da"
            ],
            [
             0.4,
             "#fde0ef"
            ],
            [
             0.5,
             "#f7f7f7"
            ],
            [
             0.6,
             "#e6f5d0"
            ],
            [
             0.7,
             "#b8e186"
            ],
            [
             0.8,
             "#7fbc41"
            ],
            [
             0.9,
             "#4d9221"
            ],
            [
             1,
             "#276419"
            ]
           ],
           "sequential": [
            [
             0,
             "#0d0887"
            ],
            [
             0.1111111111111111,
             "#46039f"
            ],
            [
             0.2222222222222222,
             "#7201a8"
            ],
            [
             0.3333333333333333,
             "#9c179e"
            ],
            [
             0.4444444444444444,
             "#bd3786"
            ],
            [
             0.5555555555555556,
             "#d8576b"
            ],
            [
             0.6666666666666666,
             "#ed7953"
            ],
            [
             0.7777777777777778,
             "#fb9f3a"
            ],
            [
             0.8888888888888888,
             "#fdca26"
            ],
            [
             1,
             "#f0f921"
            ]
           ],
           "sequentialminus": [
            [
             0,
             "#0d0887"
            ],
            [
             0.1111111111111111,
             "#46039f"
            ],
            [
             0.2222222222222222,
             "#7201a8"
            ],
            [
             0.3333333333333333,
             "#9c179e"
            ],
            [
             0.4444444444444444,
             "#bd3786"
            ],
            [
             0.5555555555555556,
             "#d8576b"
            ],
            [
             0.6666666666666666,
             "#ed7953"
            ],
            [
             0.7777777777777778,
             "#fb9f3a"
            ],
            [
             0.8888888888888888,
             "#fdca26"
            ],
            [
             1,
             "#f0f921"
            ]
           ]
          },
          "colorway": [
           "#636efa",
           "#EF553B",
           "#00cc96",
           "#ab63fa",
           "#FFA15A",
           "#19d3f3",
           "#FF6692",
           "#B6E880",
           "#FF97FF",
           "#FECB52"
          ],
          "font": {
           "color": "#2a3f5f"
          },
          "geo": {
           "bgcolor": "white",
           "lakecolor": "white",
           "landcolor": "#E5ECF6",
           "showlakes": true,
           "showland": true,
           "subunitcolor": "white"
          },
          "hoverlabel": {
           "align": "left"
          },
          "hovermode": "closest",
          "mapbox": {
           "style": "light"
          },
          "paper_bgcolor": "white",
          "plot_bgcolor": "#E5ECF6",
          "polar": {
           "angularaxis": {
            "gridcolor": "white",
            "linecolor": "white",
            "ticks": ""
           },
           "bgcolor": "#E5ECF6",
           "radialaxis": {
            "gridcolor": "white",
            "linecolor": "white",
            "ticks": ""
           }
          },
          "scene": {
           "xaxis": {
            "backgroundcolor": "#E5ECF6",
            "gridcolor": "white",
            "gridwidth": 2,
            "linecolor": "white",
            "showbackground": true,
            "ticks": "",
            "zerolinecolor": "white"
           },
           "yaxis": {
            "backgroundcolor": "#E5ECF6",
            "gridcolor": "white",
            "gridwidth": 2,
            "linecolor": "white",
            "showbackground": true,
            "ticks": "",
            "zerolinecolor": "white"
           },
           "zaxis": {
            "backgroundcolor": "#E5ECF6",
            "gridcolor": "white",
            "gridwidth": 2,
            "linecolor": "white",
            "showbackground": true,
            "ticks": "",
            "zerolinecolor": "white"
           }
          },
          "shapedefaults": {
           "line": {
            "color": "#2a3f5f"
           }
          },
          "ternary": {
           "aaxis": {
            "gridcolor": "white",
            "linecolor": "white",
            "ticks": ""
           },
           "baxis": {
            "gridcolor": "white",
            "linecolor": "white",
            "ticks": ""
           },
           "bgcolor": "#E5ECF6",
           "caxis": {
            "gridcolor": "white",
            "linecolor": "white",
            "ticks": ""
           }
          },
          "title": {
           "x": 0.05
          },
          "xaxis": {
           "automargin": true,
           "gridcolor": "white",
           "linecolor": "white",
           "ticks": "",
           "title": {
            "standoff": 15
           },
           "zerolinecolor": "white",
           "zerolinewidth": 2
          },
          "yaxis": {
           "automargin": true,
           "gridcolor": "white",
           "linecolor": "white",
           "ticks": "",
           "title": {
            "standoff": 15
           },
           "zerolinecolor": "white",
           "zerolinewidth": 2
          }
         }
        }
       }
      }
     },
     "metadata": {},
     "output_type": "display_data"
    }
   ],
   "source": [
    "criar_grafico_pizza([local_ponta_total_certo, local_ponta_total_errado])"
   ]
  },
  {
   "cell_type": "code",
   "execution_count": null,
   "metadata": {},
   "outputs": [],
   "source": []
  },
  {
   "cell_type": "code",
   "execution_count": 511,
   "metadata": {},
   "outputs": [
    {
     "data": {
      "text/html": [
       "<div>\n",
       "<style scoped>\n",
       "    .dataframe tbody tr th:only-of-type {\n",
       "        vertical-align: middle;\n",
       "    }\n",
       "\n",
       "    .dataframe tbody tr th {\n",
       "        vertical-align: top;\n",
       "    }\n",
       "\n",
       "    .dataframe thead th {\n",
       "        text-align: right;\n",
       "    }\n",
       "</style>\n",
       "<table border=\"1\" class=\"dataframe\">\n",
       "  <thead>\n",
       "    <tr style=\"text-align: right;\">\n",
       "      <th></th>\n",
       "      <th>10 e 12 Par</th>\n",
       "      <th>Rua 10 e 12</th>\n",
       "      <th>14 Par</th>\n",
       "      <th>Rua 14 e 15</th>\n",
       "      <th>15 Impar</th>\n",
       "      <th>16 Impar</th>\n",
       "      <th>Rua 16</th>\n",
       "      <th>16 Par</th>\n",
       "      <th>17 Impar</th>\n",
       "      <th>Rua 17</th>\n",
       "      <th>17 Par</th>\n",
       "      <th>18 Impar</th>\n",
       "      <th>Rua 18</th>\n",
       "      <th>18 Par</th>\n",
       "    </tr>\n",
       "  </thead>\n",
       "  <tbody>\n",
       "    <tr>\n",
       "      <th>0</th>\n",
       "      <td>0</td>\n",
       "      <td>0</td>\n",
       "      <td>0</td>\n",
       "      <td>0</td>\n",
       "      <td>0</td>\n",
       "      <td>1</td>\n",
       "      <td>0</td>\n",
       "      <td>2</td>\n",
       "      <td>1</td>\n",
       "      <td>0</td>\n",
       "      <td>2</td>\n",
       "      <td>1</td>\n",
       "      <td>0</td>\n",
       "      <td>2</td>\n",
       "    </tr>\n",
       "    <tr>\n",
       "      <th>1</th>\n",
       "      <td>0</td>\n",
       "      <td>0</td>\n",
       "      <td>2</td>\n",
       "      <td>0</td>\n",
       "      <td>0</td>\n",
       "      <td>3</td>\n",
       "      <td>0</td>\n",
       "      <td>4</td>\n",
       "      <td>3</td>\n",
       "      <td>0</td>\n",
       "      <td>4</td>\n",
       "      <td>3</td>\n",
       "      <td>0</td>\n",
       "      <td>4</td>\n",
       "    </tr>\n",
       "    <tr>\n",
       "      <th>2</th>\n",
       "      <td>2</td>\n",
       "      <td>0</td>\n",
       "      <td>4</td>\n",
       "      <td>0</td>\n",
       "      <td>3</td>\n",
       "      <td>5</td>\n",
       "      <td>0</td>\n",
       "      <td>6</td>\n",
       "      <td>5</td>\n",
       "      <td>0</td>\n",
       "      <td>6</td>\n",
       "      <td>5</td>\n",
       "      <td>0</td>\n",
       "      <td>6</td>\n",
       "    </tr>\n",
       "    <tr>\n",
       "      <th>3</th>\n",
       "      <td>4</td>\n",
       "      <td>0</td>\n",
       "      <td>6</td>\n",
       "      <td>0</td>\n",
       "      <td>5</td>\n",
       "      <td>7</td>\n",
       "      <td>0</td>\n",
       "      <td>8</td>\n",
       "      <td>7</td>\n",
       "      <td>0</td>\n",
       "      <td>8</td>\n",
       "      <td>7</td>\n",
       "      <td>0</td>\n",
       "      <td>8</td>\n",
       "    </tr>\n",
       "    <tr>\n",
       "      <th>4</th>\n",
       "      <td>6</td>\n",
       "      <td>0</td>\n",
       "      <td>8</td>\n",
       "      <td>0</td>\n",
       "      <td>7</td>\n",
       "      <td>9</td>\n",
       "      <td>0</td>\n",
       "      <td>10</td>\n",
       "      <td>9</td>\n",
       "      <td>0</td>\n",
       "      <td>10</td>\n",
       "      <td>9</td>\n",
       "      <td>0</td>\n",
       "      <td>10</td>\n",
       "    </tr>\n",
       "    <tr>\n",
       "      <th>5</th>\n",
       "      <td>8</td>\n",
       "      <td>0</td>\n",
       "      <td>10</td>\n",
       "      <td>0</td>\n",
       "      <td>9</td>\n",
       "      <td>11</td>\n",
       "      <td>0</td>\n",
       "      <td>12</td>\n",
       "      <td>11</td>\n",
       "      <td>0</td>\n",
       "      <td>12</td>\n",
       "      <td>11</td>\n",
       "      <td>0</td>\n",
       "      <td>12</td>\n",
       "    </tr>\n",
       "    <tr>\n",
       "      <th>6</th>\n",
       "      <td>10</td>\n",
       "      <td>0</td>\n",
       "      <td>12</td>\n",
       "      <td>0</td>\n",
       "      <td>11</td>\n",
       "      <td>13</td>\n",
       "      <td>0</td>\n",
       "      <td>14</td>\n",
       "      <td>13</td>\n",
       "      <td>0</td>\n",
       "      <td>14</td>\n",
       "      <td>13</td>\n",
       "      <td>0</td>\n",
       "      <td>14</td>\n",
       "    </tr>\n",
       "    <tr>\n",
       "      <th>7</th>\n",
       "      <td>12</td>\n",
       "      <td>0</td>\n",
       "      <td>14</td>\n",
       "      <td>0</td>\n",
       "      <td>13</td>\n",
       "      <td>15</td>\n",
       "      <td>0</td>\n",
       "      <td>16</td>\n",
       "      <td>15</td>\n",
       "      <td>0</td>\n",
       "      <td>16</td>\n",
       "      <td>15</td>\n",
       "      <td>0</td>\n",
       "      <td>16</td>\n",
       "    </tr>\n",
       "    <tr>\n",
       "      <th>8</th>\n",
       "      <td>14</td>\n",
       "      <td>0</td>\n",
       "      <td>16</td>\n",
       "      <td>0</td>\n",
       "      <td>15</td>\n",
       "      <td>17</td>\n",
       "      <td>0</td>\n",
       "      <td>18</td>\n",
       "      <td>17</td>\n",
       "      <td>0</td>\n",
       "      <td>18</td>\n",
       "      <td>17</td>\n",
       "      <td>0</td>\n",
       "      <td>18</td>\n",
       "    </tr>\n",
       "    <tr>\n",
       "      <th>9</th>\n",
       "      <td>16</td>\n",
       "      <td>0</td>\n",
       "      <td>18</td>\n",
       "      <td>0</td>\n",
       "      <td>17</td>\n",
       "      <td>19</td>\n",
       "      <td>0</td>\n",
       "      <td>20</td>\n",
       "      <td>19</td>\n",
       "      <td>0</td>\n",
       "      <td>20</td>\n",
       "      <td>19</td>\n",
       "      <td>0</td>\n",
       "      <td>20</td>\n",
       "    </tr>\n",
       "    <tr>\n",
       "      <th>10</th>\n",
       "      <td>18</td>\n",
       "      <td>0</td>\n",
       "      <td>20</td>\n",
       "      <td>0</td>\n",
       "      <td>19</td>\n",
       "      <td>21</td>\n",
       "      <td>0</td>\n",
       "      <td>22</td>\n",
       "      <td>21</td>\n",
       "      <td>0</td>\n",
       "      <td>22</td>\n",
       "      <td>21</td>\n",
       "      <td>0</td>\n",
       "      <td>22</td>\n",
       "    </tr>\n",
       "    <tr>\n",
       "      <th>11</th>\n",
       "      <td>20</td>\n",
       "      <td>0</td>\n",
       "      <td>22</td>\n",
       "      <td>0</td>\n",
       "      <td>21</td>\n",
       "      <td>23</td>\n",
       "      <td>0</td>\n",
       "      <td>24</td>\n",
       "      <td>23</td>\n",
       "      <td>0</td>\n",
       "      <td>24</td>\n",
       "      <td>23</td>\n",
       "      <td>0</td>\n",
       "      <td>24</td>\n",
       "    </tr>\n",
       "    <tr>\n",
       "      <th>12</th>\n",
       "      <td>22</td>\n",
       "      <td>0</td>\n",
       "      <td>24</td>\n",
       "      <td>0</td>\n",
       "      <td>23</td>\n",
       "      <td>25</td>\n",
       "      <td>0</td>\n",
       "      <td>26</td>\n",
       "      <td>25</td>\n",
       "      <td>0</td>\n",
       "      <td>26</td>\n",
       "      <td>25</td>\n",
       "      <td>0</td>\n",
       "      <td>26</td>\n",
       "    </tr>\n",
       "    <tr>\n",
       "      <th>13</th>\n",
       "      <td>24</td>\n",
       "      <td>0</td>\n",
       "      <td>26</td>\n",
       "      <td>0</td>\n",
       "      <td>25</td>\n",
       "      <td>27</td>\n",
       "      <td>0</td>\n",
       "      <td>28</td>\n",
       "      <td>27</td>\n",
       "      <td>0</td>\n",
       "      <td>28</td>\n",
       "      <td>27</td>\n",
       "      <td>0</td>\n",
       "      <td>28</td>\n",
       "    </tr>\n",
       "    <tr>\n",
       "      <th>14</th>\n",
       "      <td>26</td>\n",
       "      <td>0</td>\n",
       "      <td>28</td>\n",
       "      <td>0</td>\n",
       "      <td>27</td>\n",
       "      <td>29</td>\n",
       "      <td>0</td>\n",
       "      <td>30</td>\n",
       "      <td>29</td>\n",
       "      <td>0</td>\n",
       "      <td>30</td>\n",
       "      <td>29</td>\n",
       "      <td>0</td>\n",
       "      <td>30</td>\n",
       "    </tr>\n",
       "    <tr>\n",
       "      <th>15</th>\n",
       "      <td>28</td>\n",
       "      <td>0</td>\n",
       "      <td>30</td>\n",
       "      <td>0</td>\n",
       "      <td>29</td>\n",
       "      <td>31</td>\n",
       "      <td>0</td>\n",
       "      <td>32</td>\n",
       "      <td>31</td>\n",
       "      <td>0</td>\n",
       "      <td>32</td>\n",
       "      <td>31</td>\n",
       "      <td>0</td>\n",
       "      <td>32</td>\n",
       "    </tr>\n",
       "    <tr>\n",
       "      <th>16</th>\n",
       "      <td>30</td>\n",
       "      <td>0</td>\n",
       "      <td>32</td>\n",
       "      <td>0</td>\n",
       "      <td>31</td>\n",
       "      <td>33</td>\n",
       "      <td>0</td>\n",
       "      <td>34</td>\n",
       "      <td>33</td>\n",
       "      <td>0</td>\n",
       "      <td>34</td>\n",
       "      <td>33</td>\n",
       "      <td>0</td>\n",
       "      <td>34</td>\n",
       "    </tr>\n",
       "    <tr>\n",
       "      <th>17</th>\n",
       "      <td>32</td>\n",
       "      <td>0</td>\n",
       "      <td>34</td>\n",
       "      <td>0</td>\n",
       "      <td>33</td>\n",
       "      <td>35</td>\n",
       "      <td>0</td>\n",
       "      <td>36</td>\n",
       "      <td>35</td>\n",
       "      <td>0</td>\n",
       "      <td>36</td>\n",
       "      <td>35</td>\n",
       "      <td>0</td>\n",
       "      <td>36</td>\n",
       "    </tr>\n",
       "    <tr>\n",
       "      <th>18</th>\n",
       "      <td>34</td>\n",
       "      <td>0</td>\n",
       "      <td>36</td>\n",
       "      <td>0</td>\n",
       "      <td>35</td>\n",
       "      <td>37</td>\n",
       "      <td>0</td>\n",
       "      <td>38</td>\n",
       "      <td>37</td>\n",
       "      <td>0</td>\n",
       "      <td>38</td>\n",
       "      <td>37</td>\n",
       "      <td>0</td>\n",
       "      <td>38</td>\n",
       "    </tr>\n",
       "    <tr>\n",
       "      <th>19</th>\n",
       "      <td>36</td>\n",
       "      <td>0</td>\n",
       "      <td>38</td>\n",
       "      <td>0</td>\n",
       "      <td>37</td>\n",
       "      <td>39</td>\n",
       "      <td>0</td>\n",
       "      <td>40</td>\n",
       "      <td>39</td>\n",
       "      <td>0</td>\n",
       "      <td>40</td>\n",
       "      <td>39</td>\n",
       "      <td>0</td>\n",
       "      <td>40</td>\n",
       "    </tr>\n",
       "    <tr>\n",
       "      <th>20</th>\n",
       "      <td>38</td>\n",
       "      <td>0</td>\n",
       "      <td>40</td>\n",
       "      <td>0</td>\n",
       "      <td>39</td>\n",
       "      <td>41</td>\n",
       "      <td>0</td>\n",
       "      <td>42</td>\n",
       "      <td>41</td>\n",
       "      <td>0</td>\n",
       "      <td>42</td>\n",
       "      <td>41</td>\n",
       "      <td>0</td>\n",
       "      <td>42</td>\n",
       "    </tr>\n",
       "    <tr>\n",
       "      <th>21</th>\n",
       "      <td>40</td>\n",
       "      <td>0</td>\n",
       "      <td>42</td>\n",
       "      <td>0</td>\n",
       "      <td>41</td>\n",
       "      <td>43</td>\n",
       "      <td>0</td>\n",
       "      <td>44</td>\n",
       "      <td>43</td>\n",
       "      <td>0</td>\n",
       "      <td>44</td>\n",
       "      <td>43</td>\n",
       "      <td>0</td>\n",
       "      <td>44</td>\n",
       "    </tr>\n",
       "    <tr>\n",
       "      <th>22</th>\n",
       "      <td>42</td>\n",
       "      <td>0</td>\n",
       "      <td>44</td>\n",
       "      <td>0</td>\n",
       "      <td>43</td>\n",
       "      <td>0</td>\n",
       "      <td>0</td>\n",
       "      <td>0</td>\n",
       "      <td>0</td>\n",
       "      <td>0</td>\n",
       "      <td>0</td>\n",
       "      <td>0</td>\n",
       "      <td>0</td>\n",
       "      <td>0</td>\n",
       "    </tr>\n",
       "    <tr>\n",
       "      <th>23</th>\n",
       "      <td>44</td>\n",
       "      <td>0</td>\n",
       "      <td>0</td>\n",
       "      <td>0</td>\n",
       "      <td>0</td>\n",
       "      <td>0</td>\n",
       "      <td>0</td>\n",
       "      <td>0</td>\n",
       "      <td>0</td>\n",
       "      <td>0</td>\n",
       "      <td>0</td>\n",
       "      <td>0</td>\n",
       "      <td>0</td>\n",
       "      <td>0</td>\n",
       "    </tr>\n",
       "    <tr>\n",
       "      <th>24</th>\n",
       "      <td>46</td>\n",
       "      <td>0</td>\n",
       "      <td>0</td>\n",
       "      <td>0</td>\n",
       "      <td>0</td>\n",
       "      <td>0</td>\n",
       "      <td>0</td>\n",
       "      <td>0</td>\n",
       "      <td>0</td>\n",
       "      <td>0</td>\n",
       "      <td>0</td>\n",
       "      <td>0</td>\n",
       "      <td>0</td>\n",
       "      <td>0</td>\n",
       "    </tr>\n",
       "    <tr>\n",
       "      <th>25</th>\n",
       "      <td>48</td>\n",
       "      <td>0</td>\n",
       "      <td>0</td>\n",
       "      <td>0</td>\n",
       "      <td>0</td>\n",
       "      <td>0</td>\n",
       "      <td>0</td>\n",
       "      <td>0</td>\n",
       "      <td>0</td>\n",
       "      <td>0</td>\n",
       "      <td>0</td>\n",
       "      <td>0</td>\n",
       "      <td>0</td>\n",
       "      <td>0</td>\n",
       "    </tr>\n",
       "    <tr>\n",
       "      <th>26</th>\n",
       "      <td>50</td>\n",
       "      <td>0</td>\n",
       "      <td>0</td>\n",
       "      <td>0</td>\n",
       "      <td>0</td>\n",
       "      <td>0</td>\n",
       "      <td>0</td>\n",
       "      <td>0</td>\n",
       "      <td>0</td>\n",
       "      <td>0</td>\n",
       "      <td>0</td>\n",
       "      <td>0</td>\n",
       "      <td>0</td>\n",
       "      <td>0</td>\n",
       "    </tr>\n",
       "    <tr>\n",
       "      <th>27</th>\n",
       "      <td>52</td>\n",
       "      <td>0</td>\n",
       "      <td>0</td>\n",
       "      <td>0</td>\n",
       "      <td>0</td>\n",
       "      <td>0</td>\n",
       "      <td>0</td>\n",
       "      <td>0</td>\n",
       "      <td>0</td>\n",
       "      <td>0</td>\n",
       "      <td>0</td>\n",
       "      <td>0</td>\n",
       "      <td>0</td>\n",
       "      <td>0</td>\n",
       "    </tr>\n",
       "    <tr>\n",
       "      <th>28</th>\n",
       "      <td>54</td>\n",
       "      <td>0</td>\n",
       "      <td>0</td>\n",
       "      <td>0</td>\n",
       "      <td>0</td>\n",
       "      <td>0</td>\n",
       "      <td>0</td>\n",
       "      <td>0</td>\n",
       "      <td>0</td>\n",
       "      <td>0</td>\n",
       "      <td>0</td>\n",
       "      <td>0</td>\n",
       "      <td>0</td>\n",
       "      <td>0</td>\n",
       "    </tr>\n",
       "    <tr>\n",
       "      <th>29</th>\n",
       "      <td>56</td>\n",
       "      <td>0</td>\n",
       "      <td>0</td>\n",
       "      <td>0</td>\n",
       "      <td>0</td>\n",
       "      <td>0</td>\n",
       "      <td>0</td>\n",
       "      <td>0</td>\n",
       "      <td>0</td>\n",
       "      <td>0</td>\n",
       "      <td>0</td>\n",
       "      <td>0</td>\n",
       "      <td>0</td>\n",
       "      <td>0</td>\n",
       "    </tr>\n",
       "    <tr>\n",
       "      <th>30</th>\n",
       "      <td>58</td>\n",
       "      <td>0</td>\n",
       "      <td>0</td>\n",
       "      <td>0</td>\n",
       "      <td>0</td>\n",
       "      <td>0</td>\n",
       "      <td>0</td>\n",
       "      <td>0</td>\n",
       "      <td>0</td>\n",
       "      <td>0</td>\n",
       "      <td>0</td>\n",
       "      <td>0</td>\n",
       "      <td>0</td>\n",
       "      <td>0</td>\n",
       "    </tr>\n",
       "    <tr>\n",
       "      <th>31</th>\n",
       "      <td>60</td>\n",
       "      <td>0</td>\n",
       "      <td>0</td>\n",
       "      <td>0</td>\n",
       "      <td>0</td>\n",
       "      <td>0</td>\n",
       "      <td>0</td>\n",
       "      <td>0</td>\n",
       "      <td>0</td>\n",
       "      <td>0</td>\n",
       "      <td>0</td>\n",
       "      <td>0</td>\n",
       "      <td>0</td>\n",
       "      <td>0</td>\n",
       "    </tr>\n",
       "    <tr>\n",
       "      <th>32</th>\n",
       "      <td>62</td>\n",
       "      <td>0</td>\n",
       "      <td>0</td>\n",
       "      <td>0</td>\n",
       "      <td>0</td>\n",
       "      <td>0</td>\n",
       "      <td>0</td>\n",
       "      <td>0</td>\n",
       "      <td>0</td>\n",
       "      <td>0</td>\n",
       "      <td>0</td>\n",
       "      <td>0</td>\n",
       "      <td>0</td>\n",
       "      <td>0</td>\n",
       "    </tr>\n",
       "    <tr>\n",
       "      <th>33</th>\n",
       "      <td>64</td>\n",
       "      <td>0</td>\n",
       "      <td>0</td>\n",
       "      <td>0</td>\n",
       "      <td>0</td>\n",
       "      <td>0</td>\n",
       "      <td>0</td>\n",
       "      <td>0</td>\n",
       "      <td>0</td>\n",
       "      <td>0</td>\n",
       "      <td>0</td>\n",
       "      <td>0</td>\n",
       "      <td>0</td>\n",
       "      <td>0</td>\n",
       "    </tr>\n",
       "    <tr>\n",
       "      <th>34</th>\n",
       "      <td>66</td>\n",
       "      <td>0</td>\n",
       "      <td>0</td>\n",
       "      <td>0</td>\n",
       "      <td>0</td>\n",
       "      <td>0</td>\n",
       "      <td>0</td>\n",
       "      <td>0</td>\n",
       "      <td>0</td>\n",
       "      <td>0</td>\n",
       "      <td>0</td>\n",
       "      <td>0</td>\n",
       "      <td>0</td>\n",
       "      <td>0</td>\n",
       "    </tr>\n",
       "    <tr>\n",
       "      <th>35</th>\n",
       "      <td>68</td>\n",
       "      <td>0</td>\n",
       "      <td>0</td>\n",
       "      <td>0</td>\n",
       "      <td>0</td>\n",
       "      <td>0</td>\n",
       "      <td>0</td>\n",
       "      <td>0</td>\n",
       "      <td>0</td>\n",
       "      <td>0</td>\n",
       "      <td>0</td>\n",
       "      <td>0</td>\n",
       "      <td>0</td>\n",
       "      <td>0</td>\n",
       "    </tr>\n",
       "  </tbody>\n",
       "</table>\n",
       "</div>"
      ],
      "text/plain": [
       "    10 e 12 Par  Rua 10 e 12  14 Par  Rua 14 e 15  15 Impar  16 Impar  Rua 16  \\\n",
       "0             0            0       0            0         0         1       0   \n",
       "1             0            0       2            0         0         3       0   \n",
       "2             2            0       4            0         3         5       0   \n",
       "3             4            0       6            0         5         7       0   \n",
       "4             6            0       8            0         7         9       0   \n",
       "5             8            0      10            0         9        11       0   \n",
       "6            10            0      12            0        11        13       0   \n",
       "7            12            0      14            0        13        15       0   \n",
       "8            14            0      16            0        15        17       0   \n",
       "9            16            0      18            0        17        19       0   \n",
       "10           18            0      20            0        19        21       0   \n",
       "11           20            0      22            0        21        23       0   \n",
       "12           22            0      24            0        23        25       0   \n",
       "13           24            0      26            0        25        27       0   \n",
       "14           26            0      28            0        27        29       0   \n",
       "15           28            0      30            0        29        31       0   \n",
       "16           30            0      32            0        31        33       0   \n",
       "17           32            0      34            0        33        35       0   \n",
       "18           34            0      36            0        35        37       0   \n",
       "19           36            0      38            0        37        39       0   \n",
       "20           38            0      40            0        39        41       0   \n",
       "21           40            0      42            0        41        43       0   \n",
       "22           42            0      44            0        43         0       0   \n",
       "23           44            0       0            0         0         0       0   \n",
       "24           46            0       0            0         0         0       0   \n",
       "25           48            0       0            0         0         0       0   \n",
       "26           50            0       0            0         0         0       0   \n",
       "27           52            0       0            0         0         0       0   \n",
       "28           54            0       0            0         0         0       0   \n",
       "29           56            0       0            0         0         0       0   \n",
       "30           58            0       0            0         0         0       0   \n",
       "31           60            0       0            0         0         0       0   \n",
       "32           62            0       0            0         0         0       0   \n",
       "33           64            0       0            0         0         0       0   \n",
       "34           66            0       0            0         0         0       0   \n",
       "35           68            0       0            0         0         0       0   \n",
       "\n",
       "    16 Par  17 Impar  Rua 17  17 Par  18 Impar  Rua 18  18 Par  \n",
       "0        2         1       0       2         1       0       2  \n",
       "1        4         3       0       4         3       0       4  \n",
       "2        6         5       0       6         5       0       6  \n",
       "3        8         7       0       8         7       0       8  \n",
       "4       10         9       0      10         9       0      10  \n",
       "5       12        11       0      12        11       0      12  \n",
       "6       14        13       0      14        13       0      14  \n",
       "7       16        15       0      16        15       0      16  \n",
       "8       18        17       0      18        17       0      18  \n",
       "9       20        19       0      20        19       0      20  \n",
       "10      22        21       0      22        21       0      22  \n",
       "11      24        23       0      24        23       0      24  \n",
       "12      26        25       0      26        25       0      26  \n",
       "13      28        27       0      28        27       0      28  \n",
       "14      30        29       0      30        29       0      30  \n",
       "15      32        31       0      32        31       0      32  \n",
       "16      34        33       0      34        33       0      34  \n",
       "17      36        35       0      36        35       0      36  \n",
       "18      38        37       0      38        37       0      38  \n",
       "19      40        39       0      40        39       0      40  \n",
       "20      42        41       0      42        41       0      42  \n",
       "21      44        43       0      44        43       0      44  \n",
       "22       0         0       0       0         0       0       0  \n",
       "23       0         0       0       0         0       0       0  \n",
       "24       0         0       0       0         0       0       0  \n",
       "25       0         0       0       0         0       0       0  \n",
       "26       0         0       0       0         0       0       0  \n",
       "27       0         0       0       0         0       0       0  \n",
       "28       0         0       0       0         0       0       0  \n",
       "29       0         0       0       0         0       0       0  \n",
       "30       0         0       0       0         0       0       0  \n",
       "31       0         0       0       0         0       0       0  \n",
       "32       0         0       0       0         0       0       0  \n",
       "33       0         0       0       0         0       0       0  \n",
       "34       0         0       0       0         0       0       0  \n",
       "35       0         0       0       0         0       0       0  "
      ]
     },
     "execution_count": 511,
     "metadata": {},
     "output_type": "execute_result"
    }
   ],
   "source": [
    "mapa = pd.read_excel(r'..\\mapa_orientacao.xlsx')\n",
    "mapa"
   ]
  },
  {
   "cell_type": "code",
   "execution_count": 512,
   "metadata": {},
   "outputs": [
    {
     "data": {
      "application/vnd.plotly.v1+json": {
       "config": {
        "plotlyServerURL": "https://plot.ly"
       },
       "data": [
        {
         "coloraxis": "coloraxis",
         "hovertemplate": "x: %{x}<br>y: %{y}<br>color: %{z}<extra></extra>",
         "name": "0",
         "type": "heatmap",
         "x": [
          "10 e 12 Par",
          "Rua 10 e 12",
          "14 Par",
          "Rua 14 e 15",
          "15 Impar",
          "16 Impar",
          "Rua 16",
          "16 Par",
          "17 Impar",
          "Rua 17",
          "17 Par",
          "18 Impar",
          "Rua 18",
          "18 Par"
         ],
         "xaxis": "x",
         "y": [
          0,
          1,
          2,
          3,
          4,
          5,
          6,
          7,
          8,
          9,
          10,
          11,
          12,
          13,
          14,
          15,
          16,
          17,
          18,
          19,
          20,
          21,
          22,
          23,
          24,
          25,
          26,
          27,
          28,
          29,
          30,
          31,
          32,
          33,
          34,
          35
         ],
         "yaxis": "y",
         "z": [
          [
           0,
           0,
           0,
           0,
           0,
           1,
           0,
           2,
           1,
           0,
           2,
           1,
           0,
           2
          ],
          [
           0,
           0,
           2,
           0,
           0,
           3,
           0,
           4,
           3,
           0,
           4,
           3,
           0,
           4
          ],
          [
           2,
           0,
           4,
           0,
           3,
           5,
           0,
           6,
           5,
           0,
           6,
           5,
           0,
           6
          ],
          [
           4,
           0,
           6,
           0,
           5,
           7,
           0,
           8,
           7,
           0,
           8,
           7,
           0,
           8
          ],
          [
           6,
           0,
           8,
           0,
           7,
           9,
           0,
           10,
           9,
           0,
           10,
           9,
           0,
           10
          ],
          [
           8,
           0,
           10,
           0,
           9,
           11,
           0,
           12,
           11,
           0,
           12,
           11,
           0,
           12
          ],
          [
           10,
           0,
           12,
           0,
           11,
           13,
           0,
           14,
           13,
           0,
           14,
           13,
           0,
           14
          ],
          [
           12,
           0,
           14,
           0,
           13,
           15,
           0,
           16,
           15,
           0,
           16,
           15,
           0,
           16
          ],
          [
           14,
           0,
           16,
           0,
           15,
           17,
           0,
           18,
           17,
           0,
           18,
           17,
           0,
           18
          ],
          [
           16,
           0,
           18,
           0,
           17,
           19,
           0,
           20,
           19,
           0,
           20,
           19,
           0,
           20
          ],
          [
           18,
           0,
           20,
           0,
           19,
           21,
           0,
           22,
           21,
           0,
           22,
           21,
           0,
           22
          ],
          [
           20,
           0,
           22,
           0,
           21,
           23,
           0,
           24,
           23,
           0,
           24,
           23,
           0,
           24
          ],
          [
           22,
           0,
           24,
           0,
           23,
           25,
           0,
           26,
           25,
           0,
           26,
           25,
           0,
           26
          ],
          [
           24,
           0,
           26,
           0,
           25,
           27,
           0,
           28,
           27,
           0,
           28,
           27,
           0,
           28
          ],
          [
           26,
           0,
           28,
           0,
           27,
           29,
           0,
           30,
           29,
           0,
           30,
           29,
           0,
           30
          ],
          [
           28,
           0,
           30,
           0,
           29,
           31,
           0,
           32,
           31,
           0,
           32,
           31,
           0,
           32
          ],
          [
           30,
           0,
           32,
           0,
           31,
           33,
           0,
           34,
           33,
           0,
           34,
           33,
           0,
           34
          ],
          [
           32,
           0,
           34,
           0,
           33,
           35,
           0,
           36,
           35,
           0,
           36,
           35,
           0,
           36
          ],
          [
           34,
           0,
           36,
           0,
           35,
           37,
           0,
           38,
           37,
           0,
           38,
           37,
           0,
           38
          ],
          [
           36,
           0,
           38,
           0,
           37,
           39,
           0,
           40,
           39,
           0,
           40,
           39,
           0,
           40
          ],
          [
           38,
           0,
           40,
           0,
           39,
           41,
           0,
           42,
           41,
           0,
           42,
           41,
           0,
           42
          ],
          [
           40,
           0,
           42,
           0,
           41,
           43,
           0,
           44,
           43,
           0,
           44,
           43,
           0,
           44
          ],
          [
           42,
           0,
           44,
           0,
           43,
           0,
           0,
           0,
           0,
           0,
           0,
           0,
           0,
           0
          ],
          [
           44,
           0,
           0,
           0,
           0,
           0,
           0,
           0,
           0,
           0,
           0,
           0,
           0,
           0
          ],
          [
           46,
           0,
           0,
           0,
           0,
           0,
           0,
           0,
           0,
           0,
           0,
           0,
           0,
           0
          ],
          [
           48,
           0,
           0,
           0,
           0,
           0,
           0,
           0,
           0,
           0,
           0,
           0,
           0,
           0
          ],
          [
           50,
           0,
           0,
           0,
           0,
           0,
           0,
           0,
           0,
           0,
           0,
           0,
           0,
           0
          ],
          [
           52,
           0,
           0,
           0,
           0,
           0,
           0,
           0,
           0,
           0,
           0,
           0,
           0,
           0
          ],
          [
           54,
           0,
           0,
           0,
           0,
           0,
           0,
           0,
           0,
           0,
           0,
           0,
           0,
           0
          ],
          [
           56,
           0,
           0,
           0,
           0,
           0,
           0,
           0,
           0,
           0,
           0,
           0,
           0,
           0
          ],
          [
           58,
           0,
           0,
           0,
           0,
           0,
           0,
           0,
           0,
           0,
           0,
           0,
           0,
           0
          ],
          [
           60,
           0,
           0,
           0,
           0,
           0,
           0,
           0,
           0,
           0,
           0,
           0,
           0,
           0
          ],
          [
           62,
           0,
           0,
           0,
           0,
           0,
           0,
           0,
           0,
           0,
           0,
           0,
           0,
           0
          ],
          [
           64,
           0,
           0,
           0,
           0,
           0,
           0,
           0,
           0,
           0,
           0,
           0,
           0,
           0
          ],
          [
           66,
           0,
           0,
           0,
           0,
           0,
           0,
           0,
           0,
           0,
           0,
           0,
           0,
           0
          ],
          [
           68,
           0,
           0,
           0,
           0,
           0,
           0,
           0,
           0,
           0,
           0,
           0,
           0,
           0
          ]
         ]
        }
       ],
       "layout": {
        "coloraxis": {
         "colorscale": [
          [
           0,
           "#0d0887"
          ],
          [
           0.1111111111111111,
           "#46039f"
          ],
          [
           0.2222222222222222,
           "#7201a8"
          ],
          [
           0.3333333333333333,
           "#9c179e"
          ],
          [
           0.4444444444444444,
           "#bd3786"
          ],
          [
           0.5555555555555556,
           "#d8576b"
          ],
          [
           0.6666666666666666,
           "#ed7953"
          ],
          [
           0.7777777777777778,
           "#fb9f3a"
          ],
          [
           0.8888888888888888,
           "#fdca26"
          ],
          [
           1,
           "#f0f921"
          ]
         ]
        },
        "margin": {
         "t": 60
        },
        "template": {
         "data": {
          "bar": [
           {
            "error_x": {
             "color": "#2a3f5f"
            },
            "error_y": {
             "color": "#2a3f5f"
            },
            "marker": {
             "line": {
              "color": "#E5ECF6",
              "width": 0.5
             },
             "pattern": {
              "fillmode": "overlay",
              "size": 10,
              "solidity": 0.2
             }
            },
            "type": "bar"
           }
          ],
          "barpolar": [
           {
            "marker": {
             "line": {
              "color": "#E5ECF6",
              "width": 0.5
             },
             "pattern": {
              "fillmode": "overlay",
              "size": 10,
              "solidity": 0.2
             }
            },
            "type": "barpolar"
           }
          ],
          "carpet": [
           {
            "aaxis": {
             "endlinecolor": "#2a3f5f",
             "gridcolor": "white",
             "linecolor": "white",
             "minorgridcolor": "white",
             "startlinecolor": "#2a3f5f"
            },
            "baxis": {
             "endlinecolor": "#2a3f5f",
             "gridcolor": "white",
             "linecolor": "white",
             "minorgridcolor": "white",
             "startlinecolor": "#2a3f5f"
            },
            "type": "carpet"
           }
          ],
          "choropleth": [
           {
            "colorbar": {
             "outlinewidth": 0,
             "ticks": ""
            },
            "type": "choropleth"
           }
          ],
          "contour": [
           {
            "colorbar": {
             "outlinewidth": 0,
             "ticks": ""
            },
            "colorscale": [
             [
              0,
              "#0d0887"
             ],
             [
              0.1111111111111111,
              "#46039f"
             ],
             [
              0.2222222222222222,
              "#7201a8"
             ],
             [
              0.3333333333333333,
              "#9c179e"
             ],
             [
              0.4444444444444444,
              "#bd3786"
             ],
             [
              0.5555555555555556,
              "#d8576b"
             ],
             [
              0.6666666666666666,
              "#ed7953"
             ],
             [
              0.7777777777777778,
              "#fb9f3a"
             ],
             [
              0.8888888888888888,
              "#fdca26"
             ],
             [
              1,
              "#f0f921"
             ]
            ],
            "type": "contour"
           }
          ],
          "contourcarpet": [
           {
            "colorbar": {
             "outlinewidth": 0,
             "ticks": ""
            },
            "type": "contourcarpet"
           }
          ],
          "heatmap": [
           {
            "colorbar": {
             "outlinewidth": 0,
             "ticks": ""
            },
            "colorscale": [
             [
              0,
              "#0d0887"
             ],
             [
              0.1111111111111111,
              "#46039f"
             ],
             [
              0.2222222222222222,
              "#7201a8"
             ],
             [
              0.3333333333333333,
              "#9c179e"
             ],
             [
              0.4444444444444444,
              "#bd3786"
             ],
             [
              0.5555555555555556,
              "#d8576b"
             ],
             [
              0.6666666666666666,
              "#ed7953"
             ],
             [
              0.7777777777777778,
              "#fb9f3a"
             ],
             [
              0.8888888888888888,
              "#fdca26"
             ],
             [
              1,
              "#f0f921"
             ]
            ],
            "type": "heatmap"
           }
          ],
          "heatmapgl": [
           {
            "colorbar": {
             "outlinewidth": 0,
             "ticks": ""
            },
            "colorscale": [
             [
              0,
              "#0d0887"
             ],
             [
              0.1111111111111111,
              "#46039f"
             ],
             [
              0.2222222222222222,
              "#7201a8"
             ],
             [
              0.3333333333333333,
              "#9c179e"
             ],
             [
              0.4444444444444444,
              "#bd3786"
             ],
             [
              0.5555555555555556,
              "#d8576b"
             ],
             [
              0.6666666666666666,
              "#ed7953"
             ],
             [
              0.7777777777777778,
              "#fb9f3a"
             ],
             [
              0.8888888888888888,
              "#fdca26"
             ],
             [
              1,
              "#f0f921"
             ]
            ],
            "type": "heatmapgl"
           }
          ],
          "histogram": [
           {
            "marker": {
             "pattern": {
              "fillmode": "overlay",
              "size": 10,
              "solidity": 0.2
             }
            },
            "type": "histogram"
           }
          ],
          "histogram2d": [
           {
            "colorbar": {
             "outlinewidth": 0,
             "ticks": ""
            },
            "colorscale": [
             [
              0,
              "#0d0887"
             ],
             [
              0.1111111111111111,
              "#46039f"
             ],
             [
              0.2222222222222222,
              "#7201a8"
             ],
             [
              0.3333333333333333,
              "#9c179e"
             ],
             [
              0.4444444444444444,
              "#bd3786"
             ],
             [
              0.5555555555555556,
              "#d8576b"
             ],
             [
              0.6666666666666666,
              "#ed7953"
             ],
             [
              0.7777777777777778,
              "#fb9f3a"
             ],
             [
              0.8888888888888888,
              "#fdca26"
             ],
             [
              1,
              "#f0f921"
             ]
            ],
            "type": "histogram2d"
           }
          ],
          "histogram2dcontour": [
           {
            "colorbar": {
             "outlinewidth": 0,
             "ticks": ""
            },
            "colorscale": [
             [
              0,
              "#0d0887"
             ],
             [
              0.1111111111111111,
              "#46039f"
             ],
             [
              0.2222222222222222,
              "#7201a8"
             ],
             [
              0.3333333333333333,
              "#9c179e"
             ],
             [
              0.4444444444444444,
              "#bd3786"
             ],
             [
              0.5555555555555556,
              "#d8576b"
             ],
             [
              0.6666666666666666,
              "#ed7953"
             ],
             [
              0.7777777777777778,
              "#fb9f3a"
             ],
             [
              0.8888888888888888,
              "#fdca26"
             ],
             [
              1,
              "#f0f921"
             ]
            ],
            "type": "histogram2dcontour"
           }
          ],
          "mesh3d": [
           {
            "colorbar": {
             "outlinewidth": 0,
             "ticks": ""
            },
            "type": "mesh3d"
           }
          ],
          "parcoords": [
           {
            "line": {
             "colorbar": {
              "outlinewidth": 0,
              "ticks": ""
             }
            },
            "type": "parcoords"
           }
          ],
          "pie": [
           {
            "automargin": true,
            "type": "pie"
           }
          ],
          "scatter": [
           {
            "fillpattern": {
             "fillmode": "overlay",
             "size": 10,
             "solidity": 0.2
            },
            "type": "scatter"
           }
          ],
          "scatter3d": [
           {
            "line": {
             "colorbar": {
              "outlinewidth": 0,
              "ticks": ""
             }
            },
            "marker": {
             "colorbar": {
              "outlinewidth": 0,
              "ticks": ""
             }
            },
            "type": "scatter3d"
           }
          ],
          "scattercarpet": [
           {
            "marker": {
             "colorbar": {
              "outlinewidth": 0,
              "ticks": ""
             }
            },
            "type": "scattercarpet"
           }
          ],
          "scattergeo": [
           {
            "marker": {
             "colorbar": {
              "outlinewidth": 0,
              "ticks": ""
             }
            },
            "type": "scattergeo"
           }
          ],
          "scattergl": [
           {
            "marker": {
             "colorbar": {
              "outlinewidth": 0,
              "ticks": ""
             }
            },
            "type": "scattergl"
           }
          ],
          "scattermapbox": [
           {
            "marker": {
             "colorbar": {
              "outlinewidth": 0,
              "ticks": ""
             }
            },
            "type": "scattermapbox"
           }
          ],
          "scatterpolar": [
           {
            "marker": {
             "colorbar": {
              "outlinewidth": 0,
              "ticks": ""
             }
            },
            "type": "scatterpolar"
           }
          ],
          "scatterpolargl": [
           {
            "marker": {
             "colorbar": {
              "outlinewidth": 0,
              "ticks": ""
             }
            },
            "type": "scatterpolargl"
           }
          ],
          "scatterternary": [
           {
            "marker": {
             "colorbar": {
              "outlinewidth": 0,
              "ticks": ""
             }
            },
            "type": "scatterternary"
           }
          ],
          "surface": [
           {
            "colorbar": {
             "outlinewidth": 0,
             "ticks": ""
            },
            "colorscale": [
             [
              0,
              "#0d0887"
             ],
             [
              0.1111111111111111,
              "#46039f"
             ],
             [
              0.2222222222222222,
              "#7201a8"
             ],
             [
              0.3333333333333333,
              "#9c179e"
             ],
             [
              0.4444444444444444,
              "#bd3786"
             ],
             [
              0.5555555555555556,
              "#d8576b"
             ],
             [
              0.6666666666666666,
              "#ed7953"
             ],
             [
              0.7777777777777778,
              "#fb9f3a"
             ],
             [
              0.8888888888888888,
              "#fdca26"
             ],
             [
              1,
              "#f0f921"
             ]
            ],
            "type": "surface"
           }
          ],
          "table": [
           {
            "cells": {
             "fill": {
              "color": "#EBF0F8"
             },
             "line": {
              "color": "white"
             }
            },
            "header": {
             "fill": {
              "color": "#C8D4E3"
             },
             "line": {
              "color": "white"
             }
            },
            "type": "table"
           }
          ]
         },
         "layout": {
          "annotationdefaults": {
           "arrowcolor": "#2a3f5f",
           "arrowhead": 0,
           "arrowwidth": 1
          },
          "autotypenumbers": "strict",
          "coloraxis": {
           "colorbar": {
            "outlinewidth": 0,
            "ticks": ""
           }
          },
          "colorscale": {
           "diverging": [
            [
             0,
             "#8e0152"
            ],
            [
             0.1,
             "#c51b7d"
            ],
            [
             0.2,
             "#de77ae"
            ],
            [
             0.3,
             "#f1b6da"
            ],
            [
             0.4,
             "#fde0ef"
            ],
            [
             0.5,
             "#f7f7f7"
            ],
            [
             0.6,
             "#e6f5d0"
            ],
            [
             0.7,
             "#b8e186"
            ],
            [
             0.8,
             "#7fbc41"
            ],
            [
             0.9,
             "#4d9221"
            ],
            [
             1,
             "#276419"
            ]
           ],
           "sequential": [
            [
             0,
             "#0d0887"
            ],
            [
             0.1111111111111111,
             "#46039f"
            ],
            [
             0.2222222222222222,
             "#7201a8"
            ],
            [
             0.3333333333333333,
             "#9c179e"
            ],
            [
             0.4444444444444444,
             "#bd3786"
            ],
            [
             0.5555555555555556,
             "#d8576b"
            ],
            [
             0.6666666666666666,
             "#ed7953"
            ],
            [
             0.7777777777777778,
             "#fb9f3a"
            ],
            [
             0.8888888888888888,
             "#fdca26"
            ],
            [
             1,
             "#f0f921"
            ]
           ],
           "sequentialminus": [
            [
             0,
             "#0d0887"
            ],
            [
             0.1111111111111111,
             "#46039f"
            ],
            [
             0.2222222222222222,
             "#7201a8"
            ],
            [
             0.3333333333333333,
             "#9c179e"
            ],
            [
             0.4444444444444444,
             "#bd3786"
            ],
            [
             0.5555555555555556,
             "#d8576b"
            ],
            [
             0.6666666666666666,
             "#ed7953"
            ],
            [
             0.7777777777777778,
             "#fb9f3a"
            ],
            [
             0.8888888888888888,
             "#fdca26"
            ],
            [
             1,
             "#f0f921"
            ]
           ]
          },
          "colorway": [
           "#636efa",
           "#EF553B",
           "#00cc96",
           "#ab63fa",
           "#FFA15A",
           "#19d3f3",
           "#FF6692",
           "#B6E880",
           "#FF97FF",
           "#FECB52"
          ],
          "font": {
           "color": "#2a3f5f"
          },
          "geo": {
           "bgcolor": "white",
           "lakecolor": "white",
           "landcolor": "#E5ECF6",
           "showlakes": true,
           "showland": true,
           "subunitcolor": "white"
          },
          "hoverlabel": {
           "align": "left"
          },
          "hovermode": "closest",
          "mapbox": {
           "style": "light"
          },
          "paper_bgcolor": "white",
          "plot_bgcolor": "#E5ECF6",
          "polar": {
           "angularaxis": {
            "gridcolor": "white",
            "linecolor": "white",
            "ticks": ""
           },
           "bgcolor": "#E5ECF6",
           "radialaxis": {
            "gridcolor": "white",
            "linecolor": "white",
            "ticks": ""
           }
          },
          "scene": {
           "xaxis": {
            "backgroundcolor": "#E5ECF6",
            "gridcolor": "white",
            "gridwidth": 2,
            "linecolor": "white",
            "showbackground": true,
            "ticks": "",
            "zerolinecolor": "white"
           },
           "yaxis": {
            "backgroundcolor": "#E5ECF6",
            "gridcolor": "white",
            "gridwidth": 2,
            "linecolor": "white",
            "showbackground": true,
            "ticks": "",
            "zerolinecolor": "white"
           },
           "zaxis": {
            "backgroundcolor": "#E5ECF6",
            "gridcolor": "white",
            "gridwidth": 2,
            "linecolor": "white",
            "showbackground": true,
            "ticks": "",
            "zerolinecolor": "white"
           }
          },
          "shapedefaults": {
           "line": {
            "color": "#2a3f5f"
           }
          },
          "ternary": {
           "aaxis": {
            "gridcolor": "white",
            "linecolor": "white",
            "ticks": ""
           },
           "baxis": {
            "gridcolor": "white",
            "linecolor": "white",
            "ticks": ""
           },
           "bgcolor": "#E5ECF6",
           "caxis": {
            "gridcolor": "white",
            "linecolor": "white",
            "ticks": ""
           }
          },
          "title": {
           "x": 0.05
          },
          "xaxis": {
           "automargin": true,
           "gridcolor": "white",
           "linecolor": "white",
           "ticks": "",
           "title": {
            "standoff": 15
           },
           "zerolinecolor": "white",
           "zerolinewidth": 2
          },
          "yaxis": {
           "automargin": true,
           "gridcolor": "white",
           "linecolor": "white",
           "ticks": "",
           "title": {
            "standoff": 15
           },
           "zerolinecolor": "white",
           "zerolinewidth": 2
          }
         }
        },
        "xaxis": {
         "anchor": "y",
         "constrain": "domain",
         "domain": [
          0,
          1
         ],
         "scaleanchor": "y",
         "side": "top"
        },
        "yaxis": {
         "anchor": "x",
         "autorange": "reversed",
         "constrain": "domain",
         "domain": [
          0,
          1
         ]
        }
       }
      }
     },
     "metadata": {},
     "output_type": "display_data"
    }
   ],
   "source": [
    "fig = px.imshow(mapa)\n",
    "fig.update_xaxes(side=\"top\")\n",
    "\n",
    "fig.show()"
   ]
  },
  {
   "cell_type": "code",
   "execution_count": null,
   "metadata": {},
   "outputs": [],
   "source": []
  }
 ],
 "metadata": {
  "kernelspec": {
   "display_name": "Python 3",
   "language": "python",
   "name": "python3"
  },
  "language_info": {
   "codemirror_mode": {
    "name": "ipython",
    "version": 3
   },
   "file_extension": ".py",
   "mimetype": "text/x-python",
   "name": "python",
   "nbconvert_exporter": "python",
   "pygments_lexer": "ipython3",
   "version": "3.11.7"
  }
 },
 "nbformat": 4,
 "nbformat_minor": 2
}
