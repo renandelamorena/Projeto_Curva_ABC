{
 "cells": [
  {
   "cell_type": "code",
   "execution_count": 42,
   "metadata": {},
   "outputs": [],
   "source": [
    "import pandas as pd\n",
    "\n",
    "pd.set_option('display.max_columns', None)"
   ]
  },
  {
   "cell_type": "code",
   "execution_count": 10,
   "metadata": {},
   "outputs": [],
   "source": [
    "situacao_final = pd.read_excel(r'..\\tratamento_curva_abc\\dados_tratados\\situacao_final.xlsx').set_index('Ordem')"
   ]
  },
  {
   "cell_type": "code",
   "execution_count": 52,
   "metadata": {},
   "outputs": [],
   "source": [
    "selecao_curva_bc_frac_errado = (situacao_final['Tipo'] == 'Flowrack') & \\\n",
    "                               (situacao_final['Curva Frac'].isin(['B', 'C'])) & \\\n",
    "                               (situacao_final['Ender.Fracionado'] > 18.000) & \\\n",
    "                               (situacao_final['Ender.Fracionado'] != 9010.000)\n",
    "                       \n",
    "curva_bc_flowrack = situacao_final[selecao_curva_bc_frac_errado]\n",
    "curva_bc_flowrack = curva_bc_flowrack[['Código',\n",
    "                                        'Descrição',\n",
    "                                        'Curva Frac',\n",
    "                                        'Qtde Venda Frac',\n",
    "                                        'Dias Pedido Frac',\n",
    "                                        'Ativ.Ressupr.Frac',\n",
    "                                        'Estoque Frac',\n",
    "                                        'Embal.',\n",
    "                                        'Ender.Cx.Fechada',\n",
    "                                        'Ender.Fracionado',\n",
    "                                        ]]\n",
    "\n",
    "total_curva_bc_flowrack = curva_bc_flowrack.shape[0]"
   ]
  },
  {
   "cell_type": "code",
   "execution_count": 54,
   "metadata": {},
   "outputs": [
    {
     "data": {
      "text/plain": [
       "24"
      ]
     },
     "execution_count": 54,
     "metadata": {},
     "output_type": "execute_result"
    }
   ],
   "source": [
    "total_curva_bc_flowrack"
   ]
  },
  {
   "cell_type": "code",
   "execution_count": 55,
   "metadata": {},
   "outputs": [],
   "source": [
    "selecao_curva_a_frac_errado = (situacao_final['Tipo'] == 'Prateleira') & \\\n",
    "                               (situacao_final['Curva Frac'] == 'A') & \\\n",
    "                               (situacao_final['Ender.Fracionado'] > 18.000) & \\\n",
    "                               (situacao_final['Ender.Fracionado'] != 9010.000)\n",
    "                       \n",
    "curva_a_prateleira = situacao_final[selecao_curva_a_frac_errado]\n",
    "curva_a_prateleira = curva_a_prateleira[['Código',\n",
    "                                        'Descrição',\n",
    "                                        'Curva Frac',\n",
    "                                        'Qtde Venda Frac',\n",
    "                                        'Dias Pedido Frac',\n",
    "                                        'Ativ.Ressupr.Frac',\n",
    "                                        'Estoque Frac',\n",
    "                                        'Embal.',\n",
    "                                        'Ender.Cx.Fechada',\n",
    "                                        'Ender.Fracionado',\n",
    "                                        ]]\n",
    "\n",
    "total_curva_a_prateleira = curva_a_prateleira.shape[0]"
   ]
  },
  {
   "cell_type": "code",
   "execution_count": 56,
   "metadata": {},
   "outputs": [
    {
     "data": {
      "text/plain": [
       "83"
      ]
     },
     "execution_count": 56,
     "metadata": {},
     "output_type": "execute_result"
    }
   ],
   "source": [
    "total_curva_a_prateleira"
   ]
  },
  {
   "cell_type": "code",
   "execution_count": null,
   "metadata": {},
   "outputs": [],
   "source": []
  }
 ],
 "metadata": {
  "kernelspec": {
   "display_name": "Python 3",
   "language": "python",
   "name": "python3"
  },
  "language_info": {
   "codemirror_mode": {
    "name": "ipython",
    "version": 3
   },
   "file_extension": ".py",
   "mimetype": "text/x-python",
   "name": "python",
   "nbconvert_exporter": "python",
   "pygments_lexer": "ipython3",
   "version": "3.11.6"
  }
 },
 "nbformat": 4,
 "nbformat_minor": 2
}
