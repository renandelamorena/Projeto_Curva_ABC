{
 "cells": [
  {
   "cell_type": "code",
   "execution_count": 85,
   "id": "5d34c402",
   "metadata": {
    "scrolled": true
   },
   "outputs": [
    {
     "data": {
      "text/html": [
       "<div>\n",
       "<style scoped>\n",
       "    .dataframe tbody tr th:only-of-type {\n",
       "        vertical-align: middle;\n",
       "    }\n",
       "\n",
       "    .dataframe tbody tr th {\n",
       "        vertical-align: top;\n",
       "    }\n",
       "\n",
       "    .dataframe thead th {\n",
       "        text-align: right;\n",
       "    }\n",
       "</style>\n",
       "<table border=\"1\" class=\"dataframe\">\n",
       "  <thead>\n",
       "    <tr style=\"text-align: right;\">\n",
       "      <th></th>\n",
       "      <th>Ender.Cx.Fechada</th>\n",
       "    </tr>\n",
       "  </thead>\n",
       "  <tbody>\n",
       "    <tr>\n",
       "      <th>0</th>\n",
       "      <td>016-037-01-01</td>\n",
       "    </tr>\n",
       "    <tr>\n",
       "      <th>1</th>\n",
       "      <td>016-043-01-02</td>\n",
       "    </tr>\n",
       "    <tr>\n",
       "      <th>2</th>\n",
       "      <td>016-035-01-02</td>\n",
       "    </tr>\n",
       "    <tr>\n",
       "      <th>3</th>\n",
       "      <td>014-032-02-01</td>\n",
       "    </tr>\n",
       "    <tr>\n",
       "      <th>4</th>\n",
       "      <td>014-042-02-01</td>\n",
       "    </tr>\n",
       "    <tr>\n",
       "      <th>...</th>\n",
       "      <td>...</td>\n",
       "    </tr>\n",
       "    <tr>\n",
       "      <th>9297</th>\n",
       "      <td>018-001-01-02</td>\n",
       "    </tr>\n",
       "    <tr>\n",
       "      <th>9298</th>\n",
       "      <td>018-004-01-02</td>\n",
       "    </tr>\n",
       "    <tr>\n",
       "      <th>9299</th>\n",
       "      <td>018-001-01-01</td>\n",
       "    </tr>\n",
       "    <tr>\n",
       "      <th>9300</th>\n",
       "      <td>nan</td>\n",
       "    </tr>\n",
       "    <tr>\n",
       "      <th>9301</th>\n",
       "      <td>018-001-01-02</td>\n",
       "    </tr>\n",
       "  </tbody>\n",
       "</table>\n",
       "<p>9302 rows × 1 columns</p>\n",
       "</div>"
      ],
      "text/plain": [
       "     Ender.Cx.Fechada\n",
       "0       016-037-01-01\n",
       "1       016-043-01-02\n",
       "2       016-035-01-02\n",
       "3       014-032-02-01\n",
       "4       014-042-02-01\n",
       "...               ...\n",
       "9297    018-001-01-02\n",
       "9298    018-004-01-02\n",
       "9299    018-001-01-01\n",
       "9300              nan\n",
       "9301    018-001-01-02\n",
       "\n",
       "[9302 rows x 1 columns]"
      ]
     },
     "metadata": {},
     "output_type": "display_data"
    },
    {
     "data": {
      "text/html": [
       "<div>\n",
       "<style scoped>\n",
       "    .dataframe tbody tr th:only-of-type {\n",
       "        vertical-align: middle;\n",
       "    }\n",
       "\n",
       "    .dataframe tbody tr th {\n",
       "        vertical-align: top;\n",
       "    }\n",
       "\n",
       "    .dataframe thead th {\n",
       "        text-align: right;\n",
       "    }\n",
       "</style>\n",
       "<table border=\"1\" class=\"dataframe\">\n",
       "  <thead>\n",
       "    <tr style=\"text-align: right;\">\n",
       "      <th></th>\n",
       "      <th>Ender.Cx.Fechada</th>\n",
       "      <th>local</th>\n",
       "    </tr>\n",
       "  </thead>\n",
       "  <tbody>\n",
       "    <tr>\n",
       "      <th>0</th>\n",
       "      <td>014-006-01-01</td>\n",
       "      <td>Fech-A</td>\n",
       "    </tr>\n",
       "    <tr>\n",
       "      <th>1</th>\n",
       "      <td>014-006-01-02</td>\n",
       "      <td>Fech-A</td>\n",
       "    </tr>\n",
       "    <tr>\n",
       "      <th>2</th>\n",
       "      <td>014-008-01-01</td>\n",
       "      <td>Fech-A</td>\n",
       "    </tr>\n",
       "    <tr>\n",
       "      <th>3</th>\n",
       "      <td>014-008-01-02</td>\n",
       "      <td>Fech-A</td>\n",
       "    </tr>\n",
       "    <tr>\n",
       "      <th>4</th>\n",
       "      <td>014-010-01-01</td>\n",
       "      <td>Fech-A</td>\n",
       "    </tr>\n",
       "    <tr>\n",
       "      <th>...</th>\n",
       "      <td>...</td>\n",
       "      <td>...</td>\n",
       "    </tr>\n",
       "    <tr>\n",
       "      <th>415</th>\n",
       "      <td>016-026-01-02</td>\n",
       "      <td>Antibiotico</td>\n",
       "    </tr>\n",
       "    <tr>\n",
       "      <th>416</th>\n",
       "      <td>016-028-01-01</td>\n",
       "      <td>Antibiotico</td>\n",
       "    </tr>\n",
       "    <tr>\n",
       "      <th>417</th>\n",
       "      <td>016-028-01-02</td>\n",
       "      <td>Antibiotico</td>\n",
       "    </tr>\n",
       "    <tr>\n",
       "      <th>418</th>\n",
       "      <td>016-030-01-01</td>\n",
       "      <td>Antibiotico</td>\n",
       "    </tr>\n",
       "    <tr>\n",
       "      <th>419</th>\n",
       "      <td>016-030-01-02</td>\n",
       "      <td>Antibiotico</td>\n",
       "    </tr>\n",
       "  </tbody>\n",
       "</table>\n",
       "<p>420 rows × 2 columns</p>\n",
       "</div>"
      ],
      "text/plain": [
       "    Ender.Cx.Fechada        local\n",
       "0      014-006-01-01       Fech-A\n",
       "1      014-006-01-02       Fech-A\n",
       "2      014-008-01-01       Fech-A\n",
       "3      014-008-01-02       Fech-A\n",
       "4      014-010-01-01       Fech-A\n",
       "..               ...          ...\n",
       "415    016-026-01-02  Antibiotico\n",
       "416    016-028-01-01  Antibiotico\n",
       "417    016-028-01-02  Antibiotico\n",
       "418    016-030-01-01  Antibiotico\n",
       "419    016-030-01-02  Antibiotico\n",
       "\n",
       "[420 rows x 2 columns]"
      ]
     },
     "metadata": {},
     "output_type": "display_data"
    }
   ],
   "source": [
    "import pandas as pd\n",
    "\n",
    "curva_geral = pd.read_excel('dados_tratados/curva_abc_geral.xlsx')\n",
    "enderecos = curva_geral[['Ender.Cx.Fechada']].astype(str)\n",
    "\n",
    "display(enderecos)\n",
    "\n",
    "locais = pd.read_excel('datasets/locais.xlsx').astype(str)\n",
    "\n",
    "display(locais)"
   ]
  },
  {
   "cell_type": "code",
   "execution_count": 86,
   "id": "01246610",
   "metadata": {},
   "outputs": [
    {
     "ename": "SyntaxError",
     "evalue": "invalid syntax (24015756.py, line 3)",
     "output_type": "error",
     "traceback": [
      "\u001b[1;36m  File \u001b[1;32m\"C:\\Users\\estoque\\AppData\\Local\\Temp\\ipykernel_9328\\24015756.py\"\u001b[1;36m, line \u001b[1;32m3\u001b[0m\n\u001b[1;33m    enderecos.linha =\u001b[0m\n\u001b[1;37m                      ^\u001b[0m\n\u001b[1;31mSyntaxError\u001b[0m\u001b[1;31m:\u001b[0m invalid syntax\n"
     ]
    }
   ],
   "source": [
    "for linha in enderecos:\n",
    "    \n",
    "    if linha in locais['Ender.Cx.Fechada']:\n",
    "        \n",
    "        \n",
    "        \n",
    "    elif linha == 'nan':\n",
    "        \n",
    "        enderecos.linha = 'Sem endereco'\n",
    "        "
   ]
  },
  {
   "cell_type": "code",
   "execution_count": 91,
   "id": "445fadf5",
   "metadata": {},
   "outputs": [
    {
     "data": {
      "text/plain": [
       "101"
      ]
     },
     "execution_count": 91,
     "metadata": {},
     "output_type": "execute_result"
    }
   ],
   "source": [
    "linha_endereco = \n",
    "\n",
    "indice_linha_local = locais[locais['Ender.Cx.Fechada'] == linha_endereco].index[0]\n",
    "display(indice_linha_local)"
   ]
  },
  {
   "cell_type": "code",
   "execution_count": null,
   "id": "7b97210f",
   "metadata": {},
   "outputs": [],
   "source": []
  }
 ],
 "metadata": {
  "kernelspec": {
   "display_name": "Python 3 (ipykernel)",
   "language": "python",
   "name": "python3"
  },
  "language_info": {
   "codemirror_mode": {
    "name": "ipython",
    "version": 3
   },
   "file_extension": ".py",
   "mimetype": "text/x-python",
   "name": "python",
   "nbconvert_exporter": "python",
   "pygments_lexer": "ipython3",
   "version": "3.9.13"
  }
 },
 "nbformat": 4,
 "nbformat_minor": 5
}
