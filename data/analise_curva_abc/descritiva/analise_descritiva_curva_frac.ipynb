{
 "cells": [
  {
   "cell_type": "code",
   "execution_count": 192,
   "id": "932e0a7d",
   "metadata": {},
   "outputs": [],
   "source": [
    "import pandas as pd\n",
    "pd.set_option('display.max_columns', None)"
   ]
  },
  {
   "cell_type": "code",
   "execution_count": 193,
   "id": "e73fd419",
   "metadata": {},
   "outputs": [],
   "source": [
    "curva_abc_frac = pd.read_excel('dados_tratados\\curva_abc_frac.xlsx')"
   ]
  },
  {
   "cell_type": "markdown",
   "id": "f03f1c63",
   "metadata": {},
   "source": [
    "### Filtrando produtos normais diferentes de xpe"
   ]
  },
  {
   "cell_type": "code",
   "execution_count": 194,
   "id": "ff73800b",
   "metadata": {},
   "outputs": [],
   "source": [
    "selecao = (curva_abc_frac['Descrição'].str.contains('xpe|susp|sol|elixir', case=False)) & \\\n",
    "              (~curva_abc_frac['Descrição'].str.contains('REPOSIT|NEOLEFRIN|NORIFERUM|MAISOL|MERTHICORT|FRASCO|GOTAS|oft|spr', case=False)) & \\\n",
    "              (curva_abc_frac['Curva Frac'] == 'A') & \\\n",
    "              (curva_abc_frac['Embal.'] == 60.0)\n",
    "\n",
    "xpe = curva_abc_frac[selecao]\n",
    "qnt_xpe = curva_abc_frac[selecao].value_counts('Curva Frac')"
   ]
  },
  {
   "cell_type": "code",
   "execution_count": 195,
   "id": "97b75303",
   "metadata": {},
   "outputs": [],
   "source": [
    "nao_xpe = curva_abc_frac.drop(curva_abc_frac[selecao].index)"
   ]
  },
  {
   "cell_type": "code",
   "execution_count": 196,
   "id": "092b5bd2",
   "metadata": {},
   "outputs": [],
   "source": [
    "nao_xpe = nao_xpe[nao_xpe['Curva Frac'] == 'A']"
   ]
  },
  {
   "cell_type": "code",
   "execution_count": 197,
   "id": "3aaa2468",
   "metadata": {},
   "outputs": [
    {
     "name": "stderr",
     "output_type": "stream",
     "text": [
      "C:\\Users\\estoque\\AppData\\Local\\Temp\\ipykernel_2028\\3096930800.py:1: UserWarning: This pattern is interpreted as a regular expression, and has match groups. To actually get the groups, use str.extract.\n",
      "  selecao_nao_controlado = (~nao_xpe['Descrição'].str.contains('(A2)|(A3)|(B1)|(B2)|(C1)|(C2)', case=False))\n"
     ]
    }
   ],
   "source": [
    "selecao_nao_controlado = (~nao_xpe['Descrição'].str.contains('(A2)|(A3)|(B1)|(B2)|(C1)|(C2)', case=False))"
   ]
  },
  {
   "cell_type": "code",
   "execution_count": 198,
   "id": "d66920fe",
   "metadata": {},
   "outputs": [],
   "source": [
    "nao_xpe = nao_xpe[selecao_nao_controlado]"
   ]
  },
  {
   "cell_type": "code",
   "execution_count": 200,
   "id": "5e757583",
   "metadata": {},
   "outputs": [
    {
     "data": {
      "text/plain": [
       "True     558\n",
       "False     51\n",
       "Name: Descrição, dtype: int64"
      ]
     },
     "execution_count": 200,
     "metadata": {},
     "output_type": "execute_result"
    }
   ],
   "source": [
    "selecao_nao_controlado.value_counts()"
   ]
  },
  {
   "cell_type": "code",
   "execution_count": 201,
   "id": "b10d8abc",
   "metadata": {},
   "outputs": [],
   "source": [
    "qnt_nao_xpe = nao_xpe.value_counts('Curva Frac')"
   ]
  },
  {
   "cell_type": "markdown",
   "id": "f1f7fbed",
   "metadata": {},
   "source": [
    "## Quantidade curvas fracionadas"
   ]
  },
  {
   "cell_type": "code",
   "execution_count": 202,
   "id": "a32f5d1e",
   "metadata": {},
   "outputs": [
    {
     "data": {
      "text/plain": [
       "Curva Frac\n",
       "C    1637\n",
       "B     983\n",
       "A     656\n",
       "dtype: int64"
      ]
     },
     "execution_count": 202,
     "metadata": {},
     "output_type": "execute_result"
    }
   ],
   "source": [
    "curva_abc_frac.value_counts('Curva Frac')"
   ]
  },
  {
   "cell_type": "markdown",
   "id": "3f5dd08e",
   "metadata": {},
   "source": [
    "## Quantidade de itens fracionados de curva A, diferente de xpe"
   ]
  },
  {
   "cell_type": "code",
   "execution_count": 203,
   "id": "dbd78666",
   "metadata": {},
   "outputs": [
    {
     "data": {
      "text/plain": [
       "Curva Frac\n",
       "A    558\n",
       "dtype: int64"
      ]
     },
     "execution_count": 203,
     "metadata": {},
     "output_type": "execute_result"
    }
   ],
   "source": [
    "qnt_nao_xpe"
   ]
  },
  {
   "cell_type": "markdown",
   "id": "eed076b5",
   "metadata": {},
   "source": [
    "## Quantidade de itens fracionados de curva A, igual à xpe "
   ]
  },
  {
   "cell_type": "code",
   "execution_count": 204,
   "id": "8579076c",
   "metadata": {},
   "outputs": [
    {
     "data": {
      "text/plain": [
       "Curva Frac\n",
       "A    47\n",
       "dtype: int64"
      ]
     },
     "execution_count": 204,
     "metadata": {},
     "output_type": "execute_result"
    }
   ],
   "source": [
    "qnt_xpe"
   ]
  },
  {
   "cell_type": "code",
   "execution_count": 205,
   "id": "707e0711",
   "metadata": {},
   "outputs": [],
   "source": [
    "total_xpe_a = 47\n",
    "\n",
    "total_produtos_a = 558"
   ]
  },
  {
   "cell_type": "markdown",
   "id": "b547c713",
   "metadata": {},
   "source": [
    "## Endereços"
   ]
  },
  {
   "cell_type": "code",
   "execution_count": 222,
   "id": "043710ba",
   "metadata": {},
   "outputs": [
    {
     "data": {
      "text/plain": [
       "605"
      ]
     },
     "execution_count": 222,
     "metadata": {},
     "output_type": "execute_result"
    }
   ],
   "source": [
    "total_curva_a = total_xpe_a + total_produtos_a\n",
    "total_curva_a"
   ]
  },
  {
   "cell_type": "code",
   "execution_count": 207,
   "id": "581a4b4a",
   "metadata": {},
   "outputs": [],
   "source": [
    "modulos = 6"
   ]
  },
  {
   "cell_type": "markdown",
   "id": "1cbd95cf",
   "metadata": {},
   "source": [
    "### Bruto"
   ]
  },
  {
   "cell_type": "code",
   "execution_count": 208,
   "id": "c1230e61",
   "metadata": {},
   "outputs": [
    {
     "name": "stdout",
     "output_type": "stream",
     "text": [
      "Total de endereços brutos: 576\n"
     ]
    }
   ],
   "source": [
    "total_modulo_bruto = 6 * 8 * 2\n",
    "\n",
    "total_bruto = total_modulo_bruto * modulos\n",
    "\n",
    "print(f'Total de endereços brutos: {total_bruto}')"
   ]
  },
  {
   "cell_type": "markdown",
   "id": "2847f360",
   "metadata": {},
   "source": [
    "### Liquido"
   ]
  },
  {
   "cell_type": "code",
   "execution_count": 209,
   "id": "716cf6ee",
   "metadata": {},
   "outputs": [],
   "source": [
    "end_xpe = 9\n",
    "\n",
    "enderecos_lote_modulo = 8\n",
    "\n",
    "desviadores = 9"
   ]
  },
  {
   "cell_type": "code",
   "execution_count": 210,
   "id": "8500875f",
   "metadata": {},
   "outputs": [
    {
     "name": "stdout",
     "output_type": "stream",
     "text": [
      "Total de endereços para ficar vazios (endereços por lote): 39\n"
     ]
    }
   ],
   "source": [
    "enderecos_lote_total = (enderecos_lote_modulo * modulos) - desviadores\n",
    "\n",
    "print(f'Total de endereços para ficar vazios (endereços por lote): {enderecos_lote_total}')"
   ]
  },
  {
   "cell_type": "code",
   "execution_count": 211,
   "id": "1233e963",
   "metadata": {},
   "outputs": [
    {
     "name": "stdout",
     "output_type": "stream",
     "text": [
      "Total de endereços para xpe: 54\n"
     ]
    }
   ],
   "source": [
    "enderecos_xpe_total = end_xpe * modulos\n",
    "\n",
    "print(f'Total de endereços para xpe: {enderecos_xpe_total}')"
   ]
  },
  {
   "cell_type": "code",
   "execution_count": 212,
   "id": "22e380f2",
   "metadata": {},
   "outputs": [
    {
     "name": "stdout",
     "output_type": "stream",
     "text": [
      "Total de endereços para produtos normais(diferente de xpe): 474\n"
     ]
    }
   ],
   "source": [
    "enderecos_produtos = total_bruto - (enderecos_lote_total + enderecos_xpe_total + desviadores)\n",
    "\n",
    "print(f'Total de endereços para produtos normais(diferente de xpe): {enderecos_produtos}')"
   ]
  },
  {
   "cell_type": "code",
   "execution_count": 213,
   "id": "05d6129f",
   "metadata": {},
   "outputs": [
    {
     "name": "stdout",
     "output_type": "stream",
     "text": [
      "Total de endereços para endereçar curva A: 528\n"
     ]
    }
   ],
   "source": [
    "total_enderecos_liquidos = total_bruto - (enderecos_lote_total + desviadores)\n",
    "\n",
    "print(f'Total de endereços para endereçar curva A: {total_enderecos_liquidos}')"
   ]
  },
  {
   "cell_type": "markdown",
   "id": "e8dc3ec0",
   "metadata": {},
   "source": [
    "### Classificação"
   ]
  },
  {
   "cell_type": "code",
   "execution_count": 214,
   "id": "b13b7e80",
   "metadata": {},
   "outputs": [
    {
     "name": "stdout",
     "output_type": "stream",
     "text": [
      "Quantidade total dos endereços do local AA: 162\n"
     ]
    }
   ],
   "source": [
    "AA_modulo = 27\n",
    "\n",
    "AA_total = AA_modulo * modulos\n",
    "\n",
    "print(f'Quantidade total dos endereços do local AA: {AA_total}')"
   ]
  },
  {
   "cell_type": "code",
   "execution_count": 215,
   "id": "faaac8b8",
   "metadata": {},
   "outputs": [
    {
     "name": "stdout",
     "output_type": "stream",
     "text": [
      "Quantidade total dos endereços do local AB: 192\n"
     ]
    }
   ],
   "source": [
    "AB_modulo = 32\n",
    "\n",
    "AB_total = AB_modulo * modulos\n",
    "\n",
    "print(f'Quantidade total dos endereços do local AB: {AB_total}')"
   ]
  },
  {
   "cell_type": "code",
   "execution_count": 216,
   "id": "9bda61fb",
   "metadata": {},
   "outputs": [
    {
     "name": "stdout",
     "output_type": "stream",
     "text": [
      "Quantidade total dos endereços do local AC: 120\n"
     ]
    }
   ],
   "source": [
    "AC_desviador = 20\n",
    "AC_normal = 20\n",
    "\n",
    "AC_total = (AC_normal * 3) + (AC_desviador * 3)\n",
    "\n",
    "print(f'Quantidade total dos endereços do local AC: {AC_total}')"
   ]
  },
  {
   "cell_type": "code",
   "execution_count": 217,
   "id": "66034c52",
   "metadata": {},
   "outputs": [
    {
     "name": "stdout",
     "output_type": "stream",
     "text": [
      "Quantidade total de endereços por modulo: 79\n"
     ]
    }
   ],
   "source": [
    "total_endereco_modulo = (AC_modulo + AB_modulo + AA_modulo)\n",
    "\n",
    "print(f'Quantidade total de endereços por modulo: {total_endereco_modulo}')"
   ]
  },
  {
   "cell_type": "code",
   "execution_count": 2,
   "id": "45da7d18",
   "metadata": {},
   "outputs": [],
   "source": [
    "total_endereco_modulo * modulos"
   ]
  },
  {
   "cell_type": "code",
   "execution_count": null,
   "id": "d2ad04ff",
   "metadata": {},
   "outputs": [],
   "source": []
  }
 ],
 "metadata": {
  "kernelspec": {
   "display_name": "Python 3 (ipykernel)",
   "language": "python",
   "name": "python3"
  },
  "language_info": {
   "codemirror_mode": {
    "name": "ipython",
    "version": 3
   },
   "file_extension": ".py",
   "mimetype": "text/x-python",
   "name": "python",
   "nbconvert_exporter": "python",
   "pygments_lexer": "ipython3",
   "version": "3.9.13"
  }
 },
 "nbformat": 4,
 "nbformat_minor": 5
}
