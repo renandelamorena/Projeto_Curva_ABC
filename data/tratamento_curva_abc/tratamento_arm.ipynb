{
 "cells": [
  {
   "cell_type": "code",
   "execution_count": 2,
   "metadata": {},
   "outputs": [],
   "source": [
    "import pandas as pd\n",
    "import os"
   ]
  },
  {
   "cell_type": "code",
   "execution_count": 3,
   "metadata": {},
   "outputs": [],
   "source": [
    "def caminho_absoluto(caminho_relativo_com_barras_normais):\n",
    "    \n",
    "    caminho_base = os.getcwd()\n",
    "\n",
    "    caminho_absoluto = os.path.join(caminho_base, caminho_relativo_com_barras_normais)\n",
    "\n",
    "    return caminho_absoluto"
   ]
  },
  {
   "cell_type": "code",
   "execution_count": 4,
   "metadata": {},
   "outputs": [],
   "source": [
    "todas_armazenagens = pd.read_excel(caminho_absoluto('datasets/armazenagens.xlsx'))"
   ]
  },
  {
   "cell_type": "code",
   "execution_count": 10,
   "metadata": {},
   "outputs": [],
   "source": [
    "colunas = ['Dep.',\n",
    "           'Apelido',\n",
    "           'Situação',\n",
    "           'Motivo Bloqueio',\n",
    "           ]"
   ]
  },
  {
   "cell_type": "code",
   "execution_count": 11,
   "metadata": {},
   "outputs": [
    {
     "data": {
      "text/html": [
       "<div>\n",
       "<style scoped>\n",
       "    .dataframe tbody tr th:only-of-type {\n",
       "        vertical-align: middle;\n",
       "    }\n",
       "\n",
       "    .dataframe tbody tr th {\n",
       "        vertical-align: top;\n",
       "    }\n",
       "\n",
       "    .dataframe thead th {\n",
       "        text-align: right;\n",
       "    }\n",
       "</style>\n",
       "<table border=\"1\" class=\"dataframe\">\n",
       "  <thead>\n",
       "    <tr style=\"text-align: right;\">\n",
       "      <th></th>\n",
       "      <th>Dep.</th>\n",
       "      <th>Apelido</th>\n",
       "      <th>Situação</th>\n",
       "      <th>Motivo Bloqueio</th>\n",
       "    </tr>\n",
       "  </thead>\n",
       "  <tbody>\n",
       "    <tr>\n",
       "      <th>0</th>\n",
       "      <td>1</td>\n",
       "      <td>010-002-03-01</td>\n",
       "      <td>Inativo</td>\n",
       "      <td>.NÃO EXISTE</td>\n",
       "    </tr>\n",
       "    <tr>\n",
       "      <th>1</th>\n",
       "      <td>1</td>\n",
       "      <td>010-002-03-02</td>\n",
       "      <td>Inativo</td>\n",
       "      <td>.NÃO EXISTE</td>\n",
       "    </tr>\n",
       "    <tr>\n",
       "      <th>2</th>\n",
       "      <td>1</td>\n",
       "      <td>010-002-04-01</td>\n",
       "      <td>Uso</td>\n",
       "      <td>NaN</td>\n",
       "    </tr>\n",
       "    <tr>\n",
       "      <th>3</th>\n",
       "      <td>1</td>\n",
       "      <td>010-002-04-02</td>\n",
       "      <td>Bloq.Invent.</td>\n",
       "      <td>INVENTARIO</td>\n",
       "    </tr>\n",
       "    <tr>\n",
       "      <th>4</th>\n",
       "      <td>1</td>\n",
       "      <td>010-002-05-01</td>\n",
       "      <td>Bloq.Invent.</td>\n",
       "      <td>INVENTARIO</td>\n",
       "    </tr>\n",
       "    <tr>\n",
       "      <th>...</th>\n",
       "      <td>...</td>\n",
       "      <td>...</td>\n",
       "      <td>...</td>\n",
       "      <td>...</td>\n",
       "    </tr>\n",
       "    <tr>\n",
       "      <th>2820</th>\n",
       "      <td>2</td>\n",
       "      <td>018-010-05-02</td>\n",
       "      <td>Inativo</td>\n",
       "      <td>.NÃO EXISTE - NORMAL DEP 2</td>\n",
       "    </tr>\n",
       "    <tr>\n",
       "      <th>2821</th>\n",
       "      <td>2</td>\n",
       "      <td>018-010-06-01</td>\n",
       "      <td>Inativo</td>\n",
       "      <td>.NÃO EXISTE - NORMAL DEP 2</td>\n",
       "    </tr>\n",
       "    <tr>\n",
       "      <th>2822</th>\n",
       "      <td>2</td>\n",
       "      <td>018-010-06-02</td>\n",
       "      <td>Inativo</td>\n",
       "      <td>.NÃO EXISTE - NORMAL DEP 2</td>\n",
       "    </tr>\n",
       "    <tr>\n",
       "      <th>2823</th>\n",
       "      <td>2</td>\n",
       "      <td>018-010-07-01</td>\n",
       "      <td>Inativo</td>\n",
       "      <td>.NÃO EXISTE - NORMAL DEP 2</td>\n",
       "    </tr>\n",
       "    <tr>\n",
       "      <th>2824</th>\n",
       "      <td>2</td>\n",
       "      <td>018-010-07-02</td>\n",
       "      <td>Inativo</td>\n",
       "      <td>.NÃO EXISTE - NORMAL DEP 2</td>\n",
       "    </tr>\n",
       "  </tbody>\n",
       "</table>\n",
       "<p>2825 rows × 4 columns</p>\n",
       "</div>"
      ],
      "text/plain": [
       "      Dep.        Apelido      Situação             Motivo Bloqueio\n",
       "0        1  010-002-03-01       Inativo                 .NÃO EXISTE\n",
       "1        1  010-002-03-02       Inativo                 .NÃO EXISTE\n",
       "2        1  010-002-04-01           Uso                         NaN\n",
       "3        1  010-002-04-02  Bloq.Invent.                  INVENTARIO\n",
       "4        1  010-002-05-01  Bloq.Invent.                  INVENTARIO\n",
       "...    ...            ...           ...                         ...\n",
       "2820     2  018-010-05-02       Inativo  .NÃO EXISTE - NORMAL DEP 2\n",
       "2821     2  018-010-06-01       Inativo  .NÃO EXISTE - NORMAL DEP 2\n",
       "2822     2  018-010-06-02       Inativo  .NÃO EXISTE - NORMAL DEP 2\n",
       "2823     2  018-010-07-01       Inativo  .NÃO EXISTE - NORMAL DEP 2\n",
       "2824     2  018-010-07-02       Inativo  .NÃO EXISTE - NORMAL DEP 2\n",
       "\n",
       "[2825 rows x 4 columns]"
      ]
     },
     "execution_count": 11,
     "metadata": {},
     "output_type": "execute_result"
    }
   ],
   "source": [
    "todas_armazenagens[colunas]"
   ]
  },
  {
   "cell_type": "code",
   "execution_count": null,
   "metadata": {},
   "outputs": [],
   "source": []
  }
 ],
 "metadata": {
  "kernelspec": {
   "display_name": "venv",
   "language": "python",
   "name": "python3"
  },
  "language_info": {
   "codemirror_mode": {
    "name": "ipython",
    "version": 3
   },
   "file_extension": ".py",
   "mimetype": "text/x-python",
   "name": "python",
   "nbconvert_exporter": "python",
   "pygments_lexer": "ipython3",
   "version": "3.11.8"
  }
 },
 "nbformat": 4,
 "nbformat_minor": 2
}
