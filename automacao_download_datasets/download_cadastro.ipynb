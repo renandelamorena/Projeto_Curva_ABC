{
 "cells": [
  {
   "cell_type": "markdown",
   "id": "8155a691",
   "metadata": {},
   "source": [
    "## Imports"
   ]
  },
  {
   "cell_type": "code",
   "execution_count": 2,
   "id": "ed05e5b9",
   "metadata": {},
   "outputs": [],
   "source": [
    "import pyautogui as pag\n",
    "import pyperclip as pcl\n",
    "import time"
   ]
  },
  {
   "cell_type": "code",
   "execution_count": 3,
   "id": "60a7163c",
   "metadata": {},
   "outputs": [],
   "source": [
    "#define pause geral\n",
    "pause_geral = 2   \n",
    "pag.PAUSE = pause_geral\n",
    "\n",
    "#pause personalizado \n",
    "\n",
    "def p_i(pause):\n",
    "    pag.PAUSE = pause\n",
    "    \n",
    "def p_f():\n",
    "    pag.PAUSE = pause_geral"
   ]
  },
  {
   "cell_type": "code",
   "execution_count": 4,
   "id": "e0692854",
   "metadata": {},
   "outputs": [],
   "source": [
    "def abre_wms():\n",
    "    \n",
    "    pag.PAUSE = pause_geral\n",
    "        \n",
    "    time.sleep(2)\n",
    "    \n",
    "    #avisa que vai começar a automação\n",
    "    pag.alert('A automação vai começar, aperte em OK e NÃO mexa em nada!, caso seja necessario cessar automação, mova o mouse para o canto da tela')\n",
    "    \n",
    "    #minimisa\n",
    "    pag.click(x=1270, y=991)\n",
    "    \n",
    "    # Seleciona WMS\n",
    "    \n",
    "    pag.doubleClick(x=78, y=892)\n",
    "\n",
    "    # Executa WMS\n",
    "    \n",
    "    p_i(0.1)\n",
    "    pag.press('tab')\n",
    "    pag.press('tab')\n",
    "    pag.press('enter')\n",
    "    p_f()\n",
    "\n",
    "    # Loguin\n",
    "\n",
    "    login = 'renan'\n",
    "    senha = 134679\n",
    "    \n",
    "    p_i(0.1)\n",
    "    time.sleep(6)\n",
    "    pcl.copy(login)\n",
    "    pag.hotkey('ctrl', 'v')\n",
    "    pag.press('tab')\n",
    "    pcl.copy(senha)\n",
    "    pag.hotkey('ctrl', 'v')\n",
    "\n",
    "    pag.press('tab')\n",
    "    pag.press('enter')\n",
    "    p_f()"
   ]
  },
  {
   "cell_type": "code",
   "execution_count": 5,
   "id": "d219165e",
   "metadata": {},
   "outputs": [],
   "source": [
    "def abre_gerenciamento():\n",
    "    \n",
    "    # Abre gerenciamento de estoque\n",
    "\n",
    "    p_i(0.5)\n",
    "    pag.press('tab')\n",
    "    pag.press('tab')\n",
    "    pag.press('tab')\n",
    "    pag.press('enter')\n",
    "\n",
    "    pcl.copy('gerenciamento')\n",
    "    pag.hotkey('ctrl', 'v')\n",
    "\n",
    "    pag.press('tab')\n",
    "    pag.press('enter')\n",
    "    p_f()"
   ]
  },
  {
   "cell_type": "code",
   "execution_count": 6,
   "id": "40265fed",
   "metadata": {},
   "outputs": [],
   "source": [
    "def abre_consulta_cadastro_produto():\n",
    "    \n",
    "    time.sleep(2)\n",
    "    # click em 'consultas'\n",
    "    pag.click(x=102, y=34)\n",
    "\n",
    "    #click em 'consulta estoque por validade'\n",
    "    pag.click(x=200, y=194)"
   ]
  },
  {
   "cell_type": "code",
   "execution_count": 7,
   "id": "7cfb3664",
   "metadata": {},
   "outputs": [],
   "source": [
    "def baixar_cadastro_produto():\n",
    "    \n",
    "    time.sleep(2)\n",
    "\n",
    "    p_i(0.1)\n",
    "\n",
    "    #seleciona 'todos' os flag\n",
    "\n",
    "    pag.press('tab', presses=7)\n",
    "\n",
    "    pag.press('up')\n",
    "\n",
    "    pag.press('tab', presses=8)\n",
    "\n",
    "    pag.press('up', presses=2)\n",
    "\n",
    "    pag.press('tab')\n",
    "    pag.press('up', presses=2)\n",
    "\n",
    "    pag.press('tab')\n",
    "    pag.press('up', presses=2)\n",
    "\n",
    "    pag.press('tab')\n",
    "    pag.press('up', presses=2)\n",
    "\n",
    "    pag.press('tab')\n",
    "    pag.press('up', presses=2)\n",
    "\n",
    "    pag.press('tab')\n",
    "    pag.press('up', presses=2)\n",
    "\n",
    "    time.sleep(1)\n",
    "\n",
    "    #gera excel\n",
    "    pag.press('tab', presses=4)\n",
    "    pag.press('enter')\n",
    "\n",
    "    p_f()\n"
   ]
  },
  {
   "cell_type": "code",
   "execution_count": 15,
   "id": "bab97221",
   "metadata": {},
   "outputs": [],
   "source": [
    "def salvar_planilha(nome_arquivo):\n",
    "    \n",
    "    time.sleep(5)\n",
    "\n",
    "    p_i(0.8)\n",
    "\n",
    "    # fechar as jantlas de donwload\n",
    "    pag.hotkey('alt', 'f4')\n",
    "    pag.hotkey('alt', 'f4')\n",
    "\n",
    "    # fechar aviso\n",
    "    time.sleep(2)\n",
    "    pag.press('enter')\n",
    "    \n",
    "    # tela cheia\n",
    "    pag.hotkey('ctrl', 'shift', 'f1')\n",
    "\n",
    "    # vai em salvar como\n",
    "    pag.press('alt')\n",
    "    pag.press('a')\n",
    "    pag.press('a')\n",
    "    pag.press('y')\n",
    "    pag.press('2')\n",
    "\n",
    "    # coloca o nome do arquivo\n",
    "    time.sleep(1)\n",
    "    pcl.copy(nome_arquivo)\n",
    "    pag.hotkey('ctrl', 'v')\n",
    "\n",
    "    # salvar\n",
    "\n",
    "    pag.press('tab', presses=8, interval=1)\n",
    "    pag.press('enter')\n",
    "\n",
    "    # confirmar subistituição\n",
    "    pag.press('tab')\n",
    "    pag.press('enter')\n",
    "\n",
    "    # fechar\n",
    "    time.sleep(10)\n",
    "    pag.hotkey('ctrl', 'f4')\n",
    "    pag.press('tab')\n",
    "    \n",
    "    p_f()"
   ]
  },
  {
   "cell_type": "code",
   "execution_count": 11,
   "id": "7bbd81f2",
   "metadata": {},
   "outputs": [
    {
     "data": {
      "text/plain": [
       "Point(x=463, y=655)"
      ]
     },
     "execution_count": 11,
     "metadata": {},
     "output_type": "execute_result"
    }
   ],
   "source": [
    "time.sleep(5)\n",
    "pag.position()"
   ]
  },
  {
   "cell_type": "code",
   "execution_count": 16,
   "id": "b2d73596",
   "metadata": {},
   "outputs": [],
   "source": [
    "# abre_wms()\n",
    "# abre_gerenciamento()\n",
    "# abre_consulta_cadastro_produto()\n",
    "# baixar_cadastro_produto()\n",
    "# time.sleep(1000) # +ou- 15 min p/ baixar\n",
    "salvar_planilha('teste_automacao_produtos')"
   ]
  },
  {
   "cell_type": "code",
   "execution_count": 19,
   "id": "42d29e92",
   "metadata": {},
   "outputs": [],
   "source": [
    "def alterar_resolucao(lado, veses):\n",
    "    \n",
    "    # olivio = 4 setas para baixo\n",
    "    \n",
    "    p_i(1)\n",
    "\n",
    "    with pag.hold('win'):\n",
    "        pag.press('m')\n",
    "\n",
    "    pag.press('win')\n",
    "    pcl.copy('resolução')\n",
    "    pag.hotkey('ctrl', 'v')\n",
    "    pag.press('enter')\n",
    "\n",
    "    time.sleep(3)\n",
    "\n",
    "    pag.press('enter')\n",
    "\n",
    "    pag.press(lado, presses = veses, interval = 0.9)\n",
    "\n",
    "    pag.press('enter')\n",
    "\n",
    "    pag.press('tab')\n",
    "    pag.press('enter')\n",
    "\n",
    "    pag.hotkey('alt', 'f4')\n",
    "\n",
    "    p_f()"
   ]
  },
  {
   "cell_type": "code",
   "execution_count": 20,
   "id": "1159c236",
   "metadata": {},
   "outputs": [
    {
     "ename": "FailSafeException",
     "evalue": "PyAutoGUI fail-safe triggered from mouse moving to a corner of the screen. To disable this fail-safe, set pyautogui.FAILSAFE to False. DISABLING FAIL-SAFE IS NOT RECOMMENDED.",
     "output_type": "error",
     "traceback": [
      "\u001b[1;31m---------------------------------------------------------------------------\u001b[0m",
      "\u001b[1;31mFailSafeException\u001b[0m                         Traceback (most recent call last)",
      "\u001b[1;32mc:\\Users\\estoque\\Documents\\estoque.renan\\projetos\\projeto_curva_abc\\automacao_download_datasets\\download_cadastro.ipynb Cell 15\u001b[0m line \u001b[0;36m1\n\u001b[1;32m----> <a href='vscode-notebook-cell:/c%3A/Users/estoque/Documents/estoque.renan/projetos/projeto_curva_abc/automacao_download_datasets/download_cadastro.ipynb#X22sZmlsZQ%3D%3D?line=0'>1</a>\u001b[0m alterar_resolucao(\u001b[39m'\u001b[39;49m\u001b[39mdown\u001b[39;49m\u001b[39m'\u001b[39;49m, \u001b[39m4\u001b[39;49m)\n",
      "\u001b[1;32mc:\\Users\\estoque\\Documents\\estoque.renan\\projetos\\projeto_curva_abc\\automacao_download_datasets\\download_cadastro.ipynb Cell 15\u001b[0m line \u001b[0;36m1\n\u001b[0;32m     <a href='vscode-notebook-cell:/c%3A/Users/estoque/Documents/estoque.renan/projetos/projeto_curva_abc/automacao_download_datasets/download_cadastro.ipynb#X22sZmlsZQ%3D%3D?line=14'>15</a>\u001b[0m time\u001b[39m.\u001b[39msleep(\u001b[39m3\u001b[39m)\n\u001b[0;32m     <a href='vscode-notebook-cell:/c%3A/Users/estoque/Documents/estoque.renan/projetos/projeto_curva_abc/automacao_download_datasets/download_cadastro.ipynb#X22sZmlsZQ%3D%3D?line=16'>17</a>\u001b[0m pag\u001b[39m.\u001b[39mpress(\u001b[39m'\u001b[39m\u001b[39menter\u001b[39m\u001b[39m'\u001b[39m)\n\u001b[1;32m---> <a href='vscode-notebook-cell:/c%3A/Users/estoque/Documents/estoque.renan/projetos/projeto_curva_abc/automacao_download_datasets/download_cadastro.ipynb#X22sZmlsZQ%3D%3D?line=18'>19</a>\u001b[0m pag\u001b[39m.\u001b[39;49mpress(lado, presses \u001b[39m=\u001b[39;49m veses, interval \u001b[39m=\u001b[39;49m \u001b[39m0.9\u001b[39;49m)\n\u001b[0;32m     <a href='vscode-notebook-cell:/c%3A/Users/estoque/Documents/estoque.renan/projetos/projeto_curva_abc/automacao_download_datasets/download_cadastro.ipynb#X22sZmlsZQ%3D%3D?line=20'>21</a>\u001b[0m pag\u001b[39m.\u001b[39mpress(\u001b[39m'\u001b[39m\u001b[39menter\u001b[39m\u001b[39m'\u001b[39m)\n\u001b[0;32m     <a href='vscode-notebook-cell:/c%3A/Users/estoque/Documents/estoque.renan/projetos/projeto_curva_abc/automacao_download_datasets/download_cadastro.ipynb#X22sZmlsZQ%3D%3D?line=22'>23</a>\u001b[0m pag\u001b[39m.\u001b[39mpress(\u001b[39m'\u001b[39m\u001b[39mtab\u001b[39m\u001b[39m'\u001b[39m)\n",
      "File \u001b[1;32m~\\AppData\\Local\\Packages\\PythonSoftwareFoundation.Python.3.11_qbz5n2kfra8p0\\LocalCache\\local-packages\\Python311\\site-packages\\pyautogui\\__init__.py:594\u001b[0m, in \u001b[0;36m_genericPyAutoGUIChecks.<locals>.wrapper\u001b[1;34m(*args, **kwargs)\u001b[0m\n\u001b[0;32m    591\u001b[0m \u001b[39m@functools\u001b[39m\u001b[39m.\u001b[39mwraps(wrappedFunction)\n\u001b[0;32m    592\u001b[0m \u001b[39mdef\u001b[39;00m \u001b[39mwrapper\u001b[39m(\u001b[39m*\u001b[39margs, \u001b[39m*\u001b[39m\u001b[39m*\u001b[39mkwargs):\n\u001b[0;32m    593\u001b[0m     failSafeCheck()\n\u001b[1;32m--> 594\u001b[0m     returnVal \u001b[39m=\u001b[39m wrappedFunction(\u001b[39m*\u001b[39;49margs, \u001b[39m*\u001b[39;49m\u001b[39m*\u001b[39;49mkwargs)\n\u001b[0;32m    595\u001b[0m     _handlePause(kwargs\u001b[39m.\u001b[39mget(\u001b[39m\"\u001b[39m\u001b[39m_pause\u001b[39m\u001b[39m\"\u001b[39m, \u001b[39mTrue\u001b[39;00m))\n\u001b[0;32m    596\u001b[0m     \u001b[39mreturn\u001b[39;00m returnVal\n",
      "File \u001b[1;32m~\\AppData\\Local\\Packages\\PythonSoftwareFoundation.Python.3.11_qbz5n2kfra8p0\\LocalCache\\local-packages\\Python311\\site-packages\\pyautogui\\__init__.py:1613\u001b[0m, in \u001b[0;36mpress\u001b[1;34m(keys, presses, interval, logScreenshot, _pause)\u001b[0m\n\u001b[0;32m   1611\u001b[0m \u001b[39mfor\u001b[39;00m i \u001b[39min\u001b[39;00m \u001b[39mrange\u001b[39m(presses):\n\u001b[0;32m   1612\u001b[0m     \u001b[39mfor\u001b[39;00m k \u001b[39min\u001b[39;00m keys:\n\u001b[1;32m-> 1613\u001b[0m         failSafeCheck()\n\u001b[0;32m   1614\u001b[0m         platformModule\u001b[39m.\u001b[39m_keyDown(k)\n\u001b[0;32m   1615\u001b[0m         platformModule\u001b[39m.\u001b[39m_keyUp(k)\n",
      "File \u001b[1;32m~\\AppData\\Local\\Packages\\PythonSoftwareFoundation.Python.3.11_qbz5n2kfra8p0\\LocalCache\\local-packages\\Python311\\site-packages\\pyautogui\\__init__.py:1734\u001b[0m, in \u001b[0;36mfailSafeCheck\u001b[1;34m()\u001b[0m\n\u001b[0;32m   1732\u001b[0m \u001b[39mdef\u001b[39;00m \u001b[39mfailSafeCheck\u001b[39m():\n\u001b[0;32m   1733\u001b[0m     \u001b[39mif\u001b[39;00m FAILSAFE \u001b[39mand\u001b[39;00m \u001b[39mtuple\u001b[39m(position()) \u001b[39min\u001b[39;00m FAILSAFE_POINTS:\n\u001b[1;32m-> 1734\u001b[0m         \u001b[39mraise\u001b[39;00m FailSafeException(\n\u001b[0;32m   1735\u001b[0m             \u001b[39m\"\u001b[39m\u001b[39mPyAutoGUI fail-safe triggered from mouse moving to a corner of the screen. To disable this fail-safe, set pyautogui.FAILSAFE to False. DISABLING FAIL-SAFE IS NOT RECOMMENDED.\u001b[39m\u001b[39m\"\u001b[39m\n\u001b[0;32m   1736\u001b[0m         )\n",
      "\u001b[1;31mFailSafeException\u001b[0m: PyAutoGUI fail-safe triggered from mouse moving to a corner of the screen. To disable this fail-safe, set pyautogui.FAILSAFE to False. DISABLING FAIL-SAFE IS NOT RECOMMENDED."
     ]
    }
   ],
   "source": [
    "alterar_resolucao('down', 4)"
   ]
  },
  {
   "cell_type": "code",
   "execution_count": 18,
   "id": "b03e92f5",
   "metadata": {},
   "outputs": [
    {
     "name": "stdout",
     "output_type": "stream",
     "text": [
      "Size(width=1280, height=1024)\n"
     ]
    },
    {
     "data": {
      "text/plain": [
       "'OK'"
      ]
     },
     "execution_count": 18,
     "metadata": {},
     "output_type": "execute_result"
    }
   ],
   "source": [
    "tamanho_tela = pag.size()\n",
    "print(tamanho_tela)\n",
    "pag.alert(tamanho_tela)"
   ]
  },
  {
   "cell_type": "code",
   "execution_count": null,
   "id": "c5764666",
   "metadata": {},
   "outputs": [],
   "source": [
    "alterar_resolucao('up', 4)"
   ]
  },
  {
   "cell_type": "code",
   "execution_count": null,
   "id": "7e4e6a44",
   "metadata": {},
   "outputs": [],
   "source": []
  }
 ],
 "metadata": {
  "kernelspec": {
   "display_name": "Python 3 (ipykernel)",
   "language": "python",
   "name": "python3"
  },
  "language_info": {
   "codemirror_mode": {
    "name": "ipython",
    "version": 3
   },
   "file_extension": ".py",
   "mimetype": "text/x-python",
   "name": "python",
   "nbconvert_exporter": "python",
   "pygments_lexer": "ipython3",
   "version": "3.11.6"
  }
 },
 "nbformat": 4,
 "nbformat_minor": 5
}
