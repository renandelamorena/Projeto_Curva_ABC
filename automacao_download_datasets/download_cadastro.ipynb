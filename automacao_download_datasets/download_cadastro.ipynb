{
 "cells": [
  {
   "cell_type": "markdown",
   "id": "8155a691",
   "metadata": {},
   "source": [
    "# Imports"
   ]
  },
  {
   "cell_type": "code",
   "execution_count": 35,
   "id": "ed05e5b9",
   "metadata": {},
   "outputs": [],
   "source": [
    "import pyautogui as pag\n",
    "import pyperclip as pcl\n",
    "import time\n",
    "from time import sleep"
   ]
  },
  {
   "cell_type": "code",
   "execution_count": 36,
   "id": "60a7163c",
   "metadata": {},
   "outputs": [],
   "source": [
    "#define pause geral\n",
    "pause_geral = 2   \n",
    "pag.PAUSE = pause_geral\n",
    "\n",
    "#pause personalizado\n",
    "\n",
    "def p_i(pause):\n",
    "    pag.PAUSE = pause\n",
    "    \n",
    "def p_f():\n",
    "    pag.PAUSE = pause_geral"
   ]
  },
  {
   "cell_type": "markdown",
   "id": "7b1c9faf",
   "metadata": {},
   "source": [
    "## Func"
   ]
  },
  {
   "cell_type": "markdown",
   "id": "c3da869a",
   "metadata": {},
   "source": [
    "### Verifica tela"
   ]
  },
  {
   "cell_type": "code",
   "execution_count": 37,
   "id": "a0a4d942",
   "metadata": {},
   "outputs": [],
   "source": [
    "def verifica_tela(tela_aguardando_local):\n",
    "\n",
    "    while True:\n",
    "\n",
    "        tela_aguardando = pag.locateOnScreen(tela_aguardando_local, confidence=0.8)\n",
    "\n",
    "        sleep(20)\n",
    "\n",
    "        if tela_aguardando is not None:\n",
    "            print('Aguardando...')\n",
    "        else:\n",
    "            print('Finalizado')\n",
    "            break"
   ]
  },
  {
   "cell_type": "code",
   "execution_count": 38,
   "id": "d727db29",
   "metadata": {},
   "outputs": [],
   "source": [
    "def encontrar_tela(onde, oque, click, precisão):\n",
    "    sleep(2)\n",
    "\n",
    "    img = pag.locateCenterOnScreen(onde, confidence = precisão)\n",
    "    if img is not None:\n",
    "        x, y = img\n",
    "\n",
    "        if click == 2: # duplo\n",
    "            pag.doubleClick(x=x, y=y)\n",
    "\n",
    "        if click == 1: # click normal\n",
    "            pag.click(x=x, y=y)\n",
    "\n",
    "    else:\n",
    "        return(pag.alert(f'Não encontrado: {oque}'))\n",
    "    "
   ]
  },
  {
   "cell_type": "code",
   "execution_count": 39,
   "id": "4489fd3f",
   "metadata": {},
   "outputs": [],
   "source": [
    "# Função para verificar se a imagem está presente na tela\n",
    "def verificar_imagem(imagem_path):\n",
    "    try:\n",
    "        # Procura a posição da imagem na captura de tela\n",
    "        posicao = pag.locateOnScreen(imagem_path, confidence = 0.9)\n",
    "\n",
    "        # Se a posição for encontrada, a imagem está presente\n",
    "        if posicao:\n",
    "            print(\"Imagem encontrada!\")\n",
    "            return True\n",
    "        else:\n",
    "            print(\"Imagem não encontrada.\")\n",
    "            return False\n",
    "\n",
    "    except Exception as e:\n",
    "        print(f\"Erro ao verificar imagem: {e}\")\n",
    "        return False\n",
    "\n",
    "def verificar_imagem_encontrada(tempo_inicial, timeout, imagem_path):\n",
    "\n",
    "    while time.time() - tempo_inicial < timeout:\n",
    "        if verificar_imagem(imagem_path):\n",
    "            print(\"Condição atendida. Continuando com o restante do código.\")\n",
    "            break\n",
    "        else:\n",
    "            print(\"Aguardando a condição ser atendida...\")\n",
    "            time.sleep(5)  # Aguarde 5 segundos antes de verificar novamente\n",
    "\n",
    "    # Se o loop sair sem atender à condição, você pode tratar isso como um timeout\n",
    "    if time.time() - tempo_inicial >= timeout:\n",
    "        print(\"Timeout: A condição demorou mais do que o limite de tempo especificado.\")"
   ]
  },
  {
   "cell_type": "markdown",
   "id": "4bf554d2",
   "metadata": {},
   "source": [
    "### Gerenciamento"
   ]
  },
  {
   "cell_type": "code",
   "execution_count": 40,
   "id": "40265fed",
   "metadata": {},
   "outputs": [],
   "source": [
    "def abre_consulta_cadastro_produto():\n",
    "    \n",
    "    encontrar_tela(r'img\\gerenciamento\\consultas.png', 'Botão \"Consultas\"', 1, 0.9)\n",
    "\n",
    "    sleep(1)\n",
    "\n",
    "    encontrar_tela(r'img\\gerenciamento\\consulta_cadastro_endereco_apanha.png', 'Cadastro de Endereço de Apanha', 1, 0.9)"
   ]
  },
  {
   "cell_type": "code",
   "execution_count": 41,
   "id": "7cfb3664",
   "metadata": {},
   "outputs": [],
   "source": [
    "def baixar_cadastro_produto():\n",
    "    \n",
    "    sleep(2)\n",
    "\n",
    "    p_i(0.1)\n",
    "\n",
    "    #seleciona 'todos' os flag\n",
    "\n",
    "    pag.press('tab', presses=7)\n",
    "\n",
    "    pag.press('up')\n",
    "\n",
    "    pag.press('tab', presses=8)\n",
    "\n",
    "    pag.press('up', presses=2)\n",
    "\n",
    "    pag.press('tab')\n",
    "    pag.press('up', presses=2)\n",
    "\n",
    "    pag.press('tab')\n",
    "    pag.press('up', presses=2)\n",
    "\n",
    "    pag.press('tab')\n",
    "    pag.press('up', presses=2)\n",
    "\n",
    "    pag.press('tab')\n",
    "    pag.press('up', presses=2)\n",
    "\n",
    "    pag.press('tab')\n",
    "    pag.press('up', presses=2)\n",
    "\n",
    "    sleep(1)\n",
    "\n",
    "    #gera excel\n",
    "    pag.press('tab', presses=4)\n",
    "    pag.press('enter')\n",
    "\n",
    "    p_f()\n"
   ]
  },
  {
   "cell_type": "markdown",
   "id": "a0c955d9",
   "metadata": {},
   "source": [
    "### Geral"
   ]
  },
  {
   "cell_type": "code",
   "execution_count": 42,
   "id": "9c8cf13b",
   "metadata": {},
   "outputs": [],
   "source": [
    "def avisar_automação():\n",
    "\n",
    "    #avisa que vai começar a automação\n",
    "    pag.alert('A automação vai começar, aperte em OK e NÃO mexa em nada! Caso seja necessario cessar automação, mova o mouse para o canto da tela')"
   ]
  },
  {
   "cell_type": "code",
   "execution_count": 53,
   "id": "11d9fb36",
   "metadata": {},
   "outputs": [],
   "source": [
    "def abre_wms():\n",
    "    \n",
    "    pag.PAUSE = pause_geral\n",
    "        \n",
    "    sleep(2)\n",
    "        \n",
    "    # minimisa\n",
    "    with pag.hold('win'):\n",
    "        pag.press('m')\n",
    "    \n",
    "    # Seleciona WMS\n",
    "    \n",
    "    encontrar_tela(r'img\\wms.png', 'WMS', 2, 0.8)\n",
    "\n",
    "    # Executa WMS\n",
    "    \n",
    "    p_i(0.1)\n",
    "    pag.press('tab')\n",
    "    pag.press('tab')\n",
    "    pag.press('enter')\n",
    "    p_f()\n",
    "\n",
    "    # Loguin\n",
    "\n",
    "    sleep(7)\n",
    "\n",
    "    encontrar_tela(r'img\\usuario.png', 'Usuario', 1, 0.9)\n",
    "\n",
    "    login = 'renan'\n",
    "    senha = 134679\n",
    "    \n",
    "    p_i(0.1)\n",
    "    sleep(1)\n",
    "    pcl.copy(login)\n",
    "    pag.hotkey('ctrl', 'v')\n",
    "    pag.press('tab')\n",
    "    pcl.copy(senha)\n",
    "    pag.hotkey('ctrl', 'v')\n",
    "\n",
    "    pag.press('tab')\n",
    "    pag.press('enter')\n",
    "    p_f()"
   ]
  },
  {
   "cell_type": "code",
   "execution_count": 44,
   "id": "fa92a14b",
   "metadata": {},
   "outputs": [],
   "source": [
    "def abre_app_wms(app):\n",
    "\n",
    "    p_i(1)\n",
    "    \n",
    "    encontrar_tela(r'img\\lupa_wms.png','lupa no wms', 1, 0.8)\n",
    "\n",
    "    pcl.copy(app)\n",
    "    \n",
    "    pag.hotkey('ctrl', 'v')\n",
    "\n",
    "    pag.press('tab')\n",
    "    pag.press('enter')\n",
    "    \n",
    "    p_f()"
   ]
  },
  {
   "cell_type": "code",
   "execution_count": 45,
   "id": "dd015bc6",
   "metadata": {},
   "outputs": [],
   "source": [
    "def salvar_planilha(nome_arquivo, onde_fixado):\n",
    "    \n",
    "    sleep(5)\n",
    "\n",
    "    p_i(0.8)\n",
    "\n",
    "    # fechar as jantlas de donwload\n",
    "    # pag.hotkey('alt', 'f4')\n",
    "\n",
    "    # fechar aviso\n",
    "    # sleep(5)\n",
    "    # pag.press('enter')\n",
    "    \n",
    "    # tela cheia\n",
    "    pag.hotkey('ctrl', 'shift', 'f1')\n",
    "\n",
    "    # vai em salvar como\n",
    "    pag.press('alt')\n",
    "    pag.press('a')\n",
    "    pag.press('a')\n",
    "    pag.press('y')\n",
    "    pag.press(onde_fixado)\n",
    "\n",
    "    # coloca o nome do arquivo\n",
    "    sleep(1)\n",
    "    pcl.copy(nome_arquivo)\n",
    "    pag.hotkey('ctrl', 'v')\n",
    "\n",
    "    # salvar\n",
    "    pag.press('tab', presses=7, interval=1)\n",
    "    pag.press('enter')\n",
    "\n",
    "    # confirmar subistituição\n",
    "    pag.press('tab')\n",
    "    pag.press('enter')\n",
    "\n",
    "    # fechar\n",
    "    sleep(5)\n",
    "    pag.hotkey('alt', 'f4')\n",
    "    \n",
    "    p_f()"
   ]
  },
  {
   "cell_type": "markdown",
   "id": "608213b6",
   "metadata": {},
   "source": [
    "# Exe"
   ]
  },
  {
   "cell_type": "code",
   "execution_count": null,
   "metadata": {},
   "outputs": [],
   "source": []
  },
  {
   "cell_type": "code",
   "execution_count": 55,
   "id": "b2d73596",
   "metadata": {},
   "outputs": [
    {
     "name": "stdout",
     "output_type": "stream",
     "text": [
      "Imagem não encontrada.\n",
      "Aguardando a condição ser atendida...\n",
      "Imagem não encontrada.\n",
      "Aguardando a condição ser atendida...\n",
      "Imagem não encontrada.\n",
      "Aguardando a condição ser atendida...\n",
      "Imagem não encontrada.\n",
      "Aguardando a condição ser atendida...\n",
      "Imagem não encontrada.\n",
      "Aguardando a condição ser atendida...\n",
      "Imagem não encontrada.\n",
      "Aguardando a condição ser atendida...\n",
      "Imagem não encontrada.\n",
      "Aguardando a condição ser atendida...\n",
      "Imagem não encontrada.\n",
      "Aguardando a condição ser atendida...\n",
      "Imagem não encontrada.\n",
      "Aguardando a condição ser atendida...\n",
      "Imagem não encontrada.\n",
      "Aguardando a condição ser atendida...\n",
      "Imagem não encontrada.\n",
      "Aguardando a condição ser atendida...\n"
     ]
    },
    {
     "ename": "KeyboardInterrupt",
     "evalue": "",
     "output_type": "error",
     "traceback": [
      "\u001b[1;31m---------------------------------------------------------------------------\u001b[0m",
      "\u001b[1;31mKeyboardInterrupt\u001b[0m                         Traceback (most recent call last)",
      "\u001b[1;32mc:\\Users\\estoque\\Documents\\estoque.renan\\projetos\\projeto_curva_abc\\automacao_download_datasets\\download_cadastro.ipynb Cell 19\u001b[0m line \u001b[0;36m1\n\u001b[0;32m      <a href='vscode-notebook-cell:/c%3A/Users/estoque/Documents/estoque.renan/projetos/projeto_curva_abc/automacao_download_datasets/download_cadastro.ipynb#X23sZmlsZQ%3D%3D?line=7'>8</a>\u001b[0m baixar_cadastro_produto()\n\u001b[0;32m     <a href='vscode-notebook-cell:/c%3A/Users/estoque/Documents/estoque.renan/projetos/projeto_curva_abc/automacao_download_datasets/download_cadastro.ipynb#X23sZmlsZQ%3D%3D?line=9'>10</a>\u001b[0m sleep(\u001b[39m20\u001b[39m)\n\u001b[1;32m---> <a href='vscode-notebook-cell:/c%3A/Users/estoque/Documents/estoque.renan/projetos/projeto_curva_abc/automacao_download_datasets/download_cadastro.ipynb#X23sZmlsZQ%3D%3D?line=10'>11</a>\u001b[0m verificar_imagem_encontrada(time\u001b[39m.\u001b[39;49mtime(), \u001b[39m1200\u001b[39;49m , \u001b[39mr\u001b[39;49m\u001b[39m'\u001b[39;49m\u001b[39mimg\u001b[39;49m\u001b[39m\\\u001b[39;49m\u001b[39mgerenciamento\u001b[39;49m\u001b[39m\\\u001b[39;49m\u001b[39mexel_gerado.png\u001b[39;49m\u001b[39m'\u001b[39;49m)\n\u001b[0;32m     <a href='vscode-notebook-cell:/c%3A/Users/estoque/Documents/estoque.renan/projetos/projeto_curva_abc/automacao_download_datasets/download_cadastro.ipynb#X23sZmlsZQ%3D%3D?line=11'>12</a>\u001b[0m sleep(\u001b[39m3\u001b[39m)\n\u001b[0;32m     <a href='vscode-notebook-cell:/c%3A/Users/estoque/Documents/estoque.renan/projetos/projeto_curva_abc/automacao_download_datasets/download_cadastro.ipynb#X23sZmlsZQ%3D%3D?line=12'>13</a>\u001b[0m \u001b[39m134679\u001b[39m\n",
      "\u001b[1;32mc:\\Users\\estoque\\Documents\\estoque.renan\\projetos\\projeto_curva_abc\\automacao_download_datasets\\download_cadastro.ipynb Cell 19\u001b[0m line \u001b[0;36m2\n\u001b[0;32m     <a href='vscode-notebook-cell:/c%3A/Users/estoque/Documents/estoque.renan/projetos/projeto_curva_abc/automacao_download_datasets/download_cadastro.ipynb#X23sZmlsZQ%3D%3D?line=24'>25</a>\u001b[0m     \u001b[39melse\u001b[39;00m:\n\u001b[0;32m     <a href='vscode-notebook-cell:/c%3A/Users/estoque/Documents/estoque.renan/projetos/projeto_curva_abc/automacao_download_datasets/download_cadastro.ipynb#X23sZmlsZQ%3D%3D?line=25'>26</a>\u001b[0m         \u001b[39mprint\u001b[39m(\u001b[39m\"\u001b[39m\u001b[39mAguardando a condição ser atendida...\u001b[39m\u001b[39m\"\u001b[39m)\n\u001b[1;32m---> <a href='vscode-notebook-cell:/c%3A/Users/estoque/Documents/estoque.renan/projetos/projeto_curva_abc/automacao_download_datasets/download_cadastro.ipynb#X23sZmlsZQ%3D%3D?line=26'>27</a>\u001b[0m         time\u001b[39m.\u001b[39;49msleep(\u001b[39m5\u001b[39;49m)  \u001b[39m# Aguarde 5 segundos antes de verificar novamente\u001b[39;00m\n\u001b[0;32m     <a href='vscode-notebook-cell:/c%3A/Users/estoque/Documents/estoque.renan/projetos/projeto_curva_abc/automacao_download_datasets/download_cadastro.ipynb#X23sZmlsZQ%3D%3D?line=28'>29</a>\u001b[0m \u001b[39m# Se o loop sair sem atender à condição, você pode tratar isso como um timeout\u001b[39;00m\n\u001b[0;32m     <a href='vscode-notebook-cell:/c%3A/Users/estoque/Documents/estoque.renan/projetos/projeto_curva_abc/automacao_download_datasets/download_cadastro.ipynb#X23sZmlsZQ%3D%3D?line=29'>30</a>\u001b[0m \u001b[39mif\u001b[39;00m time\u001b[39m.\u001b[39mtime() \u001b[39m-\u001b[39m tempo_inicial \u001b[39m>\u001b[39m\u001b[39m=\u001b[39m timeout:\n",
      "\u001b[1;31mKeyboardInterrupt\u001b[0m: "
     ]
    }
   ],
   "source": [
    "# avisar_automação()\n",
    "abre_wms()\n",
    "\n",
    "sleep(6)\n",
    "\n",
    "abre_app_wms('GERENCIAMENTO')\n",
    "abre_consulta_cadastro_produto()\n",
    "baixar_cadastro_produto()\n",
    "\n",
    "sleep(20)\n",
    "verificar_imagem_encontrada(time.time(), 1200 , r'img\\gerenciamento\\exel_gerado.png')\n",
    "sleep(3)\n",
    "134679\n",
    "encontrar_tela(r'img\\gerenciamento\\exel_gerado.png', 'Excel', 1, 0.9)\n",
    "\n",
    "salvar_planilha('produtos', '2')\n",
    "\n",
    "pag.hotkey('alt', 'f4')"
   ]
  },
  {
   "cell_type": "code",
   "execution_count": null,
   "metadata": {},
   "outputs": [],
   "source": []
  }
 ],
 "metadata": {
  "kernelspec": {
   "display_name": "Python 3 (ipykernel)",
   "language": "python",
   "name": "python3"
  },
  "language_info": {
   "codemirror_mode": {
    "name": "ipython",
    "version": 3
   },
   "file_extension": ".py",
   "mimetype": "text/x-python",
   "name": "python",
   "nbconvert_exporter": "python",
   "pygments_lexer": "ipython3",
   "version": "3.11.6"
  }
 },
 "nbformat": 4,
 "nbformat_minor": 5
}
