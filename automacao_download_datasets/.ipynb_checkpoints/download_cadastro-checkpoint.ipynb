{
 "cells": [
  {
   "cell_type": "code",
   "execution_count": 2,
   "id": "7a86c9b1",
   "metadata": {},
   "outputs": [
    {
     "name": "stdout",
     "output_type": "stream",
     "text": [
      "Requirement already satisfied: pyautogui in c:\\users\\estoque\\anaconda3\\lib\\site-packages (0.9.53)\n",
      "Requirement already satisfied: pyscreeze>=0.1.21 in c:\\users\\estoque\\anaconda3\\lib\\site-packages (from pyautogui) (0.1.28)\n",
      "Requirement already satisfied: PyTweening>=1.0.1 in c:\\users\\estoque\\anaconda3\\lib\\site-packages (from pyautogui) (1.0.4)\n",
      "Requirement already satisfied: mouseinfo in c:\\users\\estoque\\anaconda3\\lib\\site-packages (from pyautogui) (0.1.3)\n",
      "Requirement already satisfied: pygetwindow>=0.0.5 in c:\\users\\estoque\\anaconda3\\lib\\site-packages (from pyautogui) (0.0.9)\n",
      "Requirement already satisfied: pymsgbox in c:\\users\\estoque\\anaconda3\\lib\\site-packages (from pyautogui) (1.0.9)\n",
      "Requirement already satisfied: pyrect in c:\\users\\estoque\\anaconda3\\lib\\site-packages (from pygetwindow>=0.0.5->pyautogui) (0.2.0)\n",
      "Requirement already satisfied: pyperclip in c:\\users\\estoque\\anaconda3\\lib\\site-packages (from mouseinfo->pyautogui) (1.8.2)\n"
     ]
    }
   ],
   "source": [
    "!pip install pyautogui"
   ]
  },
  {
   "cell_type": "markdown",
   "id": "8155a691",
   "metadata": {},
   "source": [
    "## Imports"
   ]
  },
  {
   "cell_type": "code",
   "execution_count": 7,
   "id": "ed05e5b9",
   "metadata": {},
   "outputs": [],
   "source": [
    "import pyautogui as pag\n",
    "import pyperclip as pcl\n",
    "import time"
   ]
  },
  {
   "cell_type": "code",
   "execution_count": 8,
   "id": "60a7163c",
   "metadata": {},
   "outputs": [],
   "source": [
    "#define pause geral\n",
    "pause_geral = 2   \n",
    "pag.PAUSE = pause_geral\n",
    "\n",
    "#pause personalizado \n",
    "\n",
    "def p_i(pause):\n",
    "    pag.PAUSE = pause\n",
    "    \n",
    "def p_f():\n",
    "    pag.PAUSE = pause_geral"
   ]
  },
  {
   "cell_type": "code",
   "execution_count": 9,
   "id": "e0692854",
   "metadata": {},
   "outputs": [],
   "source": [
    "def abre_wms():\n",
    "    \n",
    "    pag.PAUSE = pause_geral\n",
    "        \n",
    "    time.sleep(2)\n",
    "    \n",
    "    #avisa que vai começar a automação\n",
    "    pag.alert('A automação vai começar, aperte em OK e NÃO mexa em nada!')\n",
    "    \n",
    "    #minimisa\n",
    "    pag.click(x=1270, y=991)\n",
    "    \n",
    "    # Seleciona WMS\n",
    "    \n",
    "    pag.doubleClick(x=78, y=892)\n",
    "\n",
    "    # Executa WMS\n",
    "    \n",
    "    p_i(0.1)\n",
    "    pag.press('tab')\n",
    "    pag.press('tab')\n",
    "    pag.press('enter')\n",
    "    p_f()\n",
    "\n",
    "    # Loguin\n",
    "\n",
    "    login = 'renan'\n",
    "    senha = 134679\n",
    "    \n",
    "    p_i(0.1)\n",
    "    time.sleep(6)\n",
    "    pcl.copy(login)\n",
    "    pag.hotkey('ctrl', 'v')\n",
    "    pag.press('tab')\n",
    "    pcl.copy(senha)\n",
    "    pag.hotkey('ctrl', 'v')\n",
    "\n",
    "    pag.press('tab')\n",
    "    pag.press('enter')\n",
    "    p_f()"
   ]
  },
  {
   "cell_type": "code",
   "execution_count": 10,
   "id": "d219165e",
   "metadata": {},
   "outputs": [],
   "source": [
    "def abre_gerenciamento():\n",
    "    \n",
    "    # Abre gerenciamento de estoque\n",
    "\n",
    "    p_i(0.5)\n",
    "    pag.press('tab')\n",
    "    pag.press('tab')\n",
    "    pag.press('tab')\n",
    "    pag.press('enter')\n",
    "\n",
    "    pcl.copy('gerenciamento')\n",
    "    pag.hotkey('ctrl', 'v')\n",
    "\n",
    "    pag.press('tab')\n",
    "    pag.press('enter')\n",
    "    p_f()"
   ]
  },
  {
   "cell_type": "code",
   "execution_count": 14,
   "id": "40265fed",
   "metadata": {},
   "outputs": [],
   "source": [
    "def abre_consulta_cadastro_produto():\n",
    "    \n",
    "    time.sleep(2)\n",
    "    # click em 'consultas'\n",
    "    pag.click(x=102, y=34)\n",
    "\n",
    "    #click em 'consulta estoque por validade'\n",
    "    pag.click(x=200, y=194)"
   ]
  },
  {
   "cell_type": "code",
   "execution_count": 17,
   "id": "7cfb3664",
   "metadata": {},
   "outputs": [],
   "source": [
    "def baixar_cadastro_produto():\n",
    "    \n",
    "    time.sleep(2)\n",
    "\n",
    "    p_i(0.1)\n",
    "\n",
    "    #seleciona 'todos' os flag\n",
    "\n",
    "    pag.press('tab', presses=7)\n",
    "\n",
    "    pag.press('up')\n",
    "\n",
    "    pag.press('tab', presses=8)\n",
    "\n",
    "    pag.press('up', presses=2)\n",
    "\n",
    "    pag.press('tab')\n",
    "    pag.press('up', presses=2)\n",
    "\n",
    "    pag.press('tab')\n",
    "    pag.press('up', presses=2)\n",
    "\n",
    "    pag.press('tab')\n",
    "    pag.press('up', presses=2)\n",
    "\n",
    "    pag.press('tab')\n",
    "    pag.press('up', presses=2)\n",
    "\n",
    "    pag.press('tab')\n",
    "    pag.press('up', presses=2)\n",
    "\n",
    "    time.sleep(1)\n",
    "\n",
    "    #gera excel\n",
    "    pag.press('tab', presses=4)\n",
    "    pag.press('enter')\n",
    "\n",
    "    p_f()\n"
   ]
  },
  {
   "cell_type": "code",
   "execution_count": 22,
   "id": "bab97221",
   "metadata": {},
   "outputs": [],
   "source": [
    "def salvar_planilha(i):\n",
    "    \n",
    "    caminho_pasta = r'C:\\Users\\estoque\\Documents\\estoque.renan\\projetos\\projeto_curva_abc\\tratamento_curva_abc\\datasets'\n",
    "\n",
    "    p_i(0.7)\n",
    "\n",
    "    #salvar planilha\n",
    "\n",
    "    #time.sleep(12)\n",
    "\n",
    "    # click planilha\n",
    "\n",
    "    pag.click(x=165, y=998)\n",
    "\n",
    "    # fechar aviso\n",
    "\n",
    "    time.sleep(2)\n",
    "    pag.press('enter')\n",
    "    \n",
    "    # tela cheia\n",
    "    pag.hotkey('ctrl', 'shift', 'f1')\n",
    "\n",
    "    # vai em salvar como\n",
    "    pag.press('alt')\n",
    "    pag.press('a')\n",
    "    pag.press('s')\n",
    "    pag.press('tab')\n",
    "    pag.press('down', presses=4)\n",
    "    pag.press('enter')\n",
    "\n",
    "    # coloca o nome do arquivo\n",
    "    time.sleep(1)\n",
    "    pcl.copy(i)\n",
    "    pag.hotkey('ctrl', 'v')\n",
    "\n",
    "    # vai até o caminho\n",
    "    pag.press('tab', presses=10)\n",
    "    pag.press('enter')\n",
    "\n",
    "\n",
    "    # #copia e cola caminho\n",
    "    pcl.copy(caminho_pasta)\n",
    "    pag.hotkey('ctrl', 'v')\n",
    "    pag.press('enter')\n",
    "\n",
    "    # #salvar\n",
    "\n",
    "    pag.press('tab')\n",
    "    pag.press('tab')\n",
    "    pag.press('tab')\n",
    "    pag.press('tab')\n",
    "    pag.press('tab')\n",
    "    pag.press('tab')\n",
    "    pag.press('tab')\n",
    "    pag.press('tab')\n",
    "    pag.press('tab')\n",
    "    pag.press('tab')\n",
    "    pag.press('tab')\n",
    "    pag.press('tab')\n",
    "    pag.press('tab')\n",
    "\n",
    "    pag.press('enter')\n",
    "\n",
    "    # # #confirmar subistituição\n",
    "    pag.press('tab')\n",
    "    pag.press('enter')\n",
    "\n",
    "    # #fechar\n",
    "    time.sleep(10)\n",
    "    pag.hotkey('ctrl', 'f4')\n",
    "    pag.press('tab')\n",
    "    \n",
    "    p_f()"
   ]
  },
  {
   "cell_type": "code",
   "execution_count": 21,
   "id": "7bbd81f2",
   "metadata": {},
   "outputs": [
    {
     "data": {
      "text/plain": [
       "Point(x=165, y=998)"
      ]
     },
     "execution_count": 21,
     "metadata": {},
     "output_type": "execute_result"
    }
   ],
   "source": [
    "time.sleep(5)\n",
    "pag.position()"
   ]
  },
  {
   "cell_type": "code",
   "execution_count": 24,
   "id": "b2d73596",
   "metadata": {},
   "outputs": [],
   "source": [
    "# abre_wms()\n",
    "# abre_gerenciamento()\n",
    "# abre_consulta_cadastro_produto()\n",
    "# baixar_cadastro_produto()\n",
    "# time.sleep(950)\n",
    "salvar_planilha('teste_automacao_produtos')"
   ]
  },
  {
   "cell_type": "code",
   "execution_count": null,
   "id": "0cdb8dfb",
   "metadata": {},
   "outputs": [],
   "source": [
    "16:31 0%\n",
    "16:36 30%\n",
    "16:41 64%\n",
    "16:46 100%\n",
    "\n",
    "\n"
   ]
  },
  {
   "cell_type": "code",
   "execution_count": 25,
   "id": "d192283f",
   "metadata": {},
   "outputs": [],
   "source": [
    "caminho_pasta = r'C:\\Users\\estoque\\Documents\\estoque.renan\\projetos\\projeto_curva_abc\\tratamento_curva_abc\\datasets'"
   ]
  },
  {
   "cell_type": "code",
   "execution_count": 27,
   "id": "5a59514a",
   "metadata": {},
   "outputs": [],
   "source": [
    "    p_i(0.7)\n",
    "\n",
    "    #salvar planilha\n",
    "\n",
    "    #time.sleep(12)\n",
    "\n",
    "    # click planilha\n",
    "\n",
    "    pag.click(x=165, y=998)\n",
    "\n",
    "    # fechar aviso\n",
    "\n",
    "#     time.sleep(2)\n",
    "#     pag.press('enter')\n",
    "    \n",
    "#     # tela cheia\n",
    "#     pag.hotkey('ctrl', 'shift', 'f1')\n",
    "\n",
    "#     # vai em salvar como\n",
    "#     pag.press('alt')\n",
    "#     pag.press('a')\n",
    "#     pag.press('s')\n",
    "#     pag.press('tab')\n",
    "#     pag.press('down', presses=4)\n",
    "#     pag.press('enter')\n",
    "\n",
    "#     # coloca o nome do arquivo\n",
    "#     time.sleep(1)\n",
    "#     pcl.copy(i)\n",
    "#     pag.hotkey('ctrl', 'v')\n",
    "\n",
    "#     # vai até o caminho\n",
    "#     pag.press('tab', presses=10)\n",
    "#     pag.press('enter')\n",
    "\n",
    "#     # #copia e cola caminho\n",
    "#     pcl.copy(caminho_pasta)\n",
    "#     pag.hotkey('ctrl', 'v')\n",
    "#     pag.press('enter')\n",
    "\n",
    "#     # #salvar\n",
    "\n",
    "#     pag.press('tab')\n",
    "#     pag.press('tab')\n",
    "#     pag.press('tab')\n",
    "#     pag.press('tab')\n",
    "#     pag.press('tab')\n",
    "#     pag.press('tab')\n",
    "#     pag.press('tab')\n",
    "#     pag.press('tab')\n",
    "#     pag.press('tab')\n",
    "#     pag.press('tab')\n",
    "#     pag.press('tab')\n",
    "#     pag.press('tab')\n",
    "#     pag.press('tab')\n",
    "\n",
    "#     pag.press('enter')\n",
    "\n",
    "#     # # #confirmar subistituição\n",
    "#     pag.press('tab')\n",
    "#     pag.press('enter')\n",
    "\n",
    "#     # #fechar\n",
    "#     time.sleep(10)\n",
    "#     pag.hotkey('ctrl', 'f4')\n",
    "#     pag.press('tab')\n",
    "\n",
    "    p_f()"
   ]
  },
  {
   "cell_type": "code",
   "execution_count": 58,
   "id": "c95ffa9f",
   "metadata": {},
   "outputs": [],
   "source": [
    "pag.click(x=165, y=998)"
   ]
  },
  {
   "cell_type": "code",
   "execution_count": 40,
   "id": "b03e92f5",
   "metadata": {},
   "outputs": [
    {
     "name": "stdout",
     "output_type": "stream",
     "text": [
      "Size(width=1280, height=800)\n"
     ]
    },
    {
     "data": {
      "text/plain": [
       "'OK'"
      ]
     },
     "execution_count": 40,
     "metadata": {},
     "output_type": "execute_result"
    }
   ],
   "source": [
    "tamanho_tela = pag.size()\n",
    "print(tamanho_tela)\n",
    "pag.alert(tamanho_tela)"
   ]
  },
  {
   "cell_type": "code",
   "execution_count": 48,
   "id": "eff90735",
   "metadata": {},
   "outputs": [],
   "source": [
    "def alterar_resolucao():\n",
    "    \n",
    "    # olivio = 4 setas para baixo\n",
    "    \n",
    "    p_i(0.9)\n",
    "    pag.click(x=1270, y=991)\n",
    "\n",
    "    pag.press('win')\n",
    "    pcl.copy('resolução')\n",
    "    pag.hotkey('ctrl', 'v')\n",
    "    pag.press('enter')\n",
    "    pag.press('enter')\n",
    "\n",
    "    pag.press('down')\n",
    "    pag.press('down')\n",
    "\n",
    "    pag.press('enter')\n",
    "\n",
    "    pag.press('tab')\n",
    "    pag.press('enter')\n",
    "\n",
    "    p_f()"
   ]
  },
  {
   "cell_type": "code",
   "execution_count": 71,
   "id": "b1c105db",
   "metadata": {},
   "outputs": [],
   "source": [
    "alterar_resolucao()"
   ]
  },
  {
   "cell_type": "code",
   "execution_count": 67,
   "id": "4219da8d",
   "metadata": {},
   "outputs": [],
   "source": [
    "def volta_resolucao():\n",
    "\n",
    "    p_i(0.9)\n",
    "    pag.click(x=1270, y=991)\n",
    "\n",
    "    pag.press('win')\n",
    "    pcl.copy('resolução')\n",
    "    pag.hotkey('ctrl', 'v')\n",
    "    pag.press('enter')\n",
    "    pag.press('enter')\n",
    "\n",
    "    pag.press('up')\n",
    "    pag.press('up')\n",
    "\n",
    "    pag.press('enter')\n",
    "\n",
    "    pag.press('tab')\n",
    "    pag.press('enter')\n",
    "\n",
    "    p_f()"
   ]
  },
  {
   "cell_type": "code",
   "execution_count": 72,
   "id": "a039784a",
   "metadata": {},
   "outputs": [
    {
     "ename": "FailSafeException",
     "evalue": "PyAutoGUI fail-safe triggered from mouse moving to a corner of the screen. To disable this fail-safe, set pyautogui.FAILSAFE to False. DISABLING FAIL-SAFE IS NOT RECOMMENDED.",
     "output_type": "error",
     "traceback": [
      "\u001b[1;31m---------------------------------------------------------------------------\u001b[0m",
      "\u001b[1;31mFailSafeException\u001b[0m                         Traceback (most recent call last)",
      "\u001b[1;32m~\\AppData\\Local\\Temp\\ipykernel_5592\\66445523.py\u001b[0m in \u001b[0;36m<module>\u001b[1;34m\u001b[0m\n\u001b[1;32m----> 1\u001b[1;33m \u001b[0mvolta_resolucao\u001b[0m\u001b[1;33m(\u001b[0m\u001b[1;33m)\u001b[0m\u001b[1;33m\u001b[0m\u001b[1;33m\u001b[0m\u001b[0m\n\u001b[0m",
      "\u001b[1;32m~\\AppData\\Local\\Temp\\ipykernel_5592\\1320367125.py\u001b[0m in \u001b[0;36mvolta_resolucao\u001b[1;34m()\u001b[0m\n\u001b[0;32m     15\u001b[0m     \u001b[0mpag\u001b[0m\u001b[1;33m.\u001b[0m\u001b[0mpress\u001b[0m\u001b[1;33m(\u001b[0m\u001b[1;34m'enter'\u001b[0m\u001b[1;33m)\u001b[0m\u001b[1;33m\u001b[0m\u001b[1;33m\u001b[0m\u001b[0m\n\u001b[0;32m     16\u001b[0m \u001b[1;33m\u001b[0m\u001b[0m\n\u001b[1;32m---> 17\u001b[1;33m     \u001b[0mpag\u001b[0m\u001b[1;33m.\u001b[0m\u001b[0mpress\u001b[0m\u001b[1;33m(\u001b[0m\u001b[1;34m'tab'\u001b[0m\u001b[1;33m)\u001b[0m\u001b[1;33m\u001b[0m\u001b[1;33m\u001b[0m\u001b[0m\n\u001b[0m\u001b[0;32m     18\u001b[0m     \u001b[0mpag\u001b[0m\u001b[1;33m.\u001b[0m\u001b[0mpress\u001b[0m\u001b[1;33m(\u001b[0m\u001b[1;34m'enter'\u001b[0m\u001b[1;33m)\u001b[0m\u001b[1;33m\u001b[0m\u001b[1;33m\u001b[0m\u001b[0m\n\u001b[0;32m     19\u001b[0m \u001b[1;33m\u001b[0m\u001b[0m\n",
      "\u001b[1;32m~\\Anaconda3\\lib\\site-packages\\pyautogui\\__init__.py\u001b[0m in \u001b[0;36mwrapper\u001b[1;34m(*args, **kwargs)\u001b[0m\n\u001b[0;32m    595\u001b[0m     \u001b[1;33m@\u001b[0m\u001b[0mfunctools\u001b[0m\u001b[1;33m.\u001b[0m\u001b[0mwraps\u001b[0m\u001b[1;33m(\u001b[0m\u001b[0mwrappedFunction\u001b[0m\u001b[1;33m)\u001b[0m\u001b[1;33m\u001b[0m\u001b[1;33m\u001b[0m\u001b[0m\n\u001b[0;32m    596\u001b[0m     \u001b[1;32mdef\u001b[0m \u001b[0mwrapper\u001b[0m\u001b[1;33m(\u001b[0m\u001b[1;33m*\u001b[0m\u001b[0margs\u001b[0m\u001b[1;33m,\u001b[0m \u001b[1;33m**\u001b[0m\u001b[0mkwargs\u001b[0m\u001b[1;33m)\u001b[0m\u001b[1;33m:\u001b[0m\u001b[1;33m\u001b[0m\u001b[1;33m\u001b[0m\u001b[0m\n\u001b[1;32m--> 597\u001b[1;33m         \u001b[0mfailSafeCheck\u001b[0m\u001b[1;33m(\u001b[0m\u001b[1;33m)\u001b[0m\u001b[1;33m\u001b[0m\u001b[1;33m\u001b[0m\u001b[0m\n\u001b[0m\u001b[0;32m    598\u001b[0m         \u001b[0mreturnVal\u001b[0m \u001b[1;33m=\u001b[0m \u001b[0mwrappedFunction\u001b[0m\u001b[1;33m(\u001b[0m\u001b[1;33m*\u001b[0m\u001b[0margs\u001b[0m\u001b[1;33m,\u001b[0m \u001b[1;33m**\u001b[0m\u001b[0mkwargs\u001b[0m\u001b[1;33m)\u001b[0m\u001b[1;33m\u001b[0m\u001b[1;33m\u001b[0m\u001b[0m\n\u001b[0;32m    599\u001b[0m         \u001b[0m_handlePause\u001b[0m\u001b[1;33m(\u001b[0m\u001b[0mkwargs\u001b[0m\u001b[1;33m.\u001b[0m\u001b[0mget\u001b[0m\u001b[1;33m(\u001b[0m\u001b[1;34m\"_pause\"\u001b[0m\u001b[1;33m,\u001b[0m \u001b[1;32mTrue\u001b[0m\u001b[1;33m)\u001b[0m\u001b[1;33m)\u001b[0m\u001b[1;33m\u001b[0m\u001b[1;33m\u001b[0m\u001b[0m\n",
      "\u001b[1;32m~\\Anaconda3\\lib\\site-packages\\pyautogui\\__init__.py\u001b[0m in \u001b[0;36mfailSafeCheck\u001b[1;34m()\u001b[0m\n\u001b[0;32m   1720\u001b[0m \u001b[1;32mdef\u001b[0m \u001b[0mfailSafeCheck\u001b[0m\u001b[1;33m(\u001b[0m\u001b[1;33m)\u001b[0m\u001b[1;33m:\u001b[0m\u001b[1;33m\u001b[0m\u001b[1;33m\u001b[0m\u001b[0m\n\u001b[0;32m   1721\u001b[0m     \u001b[1;32mif\u001b[0m \u001b[0mFAILSAFE\u001b[0m \u001b[1;32mand\u001b[0m \u001b[0mtuple\u001b[0m\u001b[1;33m(\u001b[0m\u001b[0mposition\u001b[0m\u001b[1;33m(\u001b[0m\u001b[1;33m)\u001b[0m\u001b[1;33m)\u001b[0m \u001b[1;32min\u001b[0m \u001b[0mFAILSAFE_POINTS\u001b[0m\u001b[1;33m:\u001b[0m\u001b[1;33m\u001b[0m\u001b[1;33m\u001b[0m\u001b[0m\n\u001b[1;32m-> 1722\u001b[1;33m         raise FailSafeException(\n\u001b[0m\u001b[0;32m   1723\u001b[0m             \u001b[1;34m\"PyAutoGUI fail-safe triggered from mouse moving to a corner of the screen. To disable this fail-safe, set pyautogui.FAILSAFE to False. DISABLING FAIL-SAFE IS NOT RECOMMENDED.\"\u001b[0m\u001b[1;33m\u001b[0m\u001b[1;33m\u001b[0m\u001b[0m\n\u001b[0;32m   1724\u001b[0m         )\n",
      "\u001b[1;31mFailSafeException\u001b[0m: PyAutoGUI fail-safe triggered from mouse moving to a corner of the screen. To disable this fail-safe, set pyautogui.FAILSAFE to False. DISABLING FAIL-SAFE IS NOT RECOMMENDED."
     ]
    }
   ],
   "source": [
    "volta_resolucao()"
   ]
  },
  {
   "cell_type": "code",
   "execution_count": null,
   "id": "d6a4f25e",
   "metadata": {},
   "outputs": [],
   "source": []
  }
 ],
 "metadata": {
  "kernelspec": {
   "display_name": "Python 3 (ipykernel)",
   "language": "python",
   "name": "python3"
  },
  "language_info": {
   "codemirror_mode": {
    "name": "ipython",
    "version": 3
   },
   "file_extension": ".py",
   "mimetype": "text/x-python",
   "name": "python",
   "nbconvert_exporter": "python",
   "pygments_lexer": "ipython3",
   "version": "3.9.13"
  }
 },
 "nbformat": 4,
 "nbformat_minor": 5
}
